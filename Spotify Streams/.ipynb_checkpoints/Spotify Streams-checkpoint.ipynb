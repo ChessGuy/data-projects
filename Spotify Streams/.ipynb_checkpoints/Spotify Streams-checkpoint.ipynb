{
 "cells": [
  {
   "cell_type": "markdown",
   "id": "0eacd103-b8bc-41a6-b074-c5c9cf43c530",
   "metadata": {},
   "source": [
    "# **Spotify Streams Data Analysis**\n",
    "\n",
    "<img src='stockvault-colorful-music-background277212.jpg'>\n",
    "\n",
    "## **Table of Contents**\n",
    "\n",
    "1. [Problem Statement](#problem)\n",
    "2. [Data Loading and Exploration](#data-loading)\n",
    "3. [Data Cleaning and Preparation](#data-cleaning)\n",
    "[<ul>3.1 Dealing with Missing and Duplicated Values</ul>](#missing)\n",
    "[<ul>3.2 Adding and Modifying Columns</ul>](#adding)\n",
    "4. [Data Visualization in Power BI](#visual)\n",
    "5. [Analysis](#analysis)\n",
    "[<ul>5.1 General Questions</ul>](#quest)\n",
    "[<ul>5.2 Inferential Statistics</ul>](#stats)\n",
    "6. [Conclusion](#conclude)\n",
    "7. [Appendix](#append)\n",
    "\n",
    "---\n",
    "\n"
   ]
  },
  {
   "cell_type": "markdown",
   "id": "59812b81-3e6d-4918-b2da-4070c98a6d26",
   "metadata": {},
   "source": [
    "## **1. Problem Statement** <a class=\"anchor\" id=\"problem\"></a>"
   ]
  },
  {
   "cell_type": "markdown",
   "id": "e5ad7b4b-4a14-4db0-8873-8802dfb5ede3",
   "metadata": {},
   "source": [
    "The goal of this analysis is to explore the [Spotify Stream Data](https://www.kaggle.com/datasets/joebeachcapital/30000-spotify-songs) from Kaggle  and to see if there are any trends between the track features and popularity.  More specifically, the results of this analysis could be useful to music producers, song writers, and bands to incorporate the features that affect popularity in their future songs and albums.\n",
    "\n",
    "The dataset author's description of the columns is in the Appendix section.  "
   ]
  },
  {
   "cell_type": "markdown",
   "id": "fdb5d05f-7be3-4bea-b7b3-0acf8244e783",
   "metadata": {},
   "source": [
    "---"
   ]
  },
  {
   "cell_type": "markdown",
   "id": "654c30c0-3c6d-489f-968d-a5c555bc2e90",
   "metadata": {},
   "source": [
    "## **2. Data Loading and Exploration** <a class=\"anchor\" id=\"data-loading\"></a>"
   ]
  },
  {
   "cell_type": "code",
   "execution_count": 6,
   "id": "12e0d259-ee9c-4286-a53a-76ae45786a21",
   "metadata": {
    "tags": []
   },
   "outputs": [],
   "source": [
    "import numpy as np\n",
    "import pandas as pd\n",
    "import matplotlib.pyplot as plt\n",
    "import seaborn as sns\n",
    "import scipy.stats as stats"
   ]
  },
  {
   "cell_type": "code",
   "execution_count": 7,
   "id": "96613904-45dd-4f1c-be7e-26e635f24b19",
   "metadata": {
    "tags": []
   },
   "outputs": [],
   "source": [
    "spotify_data_raw = pd.read_csv('spotify_data.csv')"
   ]
  },
  {
   "cell_type": "code",
   "execution_count": 8,
   "id": "1220e7e2-0c86-4b66-b85e-4bdfb1875d50",
   "metadata": {
    "tags": []
   },
   "outputs": [
    {
     "data": {
      "text/html": [
       "<div>\n",
       "<style scoped>\n",
       "    .dataframe tbody tr th:only-of-type {\n",
       "        vertical-align: middle;\n",
       "    }\n",
       "\n",
       "    .dataframe tbody tr th {\n",
       "        vertical-align: top;\n",
       "    }\n",
       "\n",
       "    .dataframe thead th {\n",
       "        text-align: right;\n",
       "    }\n",
       "</style>\n",
       "<table border=\"1\" class=\"dataframe\">\n",
       "  <thead>\n",
       "    <tr style=\"text-align: right;\">\n",
       "      <th></th>\n",
       "      <th>track_id</th>\n",
       "      <th>track_name</th>\n",
       "      <th>track_artist</th>\n",
       "      <th>track_popularity</th>\n",
       "      <th>track_album_id</th>\n",
       "      <th>track_album_name</th>\n",
       "      <th>track_album_release_date</th>\n",
       "      <th>playlist_name</th>\n",
       "      <th>playlist_id</th>\n",
       "      <th>playlist_genre</th>\n",
       "      <th>...</th>\n",
       "      <th>key</th>\n",
       "      <th>loudness</th>\n",
       "      <th>mode</th>\n",
       "      <th>speechiness</th>\n",
       "      <th>acousticness</th>\n",
       "      <th>instrumentalness</th>\n",
       "      <th>liveness</th>\n",
       "      <th>valence</th>\n",
       "      <th>tempo</th>\n",
       "      <th>duration_ms</th>\n",
       "    </tr>\n",
       "  </thead>\n",
       "  <tbody>\n",
       "    <tr>\n",
       "      <th>0</th>\n",
       "      <td>6f807x0ima9a1j3VPbc7VN</td>\n",
       "      <td>I Don't Care (with Justin Bieber) - Loud Luxur...</td>\n",
       "      <td>Ed Sheeran</td>\n",
       "      <td>66</td>\n",
       "      <td>2oCs0DGTsRO98Gh5ZSl2Cx</td>\n",
       "      <td>I Don't Care (with Justin Bieber) [Loud Luxury...</td>\n",
       "      <td>6/14/2019</td>\n",
       "      <td>Pop Remix</td>\n",
       "      <td>37i9dQZF1DXcZDD7cfEKhW</td>\n",
       "      <td>pop</td>\n",
       "      <td>...</td>\n",
       "      <td>6</td>\n",
       "      <td>-2.634</td>\n",
       "      <td>1</td>\n",
       "      <td>0.0583</td>\n",
       "      <td>0.1020</td>\n",
       "      <td>0.000000</td>\n",
       "      <td>0.0653</td>\n",
       "      <td>0.518</td>\n",
       "      <td>122.036</td>\n",
       "      <td>194754</td>\n",
       "    </tr>\n",
       "    <tr>\n",
       "      <th>1</th>\n",
       "      <td>0r7CVbZTWZgbTCYdfa2P31</td>\n",
       "      <td>Memories - Dillon Francis Remix</td>\n",
       "      <td>Maroon 5</td>\n",
       "      <td>67</td>\n",
       "      <td>63rPSO264uRjW1X5E6cWv6</td>\n",
       "      <td>Memories (Dillon Francis Remix)</td>\n",
       "      <td>12/13/2019</td>\n",
       "      <td>Pop Remix</td>\n",
       "      <td>37i9dQZF1DXcZDD7cfEKhW</td>\n",
       "      <td>pop</td>\n",
       "      <td>...</td>\n",
       "      <td>11</td>\n",
       "      <td>-4.969</td>\n",
       "      <td>1</td>\n",
       "      <td>0.0373</td>\n",
       "      <td>0.0724</td>\n",
       "      <td>0.004210</td>\n",
       "      <td>0.3570</td>\n",
       "      <td>0.693</td>\n",
       "      <td>99.972</td>\n",
       "      <td>162600</td>\n",
       "    </tr>\n",
       "    <tr>\n",
       "      <th>2</th>\n",
       "      <td>1z1Hg7Vb0AhHDiEmnDE79l</td>\n",
       "      <td>All the Time - Don Diablo Remix</td>\n",
       "      <td>Zara Larsson</td>\n",
       "      <td>70</td>\n",
       "      <td>1HoSmj2eLcsrR0vE9gThr4</td>\n",
       "      <td>All the Time (Don Diablo Remix)</td>\n",
       "      <td>7/5/2019</td>\n",
       "      <td>Pop Remix</td>\n",
       "      <td>37i9dQZF1DXcZDD7cfEKhW</td>\n",
       "      <td>pop</td>\n",
       "      <td>...</td>\n",
       "      <td>1</td>\n",
       "      <td>-3.432</td>\n",
       "      <td>0</td>\n",
       "      <td>0.0742</td>\n",
       "      <td>0.0794</td>\n",
       "      <td>0.000023</td>\n",
       "      <td>0.1100</td>\n",
       "      <td>0.613</td>\n",
       "      <td>124.008</td>\n",
       "      <td>176616</td>\n",
       "    </tr>\n",
       "    <tr>\n",
       "      <th>3</th>\n",
       "      <td>75FpbthrwQmzHlBJLuGdC7</td>\n",
       "      <td>Call You Mine - Keanu Silva Remix</td>\n",
       "      <td>The Chainsmokers</td>\n",
       "      <td>60</td>\n",
       "      <td>1nqYsOef1yKKuGOVchbsk6</td>\n",
       "      <td>Call You Mine - The Remixes</td>\n",
       "      <td>7/19/2019</td>\n",
       "      <td>Pop Remix</td>\n",
       "      <td>37i9dQZF1DXcZDD7cfEKhW</td>\n",
       "      <td>pop</td>\n",
       "      <td>...</td>\n",
       "      <td>7</td>\n",
       "      <td>-3.778</td>\n",
       "      <td>1</td>\n",
       "      <td>0.1020</td>\n",
       "      <td>0.0287</td>\n",
       "      <td>0.000009</td>\n",
       "      <td>0.2040</td>\n",
       "      <td>0.277</td>\n",
       "      <td>121.956</td>\n",
       "      <td>169093</td>\n",
       "    </tr>\n",
       "    <tr>\n",
       "      <th>4</th>\n",
       "      <td>1e8PAfcKUYoKkxPhrHqw4x</td>\n",
       "      <td>Someone You Loved - Future Humans Remix</td>\n",
       "      <td>Lewis Capaldi</td>\n",
       "      <td>69</td>\n",
       "      <td>7m7vv9wlQ4i0LFuJiE2zsQ</td>\n",
       "      <td>Someone You Loved (Future Humans Remix)</td>\n",
       "      <td>3/5/2019</td>\n",
       "      <td>Pop Remix</td>\n",
       "      <td>37i9dQZF1DXcZDD7cfEKhW</td>\n",
       "      <td>pop</td>\n",
       "      <td>...</td>\n",
       "      <td>1</td>\n",
       "      <td>-4.672</td>\n",
       "      <td>1</td>\n",
       "      <td>0.0359</td>\n",
       "      <td>0.0803</td>\n",
       "      <td>0.000000</td>\n",
       "      <td>0.0833</td>\n",
       "      <td>0.725</td>\n",
       "      <td>123.976</td>\n",
       "      <td>189052</td>\n",
       "    </tr>\n",
       "  </tbody>\n",
       "</table>\n",
       "<p>5 rows × 23 columns</p>\n",
       "</div>"
      ],
      "text/plain": [
       "                 track_id                                         track_name  \\\n",
       "0  6f807x0ima9a1j3VPbc7VN  I Don't Care (with Justin Bieber) - Loud Luxur...   \n",
       "1  0r7CVbZTWZgbTCYdfa2P31                    Memories - Dillon Francis Remix   \n",
       "2  1z1Hg7Vb0AhHDiEmnDE79l                    All the Time - Don Diablo Remix   \n",
       "3  75FpbthrwQmzHlBJLuGdC7                  Call You Mine - Keanu Silva Remix   \n",
       "4  1e8PAfcKUYoKkxPhrHqw4x            Someone You Loved - Future Humans Remix   \n",
       "\n",
       "       track_artist  track_popularity          track_album_id  \\\n",
       "0        Ed Sheeran                66  2oCs0DGTsRO98Gh5ZSl2Cx   \n",
       "1          Maroon 5                67  63rPSO264uRjW1X5E6cWv6   \n",
       "2      Zara Larsson                70  1HoSmj2eLcsrR0vE9gThr4   \n",
       "3  The Chainsmokers                60  1nqYsOef1yKKuGOVchbsk6   \n",
       "4     Lewis Capaldi                69  7m7vv9wlQ4i0LFuJiE2zsQ   \n",
       "\n",
       "                                    track_album_name track_album_release_date  \\\n",
       "0  I Don't Care (with Justin Bieber) [Loud Luxury...                6/14/2019   \n",
       "1                    Memories (Dillon Francis Remix)               12/13/2019   \n",
       "2                    All the Time (Don Diablo Remix)                 7/5/2019   \n",
       "3                        Call You Mine - The Remixes                7/19/2019   \n",
       "4            Someone You Loved (Future Humans Remix)                 3/5/2019   \n",
       "\n",
       "  playlist_name             playlist_id playlist_genre  ... key  loudness  \\\n",
       "0     Pop Remix  37i9dQZF1DXcZDD7cfEKhW            pop  ...   6    -2.634   \n",
       "1     Pop Remix  37i9dQZF1DXcZDD7cfEKhW            pop  ...  11    -4.969   \n",
       "2     Pop Remix  37i9dQZF1DXcZDD7cfEKhW            pop  ...   1    -3.432   \n",
       "3     Pop Remix  37i9dQZF1DXcZDD7cfEKhW            pop  ...   7    -3.778   \n",
       "4     Pop Remix  37i9dQZF1DXcZDD7cfEKhW            pop  ...   1    -4.672   \n",
       "\n",
       "   mode  speechiness  acousticness  instrumentalness  liveness  valence  \\\n",
       "0     1       0.0583        0.1020          0.000000    0.0653    0.518   \n",
       "1     1       0.0373        0.0724          0.004210    0.3570    0.693   \n",
       "2     0       0.0742        0.0794          0.000023    0.1100    0.613   \n",
       "3     1       0.1020        0.0287          0.000009    0.2040    0.277   \n",
       "4     1       0.0359        0.0803          0.000000    0.0833    0.725   \n",
       "\n",
       "     tempo  duration_ms  \n",
       "0  122.036       194754  \n",
       "1   99.972       162600  \n",
       "2  124.008       176616  \n",
       "3  121.956       169093  \n",
       "4  123.976       189052  \n",
       "\n",
       "[5 rows x 23 columns]"
      ]
     },
     "execution_count": 8,
     "metadata": {},
     "output_type": "execute_result"
    }
   ],
   "source": [
    "spotify_data_raw.head()"
   ]
  },
  {
   "cell_type": "code",
   "execution_count": 9,
   "id": "25e64c78-0a02-46c2-a59e-54236d2b8b93",
   "metadata": {
    "tags": []
   },
   "outputs": [
    {
     "data": {
      "text/plain": [
       "(32833, 23)"
      ]
     },
     "execution_count": 9,
     "metadata": {},
     "output_type": "execute_result"
    }
   ],
   "source": [
    "spotify_data_raw.shape"
   ]
  },
  {
   "cell_type": "markdown",
   "id": "6959cec4-b498-4644-9af0-4e233e28ae2b",
   "metadata": {},
   "source": [
    "The author of the dataset says that there are 30,000 songs in the dataset, but it looks like there are around 3,000 more."
   ]
  },
  {
   "cell_type": "code",
   "execution_count": 11,
   "id": "e0996900-d11f-4a19-ab8f-529d6ba7b557",
   "metadata": {
    "tags": []
   },
   "outputs": [
    {
     "name": "stdout",
     "output_type": "stream",
     "text": [
      "<class 'pandas.core.frame.DataFrame'>\n",
      "RangeIndex: 32833 entries, 0 to 32832\n",
      "Data columns (total 23 columns):\n",
      " #   Column                    Non-Null Count  Dtype  \n",
      "---  ------                    --------------  -----  \n",
      " 0   track_id                  32833 non-null  object \n",
      " 1   track_name                32828 non-null  object \n",
      " 2   track_artist              32828 non-null  object \n",
      " 3   track_popularity          32833 non-null  int64  \n",
      " 4   track_album_id            32833 non-null  object \n",
      " 5   track_album_name          32828 non-null  object \n",
      " 6   track_album_release_date  32833 non-null  object \n",
      " 7   playlist_name             32833 non-null  object \n",
      " 8   playlist_id               32833 non-null  object \n",
      " 9   playlist_genre            32833 non-null  object \n",
      " 10  playlist_subgenre         32833 non-null  object \n",
      " 11  danceability              32833 non-null  float64\n",
      " 12  energy                    32833 non-null  float64\n",
      " 13  key                       32833 non-null  int64  \n",
      " 14  loudness                  32833 non-null  float64\n",
      " 15  mode                      32833 non-null  int64  \n",
      " 16  speechiness               32833 non-null  float64\n",
      " 17  acousticness              32833 non-null  float64\n",
      " 18  instrumentalness          32833 non-null  float64\n",
      " 19  liveness                  32833 non-null  float64\n",
      " 20  valence                   32833 non-null  float64\n",
      " 21  tempo                     32833 non-null  float64\n",
      " 22  duration_ms               32833 non-null  int64  \n",
      "dtypes: float64(9), int64(4), object(10)\n",
      "memory usage: 5.8+ MB\n"
     ]
    }
   ],
   "source": [
    "spotify_data_raw.info()"
   ]
  },
  {
   "cell_type": "code",
   "execution_count": 12,
   "id": "1bb255ab-0950-46ff-9a7d-83bf17a9d2f5",
   "metadata": {
    "tags": []
   },
   "outputs": [
    {
     "data": {
      "text/plain": [
       "10692"
      ]
     },
     "execution_count": 12,
     "metadata": {},
     "output_type": "execute_result"
    }
   ],
   "source": [
    "spotify_data_raw['track_artist'].nunique()"
   ]
  },
  {
   "cell_type": "markdown",
   "id": "dd1bce20-1c69-4079-9408-32b15f78bc86",
   "metadata": {},
   "source": [
    "Of the 32,000+ tracks in the dataset, there are around 10,500 different artists.  That seems to be a representative sample of the Spotify database."
   ]
  },
  {
   "cell_type": "code",
   "execution_count": 14,
   "id": "054dd685-d81e-4711-af4a-2d8dc229782e",
   "metadata": {
    "tags": []
   },
   "outputs": [
    {
     "data": {
      "text/plain": [
       "playlist_genre\n",
       "edm      6043\n",
       "rap      5746\n",
       "pop      5507\n",
       "r&b      5431\n",
       "latin    5155\n",
       "rock     4951\n",
       "Name: count, dtype: int64"
      ]
     },
     "execution_count": 14,
     "metadata": {},
     "output_type": "execute_result"
    }
   ],
   "source": [
    "spotify_data_raw['playlist_genre'].value_counts()"
   ]
  },
  {
   "cell_type": "markdown",
   "id": "4ee1e148-acce-4891-a3e1-befdf01ea8a5",
   "metadata": {},
   "source": [
    "The dataset has a uniform distribution of the major genres within the tracks."
   ]
  },
  {
   "cell_type": "code",
   "execution_count": 16,
   "id": "4a3b15de-df9a-4aee-bbf0-0e7bb6c23be1",
   "metadata": {
    "tags": []
   },
   "outputs": [
    {
     "data": {
      "text/plain": [
       "count    32833.000000\n",
       "mean        42.477081\n",
       "std         24.984074\n",
       "min          0.000000\n",
       "25%         24.000000\n",
       "50%         45.000000\n",
       "75%         62.000000\n",
       "max        100.000000\n",
       "Name: track_popularity, dtype: float64"
      ]
     },
     "execution_count": 16,
     "metadata": {},
     "output_type": "execute_result"
    }
   ],
   "source": [
    "spotify_data_raw['track_popularity'].describe()"
   ]
  },
  {
   "cell_type": "markdown",
   "id": "3abd94d6-59c0-41fa-86bc-61dfae61eecb",
   "metadata": {},
   "source": [
    "This is the main variable the analysis will focus on to see if there are relationships between it and the other track features.  "
   ]
  },
  {
   "cell_type": "markdown",
   "id": "2b9c6d1a-8d1b-45f1-91e7-e10c68e33fbc",
   "metadata": {},
   "source": [
    "---"
   ]
  },
  {
   "cell_type": "markdown",
   "id": "4ffa4671-ea17-414e-8b9d-90c771ea9159",
   "metadata": {},
   "source": [
    "## **3. Data Cleaning and Preparation** <a class=\"anchor\" id=\"data-cleaning\"></a>"
   ]
  },
  {
   "cell_type": "markdown",
   "id": "21139669-4f88-4440-b581-51a894f3c65d",
   "metadata": {},
   "source": [
    "### 3.1 Dealing with Missing and Duplicated Values <a class=\"anchor\" id=\"missing\"></a>"
   ]
  },
  {
   "cell_type": "code",
   "execution_count": 21,
   "id": "a17a776b-2243-4d0d-819a-764b707ecdc2",
   "metadata": {
    "tags": []
   },
   "outputs": [
    {
     "data": {
      "text/plain": [
       "track_id                    0\n",
       "track_name                  5\n",
       "track_artist                5\n",
       "track_popularity            0\n",
       "track_album_id              0\n",
       "track_album_name            5\n",
       "track_album_release_date    0\n",
       "playlist_name               0\n",
       "playlist_id                 0\n",
       "playlist_genre              0\n",
       "playlist_subgenre           0\n",
       "danceability                0\n",
       "energy                      0\n",
       "key                         0\n",
       "loudness                    0\n",
       "mode                        0\n",
       "speechiness                 0\n",
       "acousticness                0\n",
       "instrumentalness            0\n",
       "liveness                    0\n",
       "valence                     0\n",
       "tempo                       0\n",
       "duration_ms                 0\n",
       "dtype: int64"
      ]
     },
     "execution_count": 21,
     "metadata": {},
     "output_type": "execute_result"
    }
   ],
   "source": [
    "spotify_data_raw.isna().sum()"
   ]
  },
  {
   "cell_type": "code",
   "execution_count": 22,
   "id": "3002035d-98fb-4361-a5cd-c3fb84d4eef2",
   "metadata": {
    "tags": []
   },
   "outputs": [
    {
     "data": {
      "text/html": [
       "<div>\n",
       "<style scoped>\n",
       "    .dataframe tbody tr th:only-of-type {\n",
       "        vertical-align: middle;\n",
       "    }\n",
       "\n",
       "    .dataframe tbody tr th {\n",
       "        vertical-align: top;\n",
       "    }\n",
       "\n",
       "    .dataframe thead th {\n",
       "        text-align: right;\n",
       "    }\n",
       "</style>\n",
       "<table border=\"1\" class=\"dataframe\">\n",
       "  <thead>\n",
       "    <tr style=\"text-align: right;\">\n",
       "      <th></th>\n",
       "      <th>track_id</th>\n",
       "      <th>track_name</th>\n",
       "      <th>track_artist</th>\n",
       "      <th>track_popularity</th>\n",
       "      <th>track_album_id</th>\n",
       "      <th>track_album_name</th>\n",
       "      <th>track_album_release_date</th>\n",
       "      <th>playlist_name</th>\n",
       "      <th>playlist_id</th>\n",
       "      <th>playlist_genre</th>\n",
       "      <th>...</th>\n",
       "      <th>key</th>\n",
       "      <th>loudness</th>\n",
       "      <th>mode</th>\n",
       "      <th>speechiness</th>\n",
       "      <th>acousticness</th>\n",
       "      <th>instrumentalness</th>\n",
       "      <th>liveness</th>\n",
       "      <th>valence</th>\n",
       "      <th>tempo</th>\n",
       "      <th>duration_ms</th>\n",
       "    </tr>\n",
       "  </thead>\n",
       "  <tbody>\n",
       "    <tr>\n",
       "      <th>8151</th>\n",
       "      <td>69gRFGOWY9OMpFJgFol1u0</td>\n",
       "      <td>NaN</td>\n",
       "      <td>NaN</td>\n",
       "      <td>0</td>\n",
       "      <td>717UG2du6utFe7CdmpuUe3</td>\n",
       "      <td>NaN</td>\n",
       "      <td>1/5/2012</td>\n",
       "      <td>HIP&amp;HOP</td>\n",
       "      <td>5DyJsJZOpMJh34WvUrQzMV</td>\n",
       "      <td>rap</td>\n",
       "      <td>...</td>\n",
       "      <td>6</td>\n",
       "      <td>-7.635</td>\n",
       "      <td>1</td>\n",
       "      <td>0.1760</td>\n",
       "      <td>0.0410</td>\n",
       "      <td>0.00000</td>\n",
       "      <td>0.1160</td>\n",
       "      <td>0.649</td>\n",
       "      <td>95.999</td>\n",
       "      <td>282707</td>\n",
       "    </tr>\n",
       "    <tr>\n",
       "      <th>9282</th>\n",
       "      <td>5cjecvX0CmC9gK0Laf5EMQ</td>\n",
       "      <td>NaN</td>\n",
       "      <td>NaN</td>\n",
       "      <td>0</td>\n",
       "      <td>3luHJEPw434tvNbme3SP8M</td>\n",
       "      <td>NaN</td>\n",
       "      <td>12/1/2017</td>\n",
       "      <td>GANGSTA Rap</td>\n",
       "      <td>5GA8GDo7RQC3JEanT81B3g</td>\n",
       "      <td>rap</td>\n",
       "      <td>...</td>\n",
       "      <td>11</td>\n",
       "      <td>-5.364</td>\n",
       "      <td>0</td>\n",
       "      <td>0.3190</td>\n",
       "      <td>0.0534</td>\n",
       "      <td>0.00000</td>\n",
       "      <td>0.5530</td>\n",
       "      <td>0.191</td>\n",
       "      <td>146.153</td>\n",
       "      <td>202235</td>\n",
       "    </tr>\n",
       "    <tr>\n",
       "      <th>9283</th>\n",
       "      <td>5TTzhRSWQS4Yu8xTgAuq6D</td>\n",
       "      <td>NaN</td>\n",
       "      <td>NaN</td>\n",
       "      <td>0</td>\n",
       "      <td>3luHJEPw434tvNbme3SP8M</td>\n",
       "      <td>NaN</td>\n",
       "      <td>12/1/2017</td>\n",
       "      <td>GANGSTA Rap</td>\n",
       "      <td>5GA8GDo7RQC3JEanT81B3g</td>\n",
       "      <td>rap</td>\n",
       "      <td>...</td>\n",
       "      <td>10</td>\n",
       "      <td>-5.907</td>\n",
       "      <td>0</td>\n",
       "      <td>0.3070</td>\n",
       "      <td>0.0963</td>\n",
       "      <td>0.00000</td>\n",
       "      <td>0.0888</td>\n",
       "      <td>0.505</td>\n",
       "      <td>86.839</td>\n",
       "      <td>206465</td>\n",
       "    </tr>\n",
       "    <tr>\n",
       "      <th>19568</th>\n",
       "      <td>3VKFip3OdAvv4OfNTgFWeQ</td>\n",
       "      <td>NaN</td>\n",
       "      <td>NaN</td>\n",
       "      <td>0</td>\n",
       "      <td>717UG2du6utFe7CdmpuUe3</td>\n",
       "      <td>NaN</td>\n",
       "      <td>1/5/2012</td>\n",
       "      <td>Reggaeton viejito🔥</td>\n",
       "      <td>0si5tw70PIgPkY1Eva6V8f</td>\n",
       "      <td>latin</td>\n",
       "      <td>...</td>\n",
       "      <td>11</td>\n",
       "      <td>-6.075</td>\n",
       "      <td>0</td>\n",
       "      <td>0.0366</td>\n",
       "      <td>0.0606</td>\n",
       "      <td>0.00653</td>\n",
       "      <td>0.1030</td>\n",
       "      <td>0.726</td>\n",
       "      <td>97.017</td>\n",
       "      <td>252773</td>\n",
       "    </tr>\n",
       "    <tr>\n",
       "      <th>19811</th>\n",
       "      <td>69gRFGOWY9OMpFJgFol1u0</td>\n",
       "      <td>NaN</td>\n",
       "      <td>NaN</td>\n",
       "      <td>0</td>\n",
       "      <td>717UG2du6utFe7CdmpuUe3</td>\n",
       "      <td>NaN</td>\n",
       "      <td>1/5/2012</td>\n",
       "      <td>latin hip hop</td>\n",
       "      <td>3nH8aytdqNeRbcRCg3dw9q</td>\n",
       "      <td>latin</td>\n",
       "      <td>...</td>\n",
       "      <td>6</td>\n",
       "      <td>-7.635</td>\n",
       "      <td>1</td>\n",
       "      <td>0.1760</td>\n",
       "      <td>0.0410</td>\n",
       "      <td>0.00000</td>\n",
       "      <td>0.1160</td>\n",
       "      <td>0.649</td>\n",
       "      <td>95.999</td>\n",
       "      <td>282707</td>\n",
       "    </tr>\n",
       "  </tbody>\n",
       "</table>\n",
       "<p>5 rows × 23 columns</p>\n",
       "</div>"
      ],
      "text/plain": [
       "                     track_id track_name track_artist  track_popularity  \\\n",
       "8151   69gRFGOWY9OMpFJgFol1u0        NaN          NaN                 0   \n",
       "9282   5cjecvX0CmC9gK0Laf5EMQ        NaN          NaN                 0   \n",
       "9283   5TTzhRSWQS4Yu8xTgAuq6D        NaN          NaN                 0   \n",
       "19568  3VKFip3OdAvv4OfNTgFWeQ        NaN          NaN                 0   \n",
       "19811  69gRFGOWY9OMpFJgFol1u0        NaN          NaN                 0   \n",
       "\n",
       "               track_album_id track_album_name track_album_release_date  \\\n",
       "8151   717UG2du6utFe7CdmpuUe3              NaN                 1/5/2012   \n",
       "9282   3luHJEPw434tvNbme3SP8M              NaN                12/1/2017   \n",
       "9283   3luHJEPw434tvNbme3SP8M              NaN                12/1/2017   \n",
       "19568  717UG2du6utFe7CdmpuUe3              NaN                 1/5/2012   \n",
       "19811  717UG2du6utFe7CdmpuUe3              NaN                 1/5/2012   \n",
       "\n",
       "            playlist_name             playlist_id playlist_genre  ... key  \\\n",
       "8151              HIP&HOP  5DyJsJZOpMJh34WvUrQzMV            rap  ...   6   \n",
       "9282          GANGSTA Rap  5GA8GDo7RQC3JEanT81B3g            rap  ...  11   \n",
       "9283          GANGSTA Rap  5GA8GDo7RQC3JEanT81B3g            rap  ...  10   \n",
       "19568  Reggaeton viejito🔥  0si5tw70PIgPkY1Eva6V8f          latin  ...  11   \n",
       "19811       latin hip hop  3nH8aytdqNeRbcRCg3dw9q          latin  ...   6   \n",
       "\n",
       "       loudness  mode  speechiness  acousticness  instrumentalness  liveness  \\\n",
       "8151     -7.635     1       0.1760        0.0410           0.00000    0.1160   \n",
       "9282     -5.364     0       0.3190        0.0534           0.00000    0.5530   \n",
       "9283     -5.907     0       0.3070        0.0963           0.00000    0.0888   \n",
       "19568    -6.075     0       0.0366        0.0606           0.00653    0.1030   \n",
       "19811    -7.635     1       0.1760        0.0410           0.00000    0.1160   \n",
       "\n",
       "       valence    tempo  duration_ms  \n",
       "8151     0.649   95.999       282707  \n",
       "9282     0.191  146.153       202235  \n",
       "9283     0.505   86.839       206465  \n",
       "19568    0.726   97.017       252773  \n",
       "19811    0.649   95.999       282707  \n",
       "\n",
       "[5 rows x 23 columns]"
      ]
     },
     "execution_count": 22,
     "metadata": {},
     "output_type": "execute_result"
    }
   ],
   "source": [
    "spotify_data_raw[spotify_data_raw.isnull().any(axis=1)]"
   ]
  },
  {
   "cell_type": "markdown",
   "id": "eb4fd093-f3d4-4973-8050-8e07a02378e0",
   "metadata": {},
   "source": [
    "These five tracks are missing the name, artist, and the album name, but they have all of the rest of the information.  They could probably be left in for the analysis, but they will be removed just to make sure the dataset is clean."
   ]
  },
  {
   "cell_type": "code",
   "execution_count": 24,
   "id": "001b0ee1-c492-48e3-94c6-fe66df646531",
   "metadata": {},
   "outputs": [],
   "source": [
    "spotify_data_dropna = spotify_data_raw.dropna(subset='track_name')"
   ]
  },
  {
   "cell_type": "code",
   "execution_count": 25,
   "id": "e4ad21eb-1163-4776-8518-b8e5a82603cf",
   "metadata": {},
   "outputs": [
    {
     "data": {
      "text/plain": [
       "(32828, 23)"
      ]
     },
     "execution_count": 25,
     "metadata": {},
     "output_type": "execute_result"
    }
   ],
   "source": [
    "spotify_data_dropna.shape"
   ]
  },
  {
   "cell_type": "code",
   "execution_count": 26,
   "id": "fe975104-466b-48c8-ae6a-485676fb9608",
   "metadata": {
    "tags": []
   },
   "outputs": [
    {
     "data": {
      "text/plain": [
       "0"
      ]
     },
     "execution_count": 26,
     "metadata": {},
     "output_type": "execute_result"
    }
   ],
   "source": [
    "spotify_data_dropna.duplicated().sum()"
   ]
  },
  {
   "cell_type": "code",
   "execution_count": 27,
   "id": "02886c94-4492-4859-b894-bd3cf091e583",
   "metadata": {
    "tags": []
   },
   "outputs": [
    {
     "data": {
      "text/plain": [
       "4476"
      ]
     },
     "execution_count": 27,
     "metadata": {},
     "output_type": "execute_result"
    }
   ],
   "source": [
    "spotify_data_dropna.duplicated(subset='track_id').sum()"
   ]
  },
  {
   "cell_type": "markdown",
   "id": "59158345-ea0c-44ec-afb2-b9e88d548b92",
   "metadata": {},
   "source": [
    "There are no duplicated rows in the dataset.  However, there are 4476 tracks that overlap with another track's <code>track_id</code>.  This issue needs to be explored further."
   ]
  },
  {
   "cell_type": "code",
   "execution_count": 29,
   "id": "6793f89d-902c-44f4-9059-b665459b76e1",
   "metadata": {
    "tags": []
   },
   "outputs": [
    {
     "data": {
      "text/plain": [
       "track_id                track_name                                \n",
       "7BKLCZ1jbUBVqRi2FVlTVw  Closer (feat. Halsey)                         9\n",
       "14sOS5L36385FJ3OL8hew4  Happy Now                                     8\n",
       "3eekarcy7kvN4yt5ZFzltW  HIGHEST IN THE ROOM                           8\n",
       "0sf12qNH5qcw8qpgymFOqD  Blinding Lights                               7\n",
       "56AMYGJzxBO6p8v0wEe9de  Hot (Remix) [feat. Gunna and Travis Scott]    7\n",
       "                                                                     ..\n",
       "2xTft6GEZeTyWNpdX94rkf  All Eyez On Me                                1\n",
       "2xYlyywNgefLCRDG8hlxZq  Take Me Home, Country Roads - Rerecorded      1\n",
       "2xmrfQpmS2iJExTlklLoAL  I Miss You (feat. Julia Michaels)             1\n",
       "2y4lAQpi5VTNLu2ldeTdUH  We Can't Stop                                 1\n",
       "3x1v32I3SZNvC7q7bDhcGm  Black Water - 45 Version                      1\n",
       "Name: count, Length: 3165, dtype: int64"
      ]
     },
     "execution_count": 29,
     "metadata": {},
     "output_type": "execute_result"
    }
   ],
   "source": [
    "spotify_data_dropna[spotify_data_dropna.duplicated(subset='track_id')][['track_id', 'track_name']].value_counts()"
   ]
  },
  {
   "cell_type": "code",
   "execution_count": 30,
   "id": "be574ddc-a641-4c4c-9b9b-6efc17201834",
   "metadata": {
    "tags": []
   },
   "outputs": [
    {
     "data": {
      "text/html": [
       "<div>\n",
       "<style scoped>\n",
       "    .dataframe tbody tr th:only-of-type {\n",
       "        vertical-align: middle;\n",
       "    }\n",
       "\n",
       "    .dataframe tbody tr th {\n",
       "        vertical-align: top;\n",
       "    }\n",
       "\n",
       "    .dataframe thead th {\n",
       "        text-align: right;\n",
       "    }\n",
       "</style>\n",
       "<table border=\"1\" class=\"dataframe\">\n",
       "  <thead>\n",
       "    <tr style=\"text-align: right;\">\n",
       "      <th></th>\n",
       "      <th>track_id</th>\n",
       "      <th>track_name</th>\n",
       "      <th>track_artist</th>\n",
       "      <th>track_popularity</th>\n",
       "      <th>track_album_id</th>\n",
       "      <th>track_album_name</th>\n",
       "      <th>track_album_release_date</th>\n",
       "      <th>playlist_name</th>\n",
       "      <th>playlist_id</th>\n",
       "      <th>playlist_genre</th>\n",
       "      <th>...</th>\n",
       "      <th>key</th>\n",
       "      <th>loudness</th>\n",
       "      <th>mode</th>\n",
       "      <th>speechiness</th>\n",
       "      <th>acousticness</th>\n",
       "      <th>instrumentalness</th>\n",
       "      <th>liveness</th>\n",
       "      <th>valence</th>\n",
       "      <th>tempo</th>\n",
       "      <th>duration_ms</th>\n",
       "    </tr>\n",
       "  </thead>\n",
       "  <tbody>\n",
       "    <tr>\n",
       "      <th>133</th>\n",
       "      <td>7BKLCZ1jbUBVqRi2FVlTVw</td>\n",
       "      <td>Closer (feat. Halsey)</td>\n",
       "      <td>The Chainsmokers</td>\n",
       "      <td>85</td>\n",
       "      <td>0rSLgV8p5FzfnqlEk4GzxE</td>\n",
       "      <td>Closer (feat. Halsey)</td>\n",
       "      <td>7/29/2016</td>\n",
       "      <td>Dance Pop</td>\n",
       "      <td>37i9dQZF1DWZQaaqNMbbXa</td>\n",
       "      <td>pop</td>\n",
       "      <td>...</td>\n",
       "      <td>8</td>\n",
       "      <td>-5.599</td>\n",
       "      <td>1</td>\n",
       "      <td>0.0338</td>\n",
       "      <td>0.414</td>\n",
       "      <td>0.0</td>\n",
       "      <td>0.111</td>\n",
       "      <td>0.661</td>\n",
       "      <td>95.01</td>\n",
       "      <td>244960</td>\n",
       "    </tr>\n",
       "    <tr>\n",
       "      <th>1731</th>\n",
       "      <td>7BKLCZ1jbUBVqRi2FVlTVw</td>\n",
       "      <td>Closer (feat. Halsey)</td>\n",
       "      <td>The Chainsmokers</td>\n",
       "      <td>85</td>\n",
       "      <td>0rSLgV8p5FzfnqlEk4GzxE</td>\n",
       "      <td>Closer (feat. Halsey)</td>\n",
       "      <td>7/29/2016</td>\n",
       "      <td>Post pop teen</td>\n",
       "      <td>222nc9tKxKhfZ2GBrOpwH3</td>\n",
       "      <td>pop</td>\n",
       "      <td>...</td>\n",
       "      <td>8</td>\n",
       "      <td>-5.599</td>\n",
       "      <td>1</td>\n",
       "      <td>0.0338</td>\n",
       "      <td>0.414</td>\n",
       "      <td>0.0</td>\n",
       "      <td>0.111</td>\n",
       "      <td>0.661</td>\n",
       "      <td>95.01</td>\n",
       "      <td>244960</td>\n",
       "    </tr>\n",
       "    <tr>\n",
       "      <th>2478</th>\n",
       "      <td>7BKLCZ1jbUBVqRi2FVlTVw</td>\n",
       "      <td>Closer (feat. Halsey)</td>\n",
       "      <td>The Chainsmokers</td>\n",
       "      <td>85</td>\n",
       "      <td>0rSLgV8p5FzfnqlEk4GzxE</td>\n",
       "      <td>Closer (feat. Halsey)</td>\n",
       "      <td>7/29/2016</td>\n",
       "      <td>Electropop Hits  2017-2020</td>\n",
       "      <td>7kyvBmlc1uSqsTL0EuNLrx</td>\n",
       "      <td>pop</td>\n",
       "      <td>...</td>\n",
       "      <td>8</td>\n",
       "      <td>-5.599</td>\n",
       "      <td>1</td>\n",
       "      <td>0.0338</td>\n",
       "      <td>0.414</td>\n",
       "      <td>0.0</td>\n",
       "      <td>0.111</td>\n",
       "      <td>0.661</td>\n",
       "      <td>95.01</td>\n",
       "      <td>244960</td>\n",
       "    </tr>\n",
       "    <tr>\n",
       "      <th>4535</th>\n",
       "      <td>7BKLCZ1jbUBVqRi2FVlTVw</td>\n",
       "      <td>Closer (feat. Halsey)</td>\n",
       "      <td>The Chainsmokers</td>\n",
       "      <td>85</td>\n",
       "      <td>0rSLgV8p5FzfnqlEk4GzxE</td>\n",
       "      <td>Closer (feat. Halsey)</td>\n",
       "      <td>7/29/2016</td>\n",
       "      <td>A Loose Definition of Indie Poptimism</td>\n",
       "      <td>4ZO0wp9G8FA3X6oYNBzda6</td>\n",
       "      <td>pop</td>\n",
       "      <td>...</td>\n",
       "      <td>8</td>\n",
       "      <td>-5.599</td>\n",
       "      <td>1</td>\n",
       "      <td>0.0338</td>\n",
       "      <td>0.414</td>\n",
       "      <td>0.0</td>\n",
       "      <td>0.111</td>\n",
       "      <td>0.661</td>\n",
       "      <td>95.01</td>\n",
       "      <td>244960</td>\n",
       "    </tr>\n",
       "    <tr>\n",
       "      <th>7369</th>\n",
       "      <td>7BKLCZ1jbUBVqRi2FVlTVw</td>\n",
       "      <td>Closer (feat. Halsey)</td>\n",
       "      <td>The Chainsmokers</td>\n",
       "      <td>85</td>\n",
       "      <td>0rSLgV8p5FzfnqlEk4GzxE</td>\n",
       "      <td>Closer (feat. Halsey)</td>\n",
       "      <td>7/29/2016</td>\n",
       "      <td>◤ Hip Hop Dance Music – Urban – Trap – Breakin...</td>\n",
       "      <td>0Hr2h94pKN8QAGVAgD6BsD</td>\n",
       "      <td>rap</td>\n",
       "      <td>...</td>\n",
       "      <td>8</td>\n",
       "      <td>-5.599</td>\n",
       "      <td>1</td>\n",
       "      <td>0.0338</td>\n",
       "      <td>0.414</td>\n",
       "      <td>0.0</td>\n",
       "      <td>0.111</td>\n",
       "      <td>0.661</td>\n",
       "      <td>95.01</td>\n",
       "      <td>244960</td>\n",
       "    </tr>\n",
       "    <tr>\n",
       "      <th>17467</th>\n",
       "      <td>7BKLCZ1jbUBVqRi2FVlTVw</td>\n",
       "      <td>Closer (feat. Halsey)</td>\n",
       "      <td>The Chainsmokers</td>\n",
       "      <td>85</td>\n",
       "      <td>0rSLgV8p5FzfnqlEk4GzxE</td>\n",
       "      <td>Closer (feat. Halsey)</td>\n",
       "      <td>7/29/2016</td>\n",
       "      <td>Tropical House Run 190 BPM</td>\n",
       "      <td>37i9dQZF1DWSTc9FdySHtz</td>\n",
       "      <td>latin</td>\n",
       "      <td>...</td>\n",
       "      <td>8</td>\n",
       "      <td>-5.599</td>\n",
       "      <td>1</td>\n",
       "      <td>0.0338</td>\n",
       "      <td>0.414</td>\n",
       "      <td>0.0</td>\n",
       "      <td>0.111</td>\n",
       "      <td>0.661</td>\n",
       "      <td>95.01</td>\n",
       "      <td>244960</td>\n",
       "    </tr>\n",
       "    <tr>\n",
       "      <th>18358</th>\n",
       "      <td>7BKLCZ1jbUBVqRi2FVlTVw</td>\n",
       "      <td>Closer (feat. Halsey)</td>\n",
       "      <td>The Chainsmokers</td>\n",
       "      <td>85</td>\n",
       "      <td>0rSLgV8p5FzfnqlEk4GzxE</td>\n",
       "      <td>Closer (feat. Halsey)</td>\n",
       "      <td>7/29/2016</td>\n",
       "      <td>2020 Hits &amp; 2019  Hits – Top Global Tracks 🔥🔥🔥</td>\n",
       "      <td>4JkkvMpVl4lSioqQjeAL0q</td>\n",
       "      <td>latin</td>\n",
       "      <td>...</td>\n",
       "      <td>8</td>\n",
       "      <td>-5.599</td>\n",
       "      <td>1</td>\n",
       "      <td>0.0338</td>\n",
       "      <td>0.414</td>\n",
       "      <td>0.0</td>\n",
       "      <td>0.111</td>\n",
       "      <td>0.661</td>\n",
       "      <td>95.01</td>\n",
       "      <td>244960</td>\n",
       "    </tr>\n",
       "    <tr>\n",
       "      <th>19770</th>\n",
       "      <td>7BKLCZ1jbUBVqRi2FVlTVw</td>\n",
       "      <td>Closer (feat. Halsey)</td>\n",
       "      <td>The Chainsmokers</td>\n",
       "      <td>85</td>\n",
       "      <td>0rSLgV8p5FzfnqlEk4GzxE</td>\n",
       "      <td>Closer (feat. Halsey)</td>\n",
       "      <td>7/29/2016</td>\n",
       "      <td>2020 Hits &amp; 2019  Hits – Top Global Tracks 🔥🔥🔥</td>\n",
       "      <td>4JkkvMpVl4lSioqQjeAL0q</td>\n",
       "      <td>latin</td>\n",
       "      <td>...</td>\n",
       "      <td>8</td>\n",
       "      <td>-5.599</td>\n",
       "      <td>1</td>\n",
       "      <td>0.0338</td>\n",
       "      <td>0.414</td>\n",
       "      <td>0.0</td>\n",
       "      <td>0.111</td>\n",
       "      <td>0.661</td>\n",
       "      <td>95.01</td>\n",
       "      <td>244960</td>\n",
       "    </tr>\n",
       "    <tr>\n",
       "      <th>23784</th>\n",
       "      <td>7BKLCZ1jbUBVqRi2FVlTVw</td>\n",
       "      <td>Closer (feat. Halsey)</td>\n",
       "      <td>The Chainsmokers</td>\n",
       "      <td>85</td>\n",
       "      <td>0rSLgV8p5FzfnqlEk4GzxE</td>\n",
       "      <td>Closer (feat. Halsey)</td>\n",
       "      <td>7/29/2016</td>\n",
       "      <td>2020 Hits &amp; 2019  Hits – Top Global Tracks 🔥🔥🔥</td>\n",
       "      <td>4JkkvMpVl4lSioqQjeAL0q</td>\n",
       "      <td>r&amp;b</td>\n",
       "      <td>...</td>\n",
       "      <td>8</td>\n",
       "      <td>-5.599</td>\n",
       "      <td>1</td>\n",
       "      <td>0.0338</td>\n",
       "      <td>0.414</td>\n",
       "      <td>0.0</td>\n",
       "      <td>0.111</td>\n",
       "      <td>0.661</td>\n",
       "      <td>95.01</td>\n",
       "      <td>244960</td>\n",
       "    </tr>\n",
       "    <tr>\n",
       "      <th>30629</th>\n",
       "      <td>7BKLCZ1jbUBVqRi2FVlTVw</td>\n",
       "      <td>Closer (feat. Halsey)</td>\n",
       "      <td>The Chainsmokers</td>\n",
       "      <td>85</td>\n",
       "      <td>0rSLgV8p5FzfnqlEk4GzxE</td>\n",
       "      <td>Closer (feat. Halsey)</td>\n",
       "      <td>7/29/2016</td>\n",
       "      <td>2015 songs</td>\n",
       "      <td>6UJw1egIcZVfrBmcKs5uHH</td>\n",
       "      <td>edm</td>\n",
       "      <td>...</td>\n",
       "      <td>8</td>\n",
       "      <td>-5.599</td>\n",
       "      <td>1</td>\n",
       "      <td>0.0338</td>\n",
       "      <td>0.414</td>\n",
       "      <td>0.0</td>\n",
       "      <td>0.111</td>\n",
       "      <td>0.661</td>\n",
       "      <td>95.01</td>\n",
       "      <td>244960</td>\n",
       "    </tr>\n",
       "  </tbody>\n",
       "</table>\n",
       "<p>10 rows × 23 columns</p>\n",
       "</div>"
      ],
      "text/plain": [
       "                     track_id             track_name      track_artist  \\\n",
       "133    7BKLCZ1jbUBVqRi2FVlTVw  Closer (feat. Halsey)  The Chainsmokers   \n",
       "1731   7BKLCZ1jbUBVqRi2FVlTVw  Closer (feat. Halsey)  The Chainsmokers   \n",
       "2478   7BKLCZ1jbUBVqRi2FVlTVw  Closer (feat. Halsey)  The Chainsmokers   \n",
       "4535   7BKLCZ1jbUBVqRi2FVlTVw  Closer (feat. Halsey)  The Chainsmokers   \n",
       "7369   7BKLCZ1jbUBVqRi2FVlTVw  Closer (feat. Halsey)  The Chainsmokers   \n",
       "17467  7BKLCZ1jbUBVqRi2FVlTVw  Closer (feat. Halsey)  The Chainsmokers   \n",
       "18358  7BKLCZ1jbUBVqRi2FVlTVw  Closer (feat. Halsey)  The Chainsmokers   \n",
       "19770  7BKLCZ1jbUBVqRi2FVlTVw  Closer (feat. Halsey)  The Chainsmokers   \n",
       "23784  7BKLCZ1jbUBVqRi2FVlTVw  Closer (feat. Halsey)  The Chainsmokers   \n",
       "30629  7BKLCZ1jbUBVqRi2FVlTVw  Closer (feat. Halsey)  The Chainsmokers   \n",
       "\n",
       "       track_popularity          track_album_id       track_album_name  \\\n",
       "133                  85  0rSLgV8p5FzfnqlEk4GzxE  Closer (feat. Halsey)   \n",
       "1731                 85  0rSLgV8p5FzfnqlEk4GzxE  Closer (feat. Halsey)   \n",
       "2478                 85  0rSLgV8p5FzfnqlEk4GzxE  Closer (feat. Halsey)   \n",
       "4535                 85  0rSLgV8p5FzfnqlEk4GzxE  Closer (feat. Halsey)   \n",
       "7369                 85  0rSLgV8p5FzfnqlEk4GzxE  Closer (feat. Halsey)   \n",
       "17467                85  0rSLgV8p5FzfnqlEk4GzxE  Closer (feat. Halsey)   \n",
       "18358                85  0rSLgV8p5FzfnqlEk4GzxE  Closer (feat. Halsey)   \n",
       "19770                85  0rSLgV8p5FzfnqlEk4GzxE  Closer (feat. Halsey)   \n",
       "23784                85  0rSLgV8p5FzfnqlEk4GzxE  Closer (feat. Halsey)   \n",
       "30629                85  0rSLgV8p5FzfnqlEk4GzxE  Closer (feat. Halsey)   \n",
       "\n",
       "      track_album_release_date  \\\n",
       "133                  7/29/2016   \n",
       "1731                 7/29/2016   \n",
       "2478                 7/29/2016   \n",
       "4535                 7/29/2016   \n",
       "7369                 7/29/2016   \n",
       "17467                7/29/2016   \n",
       "18358                7/29/2016   \n",
       "19770                7/29/2016   \n",
       "23784                7/29/2016   \n",
       "30629                7/29/2016   \n",
       "\n",
       "                                           playlist_name  \\\n",
       "133                                            Dance Pop   \n",
       "1731                                       Post pop teen   \n",
       "2478                          Electropop Hits  2017-2020   \n",
       "4535               A Loose Definition of Indie Poptimism   \n",
       "7369   ◤ Hip Hop Dance Music – Urban – Trap – Breakin...   \n",
       "17467                         Tropical House Run 190 BPM   \n",
       "18358     2020 Hits & 2019  Hits – Top Global Tracks 🔥🔥🔥   \n",
       "19770     2020 Hits & 2019  Hits – Top Global Tracks 🔥🔥🔥   \n",
       "23784     2020 Hits & 2019  Hits – Top Global Tracks 🔥🔥🔥   \n",
       "30629                                         2015 songs   \n",
       "\n",
       "                  playlist_id playlist_genre  ... key  loudness  mode  \\\n",
       "133    37i9dQZF1DWZQaaqNMbbXa            pop  ...   8    -5.599     1   \n",
       "1731   222nc9tKxKhfZ2GBrOpwH3            pop  ...   8    -5.599     1   \n",
       "2478   7kyvBmlc1uSqsTL0EuNLrx            pop  ...   8    -5.599     1   \n",
       "4535   4ZO0wp9G8FA3X6oYNBzda6            pop  ...   8    -5.599     1   \n",
       "7369   0Hr2h94pKN8QAGVAgD6BsD            rap  ...   8    -5.599     1   \n",
       "17467  37i9dQZF1DWSTc9FdySHtz          latin  ...   8    -5.599     1   \n",
       "18358  4JkkvMpVl4lSioqQjeAL0q          latin  ...   8    -5.599     1   \n",
       "19770  4JkkvMpVl4lSioqQjeAL0q          latin  ...   8    -5.599     1   \n",
       "23784  4JkkvMpVl4lSioqQjeAL0q            r&b  ...   8    -5.599     1   \n",
       "30629  6UJw1egIcZVfrBmcKs5uHH            edm  ...   8    -5.599     1   \n",
       "\n",
       "       speechiness  acousticness  instrumentalness  liveness  valence  tempo  \\\n",
       "133         0.0338         0.414               0.0     0.111    0.661  95.01   \n",
       "1731        0.0338         0.414               0.0     0.111    0.661  95.01   \n",
       "2478        0.0338         0.414               0.0     0.111    0.661  95.01   \n",
       "4535        0.0338         0.414               0.0     0.111    0.661  95.01   \n",
       "7369        0.0338         0.414               0.0     0.111    0.661  95.01   \n",
       "17467       0.0338         0.414               0.0     0.111    0.661  95.01   \n",
       "18358       0.0338         0.414               0.0     0.111    0.661  95.01   \n",
       "19770       0.0338         0.414               0.0     0.111    0.661  95.01   \n",
       "23784       0.0338         0.414               0.0     0.111    0.661  95.01   \n",
       "30629       0.0338         0.414               0.0     0.111    0.661  95.01   \n",
       "\n",
       "       duration_ms  \n",
       "133         244960  \n",
       "1731        244960  \n",
       "2478        244960  \n",
       "4535        244960  \n",
       "7369        244960  \n",
       "17467       244960  \n",
       "18358       244960  \n",
       "19770       244960  \n",
       "23784       244960  \n",
       "30629       244960  \n",
       "\n",
       "[10 rows x 23 columns]"
      ]
     },
     "execution_count": 30,
     "metadata": {},
     "output_type": "execute_result"
    }
   ],
   "source": [
    "spotify_data_dropna[spotify_data_dropna['track_name'] == 'Closer (feat. Halsey)']"
   ]
  },
  {
   "cell_type": "markdown",
   "id": "e20c62b6-c7a8-4b74-b79f-ada9ed191560",
   "metadata": {},
   "source": [
    "According to the dataset author, the <code>track_id</code> is a “Unique Song ID.”  However, that is not the case as the above section of the dataset shows several tracks with the same <code>track_id</code>.  The information for every column is identical other than the <code>playlist_name</code>, <code>playlist_id</code>, and <code>playlist_genre</code>.  This shows that the copies of the track were allowed in the dataset if they were part of different playlists. \n",
    "\n",
    "There are several ways to handle this, but because the playlist columns are not important to this analysis, the first duplicate of each track will be maintained and the rest of them will be removed.  To see if this affects the <code>playlist_genre</code> distribution, the proportions before and after removal will be compared.  \n"
   ]
  },
  {
   "cell_type": "code",
   "execution_count": 32,
   "id": "645b2809-bfca-420c-8d93-a779d9e9f69a",
   "metadata": {
    "tags": []
   },
   "outputs": [
    {
     "data": {
      "text/plain": [
       "playlist_genre\n",
       "edm      0.184081\n",
       "rap      0.174942\n",
       "pop      0.167753\n",
       "r&b      0.165438\n",
       "latin    0.156970\n",
       "rock     0.150816\n",
       "Name: proportion, dtype: float64"
      ]
     },
     "execution_count": 32,
     "metadata": {},
     "output_type": "execute_result"
    }
   ],
   "source": [
    "genre_proporations_before_removal = spotify_data_dropna['playlist_genre'].value_counts(normalize=True)\n",
    "genre_proporations_before_removal"
   ]
  },
  {
   "cell_type": "code",
   "execution_count": 33,
   "id": "cb84b1e2-e245-4d12-b143-fcba22083c83",
   "metadata": {
    "tags": []
   },
   "outputs": [],
   "source": [
    "spotify_data_drop_dups = spotify_data_dropna.drop_duplicates(subset='track_id', keep='first')"
   ]
  },
  {
   "cell_type": "code",
   "execution_count": 34,
   "id": "3a6eab03-1fc5-47c8-8fd6-09136f42dedf",
   "metadata": {
    "tags": []
   },
   "outputs": [
    {
     "data": {
      "text/plain": [
       "(28352, 23)"
      ]
     },
     "execution_count": 34,
     "metadata": {},
     "output_type": "execute_result"
    }
   ],
   "source": [
    "spotify_data_drop_dups.shape"
   ]
  },
  {
   "cell_type": "code",
   "execution_count": 35,
   "id": "03f0b31d-23f6-465c-a7ec-e4c4dc539609",
   "metadata": {
    "tags": []
   },
   "outputs": [
    {
     "data": {
      "text/html": [
       "<div>\n",
       "<style scoped>\n",
       "    .dataframe tbody tr th:only-of-type {\n",
       "        vertical-align: middle;\n",
       "    }\n",
       "\n",
       "    .dataframe tbody tr th {\n",
       "        vertical-align: top;\n",
       "    }\n",
       "\n",
       "    .dataframe thead th {\n",
       "        text-align: right;\n",
       "    }\n",
       "</style>\n",
       "<table border=\"1\" class=\"dataframe\">\n",
       "  <thead>\n",
       "    <tr style=\"text-align: right;\">\n",
       "      <th></th>\n",
       "      <th>track_id</th>\n",
       "      <th>track_name</th>\n",
       "      <th>track_artist</th>\n",
       "      <th>track_popularity</th>\n",
       "      <th>track_album_id</th>\n",
       "      <th>track_album_name</th>\n",
       "      <th>track_album_release_date</th>\n",
       "      <th>playlist_name</th>\n",
       "      <th>playlist_id</th>\n",
       "      <th>playlist_genre</th>\n",
       "      <th>...</th>\n",
       "      <th>key</th>\n",
       "      <th>loudness</th>\n",
       "      <th>mode</th>\n",
       "      <th>speechiness</th>\n",
       "      <th>acousticness</th>\n",
       "      <th>instrumentalness</th>\n",
       "      <th>liveness</th>\n",
       "      <th>valence</th>\n",
       "      <th>tempo</th>\n",
       "      <th>duration_ms</th>\n",
       "    </tr>\n",
       "  </thead>\n",
       "  <tbody>\n",
       "    <tr>\n",
       "      <th>133</th>\n",
       "      <td>7BKLCZ1jbUBVqRi2FVlTVw</td>\n",
       "      <td>Closer (feat. Halsey)</td>\n",
       "      <td>The Chainsmokers</td>\n",
       "      <td>85</td>\n",
       "      <td>0rSLgV8p5FzfnqlEk4GzxE</td>\n",
       "      <td>Closer (feat. Halsey)</td>\n",
       "      <td>7/29/2016</td>\n",
       "      <td>Dance Pop</td>\n",
       "      <td>37i9dQZF1DWZQaaqNMbbXa</td>\n",
       "      <td>pop</td>\n",
       "      <td>...</td>\n",
       "      <td>8</td>\n",
       "      <td>-5.599</td>\n",
       "      <td>1</td>\n",
       "      <td>0.0338</td>\n",
       "      <td>0.414</td>\n",
       "      <td>0.0</td>\n",
       "      <td>0.111</td>\n",
       "      <td>0.661</td>\n",
       "      <td>95.01</td>\n",
       "      <td>244960</td>\n",
       "    </tr>\n",
       "  </tbody>\n",
       "</table>\n",
       "<p>1 rows × 23 columns</p>\n",
       "</div>"
      ],
      "text/plain": [
       "                   track_id             track_name      track_artist  \\\n",
       "133  7BKLCZ1jbUBVqRi2FVlTVw  Closer (feat. Halsey)  The Chainsmokers   \n",
       "\n",
       "     track_popularity          track_album_id       track_album_name  \\\n",
       "133                85  0rSLgV8p5FzfnqlEk4GzxE  Closer (feat. Halsey)   \n",
       "\n",
       "    track_album_release_date playlist_name             playlist_id  \\\n",
       "133                7/29/2016     Dance Pop  37i9dQZF1DWZQaaqNMbbXa   \n",
       "\n",
       "    playlist_genre  ... key  loudness  mode  speechiness  acousticness  \\\n",
       "133            pop  ...   8    -5.599     1       0.0338         0.414   \n",
       "\n",
       "     instrumentalness  liveness  valence  tempo  duration_ms  \n",
       "133               0.0     0.111    0.661  95.01       244960  \n",
       "\n",
       "[1 rows x 23 columns]"
      ]
     },
     "execution_count": 35,
     "metadata": {},
     "output_type": "execute_result"
    }
   ],
   "source": [
    "spotify_data_drop_dups[spotify_data_drop_dups['track_name'] == 'Closer (feat. Halsey)']"
   ]
  },
  {
   "cell_type": "code",
   "execution_count": 36,
   "id": "eeea3bc5-bf15-4e57-87e7-34314a349f36",
   "metadata": {
    "tags": []
   },
   "outputs": [
    {
     "data": {
      "text/plain": [
       "playlist_genre\n",
       "rap      0.190392\n",
       "pop      0.181010\n",
       "edm      0.172016\n",
       "r&b      0.158860\n",
       "rock     0.151841\n",
       "latin    0.145880\n",
       "Name: proportion, dtype: float64"
      ]
     },
     "execution_count": 36,
     "metadata": {},
     "output_type": "execute_result"
    }
   ],
   "source": [
    "genre_proporations_after_removal = spotify_data_drop_dups['playlist_genre'].value_counts(normalize=True)\n",
    "genre_proporations_after_removal"
   ]
  },
  {
   "cell_type": "code",
   "execution_count": 37,
   "id": "67080664-d1f1-47ec-8149-fdeaeeb50295",
   "metadata": {
    "tags": []
   },
   "outputs": [
    {
     "data": {
      "text/plain": [
       "playlist_genre\n",
       "edm      1.206458\n",
       "latin    1.108930\n",
       "pop     -1.325702\n",
       "r&b      0.657800\n",
       "rap     -1.545009\n",
       "rock    -0.102476\n",
       "Name: proportion, dtype: float64"
      ]
     },
     "execution_count": 37,
     "metadata": {},
     "output_type": "execute_result"
    }
   ],
   "source": [
    "(genre_proporations_before_removal - genre_proporations_after_removal) * 100"
   ]
  },
  {
   "cell_type": "markdown",
   "id": "d2dee88a-67fe-448b-a9b9-d8af3ff00ab1",
   "metadata": {},
   "source": [
    "The biggest difference in the <code>playlist_genre</code> proportions before and after removing the duplicates is in the rap category at 1.5%.  This value is within the acceptable range for this analysis since genre is used as a categorical variable that is difficult to control in the real world.  For example, two different musicians could argue over whether a song belongs to one genre vs. another.  This means an artist could try to write a song in a particular genre, but it may not be categorized as that when it is released to streaming services like Spotify. \n",
    "\n",
    "The example track “Closer (Feat. Halsey)” illustrates this point well as it belongs to playlists within the rap, pop, latin, r&b, and edm genres.  The data does not suggest whether or not the song is categorized correctly because that is a subjective association made by someone else.    "
   ]
  },
  {
   "cell_type": "markdown",
   "id": "f67c1229-fa1d-4ae6-bfba-14e81fc9e90e",
   "metadata": {},
   "source": [
    "### 3.2 Adding and Modifying Columns <a class=\"anchor\" id=\"adding\"></a>"
   ]
  },
  {
   "cell_type": "markdown",
   "id": "25909c55-8ea1-4101-8331-144276e9b4c3",
   "metadata": {},
   "source": [
    "The <code>track_album_release_date</code> column contains the date that the track was released on Spotify, but it might be more helpful to have a column for the release year to help with trending and binning.   "
   ]
  },
  {
   "cell_type": "code",
   "execution_count": 41,
   "id": "de312854-afbf-4113-b880-f09f52bcbe13",
   "metadata": {
    "tags": []
   },
   "outputs": [
    {
     "data": {
      "text/plain": [
       "array(['6/14/2019', '12/13/2019', '7/5/2019', ..., '2/6/2012',\n",
       "       '11/11/2012', '4/18/2014'], dtype=object)"
      ]
     },
     "execution_count": 41,
     "metadata": {},
     "output_type": "execute_result"
    }
   ],
   "source": [
    "spotify_data_drop_dups['track_album_release_date'].unique()"
   ]
  },
  {
   "cell_type": "code",
   "execution_count": 42,
   "id": "0eb21975-fe62-449c-a4d2-61d9205efe2f",
   "metadata": {
    "tags": []
   },
   "outputs": [
    {
     "data": {
      "text/plain": [
       "0     6/14/2019\n",
       "1    12/13/2019\n",
       "2      7/5/2019\n",
       "3     7/19/2019\n",
       "4      3/5/2019\n",
       "Name: track_album_release_date, dtype: object"
      ]
     },
     "execution_count": 42,
     "metadata": {},
     "output_type": "execute_result"
    }
   ],
   "source": [
    "spotify_data_drop_dups['track_album_release_date'][spotify_data_dropna['track_album_release_date'].apply(lambda x: '/' in x)].head()"
   ]
  },
  {
   "cell_type": "code",
   "execution_count": 43,
   "id": "3583199b-2c4b-4223-a392-8a5e1f866c38",
   "metadata": {
    "tags": []
   },
   "outputs": [
    {
     "data": {
      "text/plain": [
       "3446     1981-12\n",
       "3524     1981-03\n",
       "7614     1967-09\n",
       "11740    1966-02\n",
       "11877    1971-03\n",
       "Name: track_album_release_date, dtype: object"
      ]
     },
     "execution_count": 43,
     "metadata": {},
     "output_type": "execute_result"
    }
   ],
   "source": [
    "spotify_data_drop_dups['track_album_release_date'][spotify_data_dropna['track_album_release_date'].apply(lambda x: '-' in x)].head()"
   ]
  },
  {
   "cell_type": "markdown",
   "id": "0cd668e5-4ef6-44e9-bb00-11b9b6c7d5ea",
   "metadata": {
    "tags": []
   },
   "source": [
    "Note that some of the entries in the <code>track_album_release_date</code> are years in YYYY format, while others are in the MM/DD/YYYY, or YYYY-MM format.  All date formats will both need to be accounted for when creating the new <code>track_album_release_year column</code>."
   ]
  },
  {
   "cell_type": "code",
   "execution_count": 45,
   "id": "ed60fceb-3e5b-4f89-b3fd-609797a553f0",
   "metadata": {
    "tags": []
   },
   "outputs": [],
   "source": [
    "import datetime"
   ]
  },
  {
   "cell_type": "code",
   "execution_count": 46,
   "id": "444e31da-47a0-4d82-8ccf-4753b49d1cec",
   "metadata": {
    "tags": []
   },
   "outputs": [
    {
     "name": "stderr",
     "output_type": "stream",
     "text": [
      "C:\\Users\\ejb51\\AppData\\Local\\Temp\\ipykernel_15964\\164769165.py:1: SettingWithCopyWarning: \n",
      "A value is trying to be set on a copy of a slice from a DataFrame.\n",
      "Try using .loc[row_indexer,col_indexer] = value instead\n",
      "\n",
      "See the caveats in the documentation: https://pandas.pydata.org/pandas-docs/stable/user_guide/indexing.html#returning-a-view-versus-a-copy\n",
      "  spotify_data_drop_dups['track_album_release_date'] = pd.to_datetime(spotify_data_drop_dups['track_album_release_date'], format='mixed')\n"
     ]
    }
   ],
   "source": [
    "spotify_data_drop_dups['track_album_release_date'] = pd.to_datetime(spotify_data_drop_dups['track_album_release_date'], format='mixed')"
   ]
  },
  {
   "cell_type": "code",
   "execution_count": 47,
   "id": "1f018bb8-3620-4486-90d5-1b55eca1930c",
   "metadata": {
    "tags": []
   },
   "outputs": [
    {
     "name": "stderr",
     "output_type": "stream",
     "text": [
      "C:\\Users\\ejb51\\AppData\\Local\\Temp\\ipykernel_15964\\1229374859.py:1: SettingWithCopyWarning: \n",
      "A value is trying to be set on a copy of a slice from a DataFrame.\n",
      "Try using .loc[row_indexer,col_indexer] = value instead\n",
      "\n",
      "See the caveats in the documentation: https://pandas.pydata.org/pandas-docs/stable/user_guide/indexing.html#returning-a-view-versus-a-copy\n",
      "  spotify_data_drop_dups['track_album_release_year'] = spotify_data_drop_dups['track_album_release_date'].dt.year\n"
     ]
    }
   ],
   "source": [
    "spotify_data_drop_dups['track_album_release_year'] = spotify_data_drop_dups['track_album_release_date'].dt.year"
   ]
  },
  {
   "cell_type": "code",
   "execution_count": 48,
   "id": "fd83b27f-3e30-4061-9ea8-a9a892d8c01b",
   "metadata": {
    "tags": []
   },
   "outputs": [
    {
     "data": {
      "text/html": [
       "<div>\n",
       "<style scoped>\n",
       "    .dataframe tbody tr th:only-of-type {\n",
       "        vertical-align: middle;\n",
       "    }\n",
       "\n",
       "    .dataframe tbody tr th {\n",
       "        vertical-align: top;\n",
       "    }\n",
       "\n",
       "    .dataframe thead th {\n",
       "        text-align: right;\n",
       "    }\n",
       "</style>\n",
       "<table border=\"1\" class=\"dataframe\">\n",
       "  <thead>\n",
       "    <tr style=\"text-align: right;\">\n",
       "      <th></th>\n",
       "      <th>track_id</th>\n",
       "      <th>track_name</th>\n",
       "      <th>track_artist</th>\n",
       "      <th>track_popularity</th>\n",
       "      <th>track_album_id</th>\n",
       "      <th>track_album_name</th>\n",
       "      <th>track_album_release_date</th>\n",
       "      <th>playlist_name</th>\n",
       "      <th>playlist_id</th>\n",
       "      <th>playlist_genre</th>\n",
       "      <th>...</th>\n",
       "      <th>loudness</th>\n",
       "      <th>mode</th>\n",
       "      <th>speechiness</th>\n",
       "      <th>acousticness</th>\n",
       "      <th>instrumentalness</th>\n",
       "      <th>liveness</th>\n",
       "      <th>valence</th>\n",
       "      <th>tempo</th>\n",
       "      <th>duration_ms</th>\n",
       "      <th>track_album_release_year</th>\n",
       "    </tr>\n",
       "  </thead>\n",
       "  <tbody>\n",
       "    <tr>\n",
       "      <th>0</th>\n",
       "      <td>6f807x0ima9a1j3VPbc7VN</td>\n",
       "      <td>I Don't Care (with Justin Bieber) - Loud Luxur...</td>\n",
       "      <td>Ed Sheeran</td>\n",
       "      <td>66</td>\n",
       "      <td>2oCs0DGTsRO98Gh5ZSl2Cx</td>\n",
       "      <td>I Don't Care (with Justin Bieber) [Loud Luxury...</td>\n",
       "      <td>2019-06-14</td>\n",
       "      <td>Pop Remix</td>\n",
       "      <td>37i9dQZF1DXcZDD7cfEKhW</td>\n",
       "      <td>pop</td>\n",
       "      <td>...</td>\n",
       "      <td>-2.634</td>\n",
       "      <td>1</td>\n",
       "      <td>0.0583</td>\n",
       "      <td>0.1020</td>\n",
       "      <td>0.000000</td>\n",
       "      <td>0.0653</td>\n",
       "      <td>0.518</td>\n",
       "      <td>122.036</td>\n",
       "      <td>194754</td>\n",
       "      <td>2019</td>\n",
       "    </tr>\n",
       "    <tr>\n",
       "      <th>1</th>\n",
       "      <td>0r7CVbZTWZgbTCYdfa2P31</td>\n",
       "      <td>Memories - Dillon Francis Remix</td>\n",
       "      <td>Maroon 5</td>\n",
       "      <td>67</td>\n",
       "      <td>63rPSO264uRjW1X5E6cWv6</td>\n",
       "      <td>Memories (Dillon Francis Remix)</td>\n",
       "      <td>2019-12-13</td>\n",
       "      <td>Pop Remix</td>\n",
       "      <td>37i9dQZF1DXcZDD7cfEKhW</td>\n",
       "      <td>pop</td>\n",
       "      <td>...</td>\n",
       "      <td>-4.969</td>\n",
       "      <td>1</td>\n",
       "      <td>0.0373</td>\n",
       "      <td>0.0724</td>\n",
       "      <td>0.004210</td>\n",
       "      <td>0.3570</td>\n",
       "      <td>0.693</td>\n",
       "      <td>99.972</td>\n",
       "      <td>162600</td>\n",
       "      <td>2019</td>\n",
       "    </tr>\n",
       "    <tr>\n",
       "      <th>2</th>\n",
       "      <td>1z1Hg7Vb0AhHDiEmnDE79l</td>\n",
       "      <td>All the Time - Don Diablo Remix</td>\n",
       "      <td>Zara Larsson</td>\n",
       "      <td>70</td>\n",
       "      <td>1HoSmj2eLcsrR0vE9gThr4</td>\n",
       "      <td>All the Time (Don Diablo Remix)</td>\n",
       "      <td>2019-07-05</td>\n",
       "      <td>Pop Remix</td>\n",
       "      <td>37i9dQZF1DXcZDD7cfEKhW</td>\n",
       "      <td>pop</td>\n",
       "      <td>...</td>\n",
       "      <td>-3.432</td>\n",
       "      <td>0</td>\n",
       "      <td>0.0742</td>\n",
       "      <td>0.0794</td>\n",
       "      <td>0.000023</td>\n",
       "      <td>0.1100</td>\n",
       "      <td>0.613</td>\n",
       "      <td>124.008</td>\n",
       "      <td>176616</td>\n",
       "      <td>2019</td>\n",
       "    </tr>\n",
       "    <tr>\n",
       "      <th>3</th>\n",
       "      <td>75FpbthrwQmzHlBJLuGdC7</td>\n",
       "      <td>Call You Mine - Keanu Silva Remix</td>\n",
       "      <td>The Chainsmokers</td>\n",
       "      <td>60</td>\n",
       "      <td>1nqYsOef1yKKuGOVchbsk6</td>\n",
       "      <td>Call You Mine - The Remixes</td>\n",
       "      <td>2019-07-19</td>\n",
       "      <td>Pop Remix</td>\n",
       "      <td>37i9dQZF1DXcZDD7cfEKhW</td>\n",
       "      <td>pop</td>\n",
       "      <td>...</td>\n",
       "      <td>-3.778</td>\n",
       "      <td>1</td>\n",
       "      <td>0.1020</td>\n",
       "      <td>0.0287</td>\n",
       "      <td>0.000009</td>\n",
       "      <td>0.2040</td>\n",
       "      <td>0.277</td>\n",
       "      <td>121.956</td>\n",
       "      <td>169093</td>\n",
       "      <td>2019</td>\n",
       "    </tr>\n",
       "    <tr>\n",
       "      <th>4</th>\n",
       "      <td>1e8PAfcKUYoKkxPhrHqw4x</td>\n",
       "      <td>Someone You Loved - Future Humans Remix</td>\n",
       "      <td>Lewis Capaldi</td>\n",
       "      <td>69</td>\n",
       "      <td>7m7vv9wlQ4i0LFuJiE2zsQ</td>\n",
       "      <td>Someone You Loved (Future Humans Remix)</td>\n",
       "      <td>2019-03-05</td>\n",
       "      <td>Pop Remix</td>\n",
       "      <td>37i9dQZF1DXcZDD7cfEKhW</td>\n",
       "      <td>pop</td>\n",
       "      <td>...</td>\n",
       "      <td>-4.672</td>\n",
       "      <td>1</td>\n",
       "      <td>0.0359</td>\n",
       "      <td>0.0803</td>\n",
       "      <td>0.000000</td>\n",
       "      <td>0.0833</td>\n",
       "      <td>0.725</td>\n",
       "      <td>123.976</td>\n",
       "      <td>189052</td>\n",
       "      <td>2019</td>\n",
       "    </tr>\n",
       "  </tbody>\n",
       "</table>\n",
       "<p>5 rows × 24 columns</p>\n",
       "</div>"
      ],
      "text/plain": [
       "                 track_id                                         track_name  \\\n",
       "0  6f807x0ima9a1j3VPbc7VN  I Don't Care (with Justin Bieber) - Loud Luxur...   \n",
       "1  0r7CVbZTWZgbTCYdfa2P31                    Memories - Dillon Francis Remix   \n",
       "2  1z1Hg7Vb0AhHDiEmnDE79l                    All the Time - Don Diablo Remix   \n",
       "3  75FpbthrwQmzHlBJLuGdC7                  Call You Mine - Keanu Silva Remix   \n",
       "4  1e8PAfcKUYoKkxPhrHqw4x            Someone You Loved - Future Humans Remix   \n",
       "\n",
       "       track_artist  track_popularity          track_album_id  \\\n",
       "0        Ed Sheeran                66  2oCs0DGTsRO98Gh5ZSl2Cx   \n",
       "1          Maroon 5                67  63rPSO264uRjW1X5E6cWv6   \n",
       "2      Zara Larsson                70  1HoSmj2eLcsrR0vE9gThr4   \n",
       "3  The Chainsmokers                60  1nqYsOef1yKKuGOVchbsk6   \n",
       "4     Lewis Capaldi                69  7m7vv9wlQ4i0LFuJiE2zsQ   \n",
       "\n",
       "                                    track_album_name track_album_release_date  \\\n",
       "0  I Don't Care (with Justin Bieber) [Loud Luxury...               2019-06-14   \n",
       "1                    Memories (Dillon Francis Remix)               2019-12-13   \n",
       "2                    All the Time (Don Diablo Remix)               2019-07-05   \n",
       "3                        Call You Mine - The Remixes               2019-07-19   \n",
       "4            Someone You Loved (Future Humans Remix)               2019-03-05   \n",
       "\n",
       "  playlist_name             playlist_id playlist_genre  ... loudness  mode  \\\n",
       "0     Pop Remix  37i9dQZF1DXcZDD7cfEKhW            pop  ...   -2.634     1   \n",
       "1     Pop Remix  37i9dQZF1DXcZDD7cfEKhW            pop  ...   -4.969     1   \n",
       "2     Pop Remix  37i9dQZF1DXcZDD7cfEKhW            pop  ...   -3.432     0   \n",
       "3     Pop Remix  37i9dQZF1DXcZDD7cfEKhW            pop  ...   -3.778     1   \n",
       "4     Pop Remix  37i9dQZF1DXcZDD7cfEKhW            pop  ...   -4.672     1   \n",
       "\n",
       "   speechiness  acousticness  instrumentalness  liveness  valence    tempo  \\\n",
       "0       0.0583        0.1020          0.000000    0.0653    0.518  122.036   \n",
       "1       0.0373        0.0724          0.004210    0.3570    0.693   99.972   \n",
       "2       0.0742        0.0794          0.000023    0.1100    0.613  124.008   \n",
       "3       0.1020        0.0287          0.000009    0.2040    0.277  121.956   \n",
       "4       0.0359        0.0803          0.000000    0.0833    0.725  123.976   \n",
       "\n",
       "   duration_ms  track_album_release_year  \n",
       "0       194754                      2019  \n",
       "1       162600                      2019  \n",
       "2       176616                      2019  \n",
       "3       169093                      2019  \n",
       "4       189052                      2019  \n",
       "\n",
       "[5 rows x 24 columns]"
      ]
     },
     "execution_count": 48,
     "metadata": {},
     "output_type": "execute_result"
    }
   ],
   "source": [
    "spotify_data_drop_dups.head()"
   ]
  },
  {
   "cell_type": "markdown",
   "id": "bcbd07c4-8492-4a99-b35c-529631d84694",
   "metadata": {},
   "source": [
    "The <code>duration_ms</code> is a measure of the length of the song’s playtime, but that unit is not very usable.  A new column with a more understandable time format will be created.  "
   ]
  },
  {
   "cell_type": "code",
   "execution_count": 50,
   "id": "efcff883-af2f-46a9-9ae5-1efffc22e15c",
   "metadata": {
    "tags": []
   },
   "outputs": [
    {
     "name": "stdout",
     "output_type": "stream",
     "text": [
      "<class 'pandas.core.series.Series'>\n",
      "Index: 28352 entries, 0 to 32832\n",
      "Series name: duration_ms\n",
      "Non-Null Count  Dtype\n",
      "--------------  -----\n",
      "28352 non-null  int64\n",
      "dtypes: int64(1)\n",
      "memory usage: 443.0 KB\n"
     ]
    }
   ],
   "source": [
    "spotify_data_drop_dups['duration_ms'].info()"
   ]
  },
  {
   "cell_type": "code",
   "execution_count": 51,
   "id": "4666be57-7095-493b-8e89-4d57d0322328",
   "metadata": {
    "tags": []
   },
   "outputs": [
    {
     "name": "stderr",
     "output_type": "stream",
     "text": [
      "C:\\Users\\ejb51\\AppData\\Local\\Temp\\ipykernel_15964\\1504001626.py:1: SettingWithCopyWarning: \n",
      "A value is trying to be set on a copy of a slice from a DataFrame.\n",
      "Try using .loc[row_indexer,col_indexer] = value instead\n",
      "\n",
      "See the caveats in the documentation: https://pandas.pydata.org/pandas-docs/stable/user_guide/indexing.html#returning-a-view-versus-a-copy\n",
      "  spotify_data_drop_dups['duration_min'] = spotify_data_drop_dups['duration_ms'] / (1000 * 60) # converst ms to minutes in X.XXXXXX format\n"
     ]
    },
    {
     "data": {
      "text/plain": [
       "0    3.245900\n",
       "1    2.710000\n",
       "2    2.943600\n",
       "3    2.818217\n",
       "4    3.150867\n",
       "Name: duration_min, dtype: float64"
      ]
     },
     "execution_count": 51,
     "metadata": {},
     "output_type": "execute_result"
    }
   ],
   "source": [
    "spotify_data_drop_dups['duration_min'] = spotify_data_drop_dups['duration_ms'] / (1000 * 60) # converst ms to minutes in X.XXXXXX format\n",
    "spotify_data_drop_dups['duration_min'].head()"
   ]
  },
  {
   "cell_type": "markdown",
   "id": "f93094bc-05fb-41dd-8c63-18fe7feefd10",
   "metadata": {},
   "source": [
    "While it might be more apparent to use a format like mm:ss, that would require the column to be a string and we want to analyze trends related to the duration as a number.  "
   ]
  },
  {
   "cell_type": "markdown",
   "id": "5d9e935a-94ec-43d6-8ed3-a457f1e54bd0",
   "metadata": {},
   "source": [
    "According to the dataset author’s notes, the <code>mode</code> column “…indicates the modality (major or minor) of a track, the type of scale from which its melodic content is derived. Major is represented by 1 and minor is 0.”  A new column to have the mode spelled out will be added.  "
   ]
  },
  {
   "cell_type": "code",
   "execution_count": 54,
   "id": "55b73b07-e719-4f6f-9e8f-b9bbea953897",
   "metadata": {
    "tags": []
   },
   "outputs": [
    {
     "data": {
      "text/plain": [
       "mode\n",
       "1    16034\n",
       "0    12318\n",
       "Name: count, dtype: int64"
      ]
     },
     "execution_count": 54,
     "metadata": {},
     "output_type": "execute_result"
    }
   ],
   "source": [
    "spotify_data_drop_dups['mode'].value_counts()"
   ]
  },
  {
   "cell_type": "code",
   "execution_count": 55,
   "id": "819cc647-1a1e-413d-843a-4bb88c617696",
   "metadata": {
    "tags": []
   },
   "outputs": [
    {
     "name": "stderr",
     "output_type": "stream",
     "text": [
      "C:\\Users\\ejb51\\AppData\\Local\\Temp\\ipykernel_15964\\2939034541.py:1: SettingWithCopyWarning: \n",
      "A value is trying to be set on a copy of a slice from a DataFrame.\n",
      "Try using .loc[row_indexer,col_indexer] = value instead\n",
      "\n",
      "See the caveats in the documentation: https://pandas.pydata.org/pandas-docs/stable/user_guide/indexing.html#returning-a-view-versus-a-copy\n",
      "  spotify_data_drop_dups['mode_type'] = spotify_data_drop_dups['mode'].map({1: 'Major', 0: 'Minor'})\n"
     ]
    }
   ],
   "source": [
    "spotify_data_drop_dups['mode_type'] = spotify_data_drop_dups['mode'].map({1: 'Major', 0: 'Minor'})"
   ]
  },
  {
   "cell_type": "code",
   "execution_count": 56,
   "id": "f75e2a31-3387-4000-b818-2d52838dd88b",
   "metadata": {
    "tags": []
   },
   "outputs": [
    {
     "data": {
      "text/html": [
       "<div>\n",
       "<style scoped>\n",
       "    .dataframe tbody tr th:only-of-type {\n",
       "        vertical-align: middle;\n",
       "    }\n",
       "\n",
       "    .dataframe tbody tr th {\n",
       "        vertical-align: top;\n",
       "    }\n",
       "\n",
       "    .dataframe thead th {\n",
       "        text-align: right;\n",
       "    }\n",
       "</style>\n",
       "<table border=\"1\" class=\"dataframe\">\n",
       "  <thead>\n",
       "    <tr style=\"text-align: right;\">\n",
       "      <th></th>\n",
       "      <th>mode</th>\n",
       "      <th>mode_type</th>\n",
       "    </tr>\n",
       "  </thead>\n",
       "  <tbody>\n",
       "    <tr>\n",
       "      <th>0</th>\n",
       "      <td>1</td>\n",
       "      <td>Major</td>\n",
       "    </tr>\n",
       "    <tr>\n",
       "      <th>1</th>\n",
       "      <td>1</td>\n",
       "      <td>Major</td>\n",
       "    </tr>\n",
       "    <tr>\n",
       "      <th>2</th>\n",
       "      <td>0</td>\n",
       "      <td>Minor</td>\n",
       "    </tr>\n",
       "    <tr>\n",
       "      <th>3</th>\n",
       "      <td>1</td>\n",
       "      <td>Major</td>\n",
       "    </tr>\n",
       "    <tr>\n",
       "      <th>4</th>\n",
       "      <td>1</td>\n",
       "      <td>Major</td>\n",
       "    </tr>\n",
       "  </tbody>\n",
       "</table>\n",
       "</div>"
      ],
      "text/plain": [
       "   mode mode_type\n",
       "0     1     Major\n",
       "1     1     Major\n",
       "2     0     Minor\n",
       "3     1     Major\n",
       "4     1     Major"
      ]
     },
     "execution_count": 56,
     "metadata": {},
     "output_type": "execute_result"
    }
   ],
   "source": [
    "spotify_data_drop_dups[['mode', 'mode_type']].head()"
   ]
  },
  {
   "cell_type": "markdown",
   "id": "011074b6-945e-4dff-be29-c9a26168115f",
   "metadata": {},
   "source": [
    "The <code>key</code> column represents the musical key of the song coded as an integer from 0 to 11 according to the following structure from the dataset readme:  “0 = C, 1 = C♯/D♭, 2 = D, and so on. If no key was detected, the value is -1.”  A new column will be added to have the name of the key to match these values.  "
   ]
  },
  {
   "cell_type": "code",
   "execution_count": 58,
   "id": "1457c6ec-4578-476a-abf7-84c0c1015051",
   "metadata": {
    "tags": []
   },
   "outputs": [
    {
     "data": {
      "text/plain": [
       "key\n",
       "0     3001\n",
       "1     3436\n",
       "2     2478\n",
       "3      797\n",
       "4     1925\n",
       "5     2301\n",
       "6     2261\n",
       "7     2907\n",
       "8     2066\n",
       "9     2631\n",
       "10    1972\n",
       "11    2577\n",
       "Name: count, dtype: int64"
      ]
     },
     "execution_count": 58,
     "metadata": {},
     "output_type": "execute_result"
    }
   ],
   "source": [
    "spotify_data_drop_dups['key'].value_counts().sort_index()"
   ]
  },
  {
   "cell_type": "code",
   "execution_count": 59,
   "id": "d6a460d4-994f-47e6-9d3b-2f771ab9deee",
   "metadata": {
    "tags": []
   },
   "outputs": [
    {
     "name": "stderr",
     "output_type": "stream",
     "text": [
      "C:\\Users\\ejb51\\AppData\\Local\\Temp\\ipykernel_15964\\291290153.py:1: SettingWithCopyWarning: \n",
      "A value is trying to be set on a copy of a slice from a DataFrame.\n",
      "Try using .loc[row_indexer,col_indexer] = value instead\n",
      "\n",
      "See the caveats in the documentation: https://pandas.pydata.org/pandas-docs/stable/user_guide/indexing.html#returning-a-view-versus-a-copy\n",
      "  spotify_data_drop_dups['key_name'] = spotify_data_drop_dups['key'].map({\n"
     ]
    }
   ],
   "source": [
    "spotify_data_drop_dups['key_name'] = spotify_data_drop_dups['key'].map({\n",
    "    -1: 'No Key',\n",
    "    0: 'C',\n",
    "    1: 'C#/Db',\n",
    "    2: 'D',\n",
    "    3: 'D#/Eb',\n",
    "    4: 'E',\n",
    "    5: 'F',\n",
    "    6: 'F#/Gb',\n",
    "    7: 'G',\n",
    "    8: 'G#/Ab',\n",
    "    9: 'A',\n",
    "    10: 'A#/Bb', \n",
    "    11: 'B'})\n",
    "    "
   ]
  },
  {
   "cell_type": "code",
   "execution_count": 60,
   "id": "efaf0ad3-a8c1-4986-ba46-8954240c998e",
   "metadata": {
    "tags": []
   },
   "outputs": [
    {
     "data": {
      "text/plain": [
       "key  key_name\n",
       "0    C           3001\n",
       "1    C#/Db       3436\n",
       "2    D           2478\n",
       "3    D#/Eb        797\n",
       "4    E           1925\n",
       "5    F           2301\n",
       "6    F#/Gb       2261\n",
       "7    G           2907\n",
       "8    G#/Ab       2066\n",
       "9    A           2631\n",
       "10   A#/Bb       1972\n",
       "11   B           2577\n",
       "Name: count, dtype: int64"
      ]
     },
     "execution_count": 60,
     "metadata": {},
     "output_type": "execute_result"
    }
   ],
   "source": [
    "spotify_data_drop_dups[['key', 'key_name']].value_counts().sort_index()"
   ]
  },
  {
   "cell_type": "code",
   "execution_count": 61,
   "id": "66dc14bf-dac7-4e4e-b490-95294c82839d",
   "metadata": {
    "jupyter": {
     "source_hidden": true
    },
    "tags": []
   },
   "outputs": [
    {
     "data": {
      "text/html": [
       "<!-- Table style code to align table to the left -->\n",
       "<style>\n",
       "table {float:left}\n",
       "</style>\n"
      ],
      "text/plain": [
       "<IPython.core.display.HTML object>"
      ]
     },
     "metadata": {},
     "output_type": "display_data"
    }
   ],
   "source": [
    "%%html \n",
    "<!-- Table style code to align table to the left -->\n",
    "<style>\n",
    "table {float:left}\n",
    "</style>"
   ]
  },
  {
   "cell_type": "markdown",
   "id": "ba179913-59aa-4e9e-926d-0c488e1a25bf",
   "metadata": {},
   "source": [
    "The <code>tempo</code> column contains the measure of how fast the song is in beats per measure (“BPM”).  While this measure is important, it is not helpful to understand that one song has a tempo of 120 while another song has a tempo of 121 since it is nearly impossible to tell just by listening to it.  Therefore, it would be better to create a column to hold a range of tempos based on some criteria.  This article from Artist Blog (https://artlist.io/blog/music-bpm/) suggests the following scale that will be used:\n",
    "\n",
    "|Range (BPM) | Range Name    \n",
    "|:---|:---------------|\n",
    "20 – 69 | Slow\n",
    "70 – 89 | Medium-Slow\n",
    "90 – 109 | Medium\n",
    "110 – 129 | Medium-Fast\n",
    "130+| Fast\n"
   ]
  },
  {
   "cell_type": "code",
   "execution_count": 63,
   "id": "3ea76699-20f0-4017-921b-d2e397e344f7",
   "metadata": {
    "tags": []
   },
   "outputs": [
    {
     "data": {
      "text/plain": [
       "count    28352.000000\n",
       "mean       120.958219\n",
       "std         26.954502\n",
       "min          0.000000\n",
       "25%         99.972000\n",
       "50%        121.993500\n",
       "75%        133.999000\n",
       "max        239.440000\n",
       "Name: tempo, dtype: float64"
      ]
     },
     "execution_count": 63,
     "metadata": {},
     "output_type": "execute_result"
    }
   ],
   "source": [
    "spotify_data_drop_dups['tempo'].describe()"
   ]
  },
  {
   "cell_type": "code",
   "execution_count": 64,
   "id": "981f9998-0584-414b-9790-c37f1472b4d1",
   "metadata": {
    "tags": []
   },
   "outputs": [
    {
     "data": {
      "text/html": [
       "<div>\n",
       "<style scoped>\n",
       "    .dataframe tbody tr th:only-of-type {\n",
       "        vertical-align: middle;\n",
       "    }\n",
       "\n",
       "    .dataframe tbody tr th {\n",
       "        vertical-align: top;\n",
       "    }\n",
       "\n",
       "    .dataframe thead th {\n",
       "        text-align: right;\n",
       "    }\n",
       "</style>\n",
       "<table border=\"1\" class=\"dataframe\">\n",
       "  <thead>\n",
       "    <tr style=\"text-align: right;\">\n",
       "      <th></th>\n",
       "      <th>track_id</th>\n",
       "      <th>track_name</th>\n",
       "      <th>track_artist</th>\n",
       "      <th>track_popularity</th>\n",
       "      <th>track_album_id</th>\n",
       "      <th>track_album_name</th>\n",
       "      <th>track_album_release_date</th>\n",
       "      <th>playlist_name</th>\n",
       "      <th>playlist_id</th>\n",
       "      <th>playlist_genre</th>\n",
       "      <th>...</th>\n",
       "      <th>acousticness</th>\n",
       "      <th>instrumentalness</th>\n",
       "      <th>liveness</th>\n",
       "      <th>valence</th>\n",
       "      <th>tempo</th>\n",
       "      <th>duration_ms</th>\n",
       "      <th>track_album_release_year</th>\n",
       "      <th>duration_min</th>\n",
       "      <th>mode_type</th>\n",
       "      <th>key_name</th>\n",
       "    </tr>\n",
       "  </thead>\n",
       "  <tbody>\n",
       "    <tr>\n",
       "      <th>11363</th>\n",
       "      <td>51w6nRCU68klqNfYaaVP2j</td>\n",
       "      <td>Hi, How're You Doin'?</td>\n",
       "      <td>DREAMS COME TRUE</td>\n",
       "      <td>0</td>\n",
       "      <td>4wdK52JVu5GzhxW3RCZ3AV</td>\n",
       "      <td>Dreams Come True</td>\n",
       "      <td>1989-03-21</td>\n",
       "      <td>City Pop 1985 シティーポップ</td>\n",
       "      <td>3j2osvmecEao5nmo9jZ5df</td>\n",
       "      <td>rock</td>\n",
       "      <td>...</td>\n",
       "      <td>0.0</td>\n",
       "      <td>0.0</td>\n",
       "      <td>0.0</td>\n",
       "      <td>0.0</td>\n",
       "      <td>0.0</td>\n",
       "      <td>4000</td>\n",
       "      <td>1989</td>\n",
       "      <td>0.066667</td>\n",
       "      <td>Major</td>\n",
       "      <td>C#/Db</td>\n",
       "    </tr>\n",
       "  </tbody>\n",
       "</table>\n",
       "<p>1 rows × 27 columns</p>\n",
       "</div>"
      ],
      "text/plain": [
       "                     track_id             track_name      track_artist  \\\n",
       "11363  51w6nRCU68klqNfYaaVP2j  Hi, How're You Doin'?  DREAMS COME TRUE   \n",
       "\n",
       "       track_popularity          track_album_id  track_album_name  \\\n",
       "11363                 0  4wdK52JVu5GzhxW3RCZ3AV  Dreams Come True   \n",
       "\n",
       "      track_album_release_date          playlist_name             playlist_id  \\\n",
       "11363               1989-03-21  City Pop 1985 シティーポップ  3j2osvmecEao5nmo9jZ5df   \n",
       "\n",
       "      playlist_genre  ... acousticness  instrumentalness  liveness  valence  \\\n",
       "11363           rock  ...          0.0               0.0       0.0      0.0   \n",
       "\n",
       "       tempo  duration_ms  track_album_release_year  duration_min  mode_type  \\\n",
       "11363    0.0         4000                      1989      0.066667      Major   \n",
       "\n",
       "       key_name  \n",
       "11363     C#/Db  \n",
       "\n",
       "[1 rows x 27 columns]"
      ]
     },
     "execution_count": 64,
     "metadata": {},
     "output_type": "execute_result"
    }
   ],
   "source": [
    "spotify_data_drop_dups[spotify_data_drop_dups['tempo'] < 20]"
   ]
  },
  {
   "cell_type": "markdown",
   "id": "1bd898ec-de9e-441b-9b2e-6c6214a13558",
   "metadata": {},
   "source": [
    "This track above has a tempo of 0, which is not possible for music.  It will be removed before binning."
   ]
  },
  {
   "cell_type": "code",
   "execution_count": 66,
   "id": "18de4611-134d-410a-9ce2-f157cb3fd93e",
   "metadata": {
    "tags": []
   },
   "outputs": [],
   "source": [
    "spotify_data_drop_dups = spotify_data_drop_dups.drop(index=11363).reset_index()"
   ]
  },
  {
   "cell_type": "code",
   "execution_count": 67,
   "id": "e6f526b9-932b-4f45-a965-35e4499379c9",
   "metadata": {
    "tags": []
   },
   "outputs": [
    {
     "data": {
      "text/html": [
       "<div>\n",
       "<style scoped>\n",
       "    .dataframe tbody tr th:only-of-type {\n",
       "        vertical-align: middle;\n",
       "    }\n",
       "\n",
       "    .dataframe tbody tr th {\n",
       "        vertical-align: top;\n",
       "    }\n",
       "\n",
       "    .dataframe thead th {\n",
       "        text-align: right;\n",
       "    }\n",
       "</style>\n",
       "<table border=\"1\" class=\"dataframe\">\n",
       "  <thead>\n",
       "    <tr style=\"text-align: right;\">\n",
       "      <th></th>\n",
       "      <th>index</th>\n",
       "      <th>track_id</th>\n",
       "      <th>track_name</th>\n",
       "      <th>track_artist</th>\n",
       "      <th>track_popularity</th>\n",
       "      <th>track_album_id</th>\n",
       "      <th>track_album_name</th>\n",
       "      <th>track_album_release_date</th>\n",
       "      <th>playlist_name</th>\n",
       "      <th>playlist_id</th>\n",
       "      <th>...</th>\n",
       "      <th>acousticness</th>\n",
       "      <th>instrumentalness</th>\n",
       "      <th>liveness</th>\n",
       "      <th>valence</th>\n",
       "      <th>tempo</th>\n",
       "      <th>duration_ms</th>\n",
       "      <th>track_album_release_year</th>\n",
       "      <th>duration_min</th>\n",
       "      <th>mode_type</th>\n",
       "      <th>key_name</th>\n",
       "    </tr>\n",
       "  </thead>\n",
       "  <tbody>\n",
       "  </tbody>\n",
       "</table>\n",
       "<p>0 rows × 28 columns</p>\n",
       "</div>"
      ],
      "text/plain": [
       "Empty DataFrame\n",
       "Columns: [index, track_id, track_name, track_artist, track_popularity, track_album_id, track_album_name, track_album_release_date, playlist_name, playlist_id, playlist_genre, playlist_subgenre, danceability, energy, key, loudness, mode, speechiness, acousticness, instrumentalness, liveness, valence, tempo, duration_ms, track_album_release_year, duration_min, mode_type, key_name]\n",
       "Index: []\n",
       "\n",
       "[0 rows x 28 columns]"
      ]
     },
     "execution_count": 67,
     "metadata": {},
     "output_type": "execute_result"
    }
   ],
   "source": [
    "spotify_data_drop_dups[spotify_data_drop_dups['tempo'] < 20]"
   ]
  },
  {
   "cell_type": "code",
   "execution_count": 68,
   "id": "aafe15f8-68ef-4edb-bd5a-cc22569e0bb7",
   "metadata": {
    "tags": []
   },
   "outputs": [
    {
     "data": {
      "text/plain": [
       "115"
      ]
     },
     "execution_count": 68,
     "metadata": {},
     "output_type": "execute_result"
    }
   ],
   "source": [
    "spotify_data_drop_dups[spotify_data_drop_dups['tempo'] <= 69]['tempo'].count() #Check to see if binning works"
   ]
  },
  {
   "cell_type": "code",
   "execution_count": 69,
   "id": "ffb58859-bc54-43fa-97b7-c5d1c8abd3b4",
   "metadata": {
    "tags": []
   },
   "outputs": [],
   "source": [
    "bins = [19, 69, 89, 109, 129, 250]\n",
    "labels = ['Slow', 'Medium-Slow', 'Medium', 'Medium-Fast', 'Fast']\n",
    "spotify_data_drop_dups['tempo_range_name'] = pd.cut(spotify_data_drop_dups['tempo'], bins=bins, labels=labels)"
   ]
  },
  {
   "cell_type": "code",
   "execution_count": 70,
   "id": "87b6885f-a188-4ecd-9406-a38e95a62814",
   "metadata": {
    "tags": []
   },
   "outputs": [
    {
     "data": {
      "text/html": [
       "<div>\n",
       "<style scoped>\n",
       "    .dataframe tbody tr th:only-of-type {\n",
       "        vertical-align: middle;\n",
       "    }\n",
       "\n",
       "    .dataframe tbody tr th {\n",
       "        vertical-align: top;\n",
       "    }\n",
       "\n",
       "    .dataframe thead th {\n",
       "        text-align: right;\n",
       "    }\n",
       "</style>\n",
       "<table border=\"1\" class=\"dataframe\">\n",
       "  <thead>\n",
       "    <tr style=\"text-align: right;\">\n",
       "      <th></th>\n",
       "      <th>tempo</th>\n",
       "      <th>tempo_range_name</th>\n",
       "    </tr>\n",
       "  </thead>\n",
       "  <tbody>\n",
       "    <tr>\n",
       "      <th>0</th>\n",
       "      <td>122.036</td>\n",
       "      <td>Medium-Fast</td>\n",
       "    </tr>\n",
       "    <tr>\n",
       "      <th>1</th>\n",
       "      <td>99.972</td>\n",
       "      <td>Medium</td>\n",
       "    </tr>\n",
       "    <tr>\n",
       "      <th>2</th>\n",
       "      <td>124.008</td>\n",
       "      <td>Medium-Fast</td>\n",
       "    </tr>\n",
       "    <tr>\n",
       "      <th>3</th>\n",
       "      <td>121.956</td>\n",
       "      <td>Medium-Fast</td>\n",
       "    </tr>\n",
       "    <tr>\n",
       "      <th>4</th>\n",
       "      <td>123.976</td>\n",
       "      <td>Medium-Fast</td>\n",
       "    </tr>\n",
       "  </tbody>\n",
       "</table>\n",
       "</div>"
      ],
      "text/plain": [
       "     tempo tempo_range_name\n",
       "0  122.036      Medium-Fast\n",
       "1   99.972           Medium\n",
       "2  124.008      Medium-Fast\n",
       "3  121.956      Medium-Fast\n",
       "4  123.976      Medium-Fast"
      ]
     },
     "execution_count": 70,
     "metadata": {},
     "output_type": "execute_result"
    }
   ],
   "source": [
    "spotify_data_drop_dups[['tempo', 'tempo_range_name']].head()"
   ]
  },
  {
   "cell_type": "code",
   "execution_count": 71,
   "id": "992da11d-b350-42b1-9891-791f1342622d",
   "metadata": {
    "tags": []
   },
   "outputs": [
    {
     "data": {
      "text/html": [
       "<div>\n",
       "<style scoped>\n",
       "    .dataframe tbody tr th:only-of-type {\n",
       "        vertical-align: middle;\n",
       "    }\n",
       "\n",
       "    .dataframe tbody tr th {\n",
       "        vertical-align: top;\n",
       "    }\n",
       "\n",
       "    .dataframe thead th {\n",
       "        text-align: right;\n",
       "    }\n",
       "</style>\n",
       "<table border=\"1\" class=\"dataframe\">\n",
       "  <thead>\n",
       "    <tr style=\"text-align: right;\">\n",
       "      <th></th>\n",
       "      <th>index</th>\n",
       "      <th>track_id</th>\n",
       "      <th>track_name</th>\n",
       "      <th>track_artist</th>\n",
       "      <th>track_popularity</th>\n",
       "      <th>track_album_id</th>\n",
       "      <th>track_album_name</th>\n",
       "      <th>track_album_release_date</th>\n",
       "      <th>playlist_name</th>\n",
       "      <th>playlist_id</th>\n",
       "      <th>...</th>\n",
       "      <th>instrumentalness</th>\n",
       "      <th>liveness</th>\n",
       "      <th>valence</th>\n",
       "      <th>tempo</th>\n",
       "      <th>duration_ms</th>\n",
       "      <th>track_album_release_year</th>\n",
       "      <th>duration_min</th>\n",
       "      <th>mode_type</th>\n",
       "      <th>key_name</th>\n",
       "      <th>tempo_range_name</th>\n",
       "    </tr>\n",
       "  </thead>\n",
       "  <tbody>\n",
       "    <tr>\n",
       "      <th>0</th>\n",
       "      <td>0</td>\n",
       "      <td>6f807x0ima9a1j3VPbc7VN</td>\n",
       "      <td>I Don't Care (with Justin Bieber) - Loud Luxur...</td>\n",
       "      <td>Ed Sheeran</td>\n",
       "      <td>66</td>\n",
       "      <td>2oCs0DGTsRO98Gh5ZSl2Cx</td>\n",
       "      <td>I Don't Care (with Justin Bieber) [Loud Luxury...</td>\n",
       "      <td>2019-06-14</td>\n",
       "      <td>Pop Remix</td>\n",
       "      <td>37i9dQZF1DXcZDD7cfEKhW</td>\n",
       "      <td>...</td>\n",
       "      <td>0.000000</td>\n",
       "      <td>0.0653</td>\n",
       "      <td>0.518</td>\n",
       "      <td>122.036</td>\n",
       "      <td>194754</td>\n",
       "      <td>2019</td>\n",
       "      <td>3.245900</td>\n",
       "      <td>Major</td>\n",
       "      <td>F#/Gb</td>\n",
       "      <td>Medium-Fast</td>\n",
       "    </tr>\n",
       "    <tr>\n",
       "      <th>1</th>\n",
       "      <td>1</td>\n",
       "      <td>0r7CVbZTWZgbTCYdfa2P31</td>\n",
       "      <td>Memories - Dillon Francis Remix</td>\n",
       "      <td>Maroon 5</td>\n",
       "      <td>67</td>\n",
       "      <td>63rPSO264uRjW1X5E6cWv6</td>\n",
       "      <td>Memories (Dillon Francis Remix)</td>\n",
       "      <td>2019-12-13</td>\n",
       "      <td>Pop Remix</td>\n",
       "      <td>37i9dQZF1DXcZDD7cfEKhW</td>\n",
       "      <td>...</td>\n",
       "      <td>0.004210</td>\n",
       "      <td>0.3570</td>\n",
       "      <td>0.693</td>\n",
       "      <td>99.972</td>\n",
       "      <td>162600</td>\n",
       "      <td>2019</td>\n",
       "      <td>2.710000</td>\n",
       "      <td>Major</td>\n",
       "      <td>B</td>\n",
       "      <td>Medium</td>\n",
       "    </tr>\n",
       "    <tr>\n",
       "      <th>2</th>\n",
       "      <td>2</td>\n",
       "      <td>1z1Hg7Vb0AhHDiEmnDE79l</td>\n",
       "      <td>All the Time - Don Diablo Remix</td>\n",
       "      <td>Zara Larsson</td>\n",
       "      <td>70</td>\n",
       "      <td>1HoSmj2eLcsrR0vE9gThr4</td>\n",
       "      <td>All the Time (Don Diablo Remix)</td>\n",
       "      <td>2019-07-05</td>\n",
       "      <td>Pop Remix</td>\n",
       "      <td>37i9dQZF1DXcZDD7cfEKhW</td>\n",
       "      <td>...</td>\n",
       "      <td>0.000023</td>\n",
       "      <td>0.1100</td>\n",
       "      <td>0.613</td>\n",
       "      <td>124.008</td>\n",
       "      <td>176616</td>\n",
       "      <td>2019</td>\n",
       "      <td>2.943600</td>\n",
       "      <td>Minor</td>\n",
       "      <td>C#/Db</td>\n",
       "      <td>Medium-Fast</td>\n",
       "    </tr>\n",
       "    <tr>\n",
       "      <th>3</th>\n",
       "      <td>3</td>\n",
       "      <td>75FpbthrwQmzHlBJLuGdC7</td>\n",
       "      <td>Call You Mine - Keanu Silva Remix</td>\n",
       "      <td>The Chainsmokers</td>\n",
       "      <td>60</td>\n",
       "      <td>1nqYsOef1yKKuGOVchbsk6</td>\n",
       "      <td>Call You Mine - The Remixes</td>\n",
       "      <td>2019-07-19</td>\n",
       "      <td>Pop Remix</td>\n",
       "      <td>37i9dQZF1DXcZDD7cfEKhW</td>\n",
       "      <td>...</td>\n",
       "      <td>0.000009</td>\n",
       "      <td>0.2040</td>\n",
       "      <td>0.277</td>\n",
       "      <td>121.956</td>\n",
       "      <td>169093</td>\n",
       "      <td>2019</td>\n",
       "      <td>2.818217</td>\n",
       "      <td>Major</td>\n",
       "      <td>G</td>\n",
       "      <td>Medium-Fast</td>\n",
       "    </tr>\n",
       "    <tr>\n",
       "      <th>4</th>\n",
       "      <td>4</td>\n",
       "      <td>1e8PAfcKUYoKkxPhrHqw4x</td>\n",
       "      <td>Someone You Loved - Future Humans Remix</td>\n",
       "      <td>Lewis Capaldi</td>\n",
       "      <td>69</td>\n",
       "      <td>7m7vv9wlQ4i0LFuJiE2zsQ</td>\n",
       "      <td>Someone You Loved (Future Humans Remix)</td>\n",
       "      <td>2019-03-05</td>\n",
       "      <td>Pop Remix</td>\n",
       "      <td>37i9dQZF1DXcZDD7cfEKhW</td>\n",
       "      <td>...</td>\n",
       "      <td>0.000000</td>\n",
       "      <td>0.0833</td>\n",
       "      <td>0.725</td>\n",
       "      <td>123.976</td>\n",
       "      <td>189052</td>\n",
       "      <td>2019</td>\n",
       "      <td>3.150867</td>\n",
       "      <td>Major</td>\n",
       "      <td>C#/Db</td>\n",
       "      <td>Medium-Fast</td>\n",
       "    </tr>\n",
       "  </tbody>\n",
       "</table>\n",
       "<p>5 rows × 29 columns</p>\n",
       "</div>"
      ],
      "text/plain": [
       "   index                track_id  \\\n",
       "0      0  6f807x0ima9a1j3VPbc7VN   \n",
       "1      1  0r7CVbZTWZgbTCYdfa2P31   \n",
       "2      2  1z1Hg7Vb0AhHDiEmnDE79l   \n",
       "3      3  75FpbthrwQmzHlBJLuGdC7   \n",
       "4      4  1e8PAfcKUYoKkxPhrHqw4x   \n",
       "\n",
       "                                          track_name      track_artist  \\\n",
       "0  I Don't Care (with Justin Bieber) - Loud Luxur...        Ed Sheeran   \n",
       "1                    Memories - Dillon Francis Remix          Maroon 5   \n",
       "2                    All the Time - Don Diablo Remix      Zara Larsson   \n",
       "3                  Call You Mine - Keanu Silva Remix  The Chainsmokers   \n",
       "4            Someone You Loved - Future Humans Remix     Lewis Capaldi   \n",
       "\n",
       "   track_popularity          track_album_id  \\\n",
       "0                66  2oCs0DGTsRO98Gh5ZSl2Cx   \n",
       "1                67  63rPSO264uRjW1X5E6cWv6   \n",
       "2                70  1HoSmj2eLcsrR0vE9gThr4   \n",
       "3                60  1nqYsOef1yKKuGOVchbsk6   \n",
       "4                69  7m7vv9wlQ4i0LFuJiE2zsQ   \n",
       "\n",
       "                                    track_album_name track_album_release_date  \\\n",
       "0  I Don't Care (with Justin Bieber) [Loud Luxury...               2019-06-14   \n",
       "1                    Memories (Dillon Francis Remix)               2019-12-13   \n",
       "2                    All the Time (Don Diablo Remix)               2019-07-05   \n",
       "3                        Call You Mine - The Remixes               2019-07-19   \n",
       "4            Someone You Loved (Future Humans Remix)               2019-03-05   \n",
       "\n",
       "  playlist_name             playlist_id  ... instrumentalness liveness  \\\n",
       "0     Pop Remix  37i9dQZF1DXcZDD7cfEKhW  ...         0.000000   0.0653   \n",
       "1     Pop Remix  37i9dQZF1DXcZDD7cfEKhW  ...         0.004210   0.3570   \n",
       "2     Pop Remix  37i9dQZF1DXcZDD7cfEKhW  ...         0.000023   0.1100   \n",
       "3     Pop Remix  37i9dQZF1DXcZDD7cfEKhW  ...         0.000009   0.2040   \n",
       "4     Pop Remix  37i9dQZF1DXcZDD7cfEKhW  ...         0.000000   0.0833   \n",
       "\n",
       "   valence    tempo  duration_ms  track_album_release_year  duration_min  \\\n",
       "0    0.518  122.036       194754                      2019      3.245900   \n",
       "1    0.693   99.972       162600                      2019      2.710000   \n",
       "2    0.613  124.008       176616                      2019      2.943600   \n",
       "3    0.277  121.956       169093                      2019      2.818217   \n",
       "4    0.725  123.976       189052                      2019      3.150867   \n",
       "\n",
       "   mode_type  key_name  tempo_range_name  \n",
       "0      Major     F#/Gb       Medium-Fast  \n",
       "1      Major         B            Medium  \n",
       "2      Minor     C#/Db       Medium-Fast  \n",
       "3      Major         G       Medium-Fast  \n",
       "4      Major     C#/Db       Medium-Fast  \n",
       "\n",
       "[5 rows x 29 columns]"
      ]
     },
     "execution_count": 71,
     "metadata": {},
     "output_type": "execute_result"
    }
   ],
   "source": [
    "spotify_data_drop_dups.head()"
   ]
  },
  {
   "cell_type": "code",
   "execution_count": 72,
   "id": "86591ecc-674a-4c4d-8b8d-6404fc987207",
   "metadata": {
    "tags": []
   },
   "outputs": [],
   "source": [
    "spotify_data_clean = spotify_data_drop_dups.copy()"
   ]
  },
  {
   "cell_type": "code",
   "execution_count": 73,
   "id": "8371fb7a-90c9-4d92-8353-d1e4077bc5a1",
   "metadata": {
    "tags": []
   },
   "outputs": [],
   "source": [
    "spotify_data_clean.to_csv('spotify_data_clean.csv', index=False)"
   ]
  },
  {
   "cell_type": "markdown",
   "id": "2bed0534-92c7-4706-a0b5-09de4bd75999",
   "metadata": {},
   "source": [
    "---"
   ]
  },
  {
   "cell_type": "markdown",
   "id": "6c6f6d9a-a703-4609-bc18-3c09ef0ace94",
   "metadata": {},
   "source": [
    "## **4. Data Visualization in Power BI** <a class=\"anchor\" id=\"visual\"></a>"
   ]
  },
  {
   "attachments": {
    "55f23ec6-ea6d-4fd0-a9a2-87aaf45095aa.png": {
     "image/png": "[encoded data removed]"
    }
   },
   "cell_type": "markdown",
   "id": "ad27f060-00c6-411e-b8e9-4e7decbc10be",
   "metadata": {},
   "source": [
    "The following dashboard was created in Power BI to present the data from the cleaned dataset:\n",
    "\n",
    "![Spotify Streams Dashboard.png](attachment:55f23ec6-ea6d-4fd0-a9a2-87aaf45095aa.png)"
   ]
  },
  {
   "cell_type": "markdown",
   "id": "0e45a0eb-a725-46ab-a697-555327d94633",
   "metadata": {},
   "source": [
    "---"
   ]
  },
  {
   "cell_type": "markdown",
   "id": "868bf651-bd87-4e51-8a93-81a7a0c30c11",
   "metadata": {},
   "source": [
    "## **5. Analysis** <a class=\"anchor\" id=\"analysis\"></a>"
   ]
  },
  {
   "cell_type": "markdown",
   "id": "37201a22-10da-410a-9e0a-33ebd0fe65a2",
   "metadata": {},
   "source": [
    "### 5.1 General Questions <a class=\"anchor\" id=\"quest\"></a>"
   ]
  },
  {
   "cell_type": "markdown",
   "id": "148d87f4-d72f-4c8e-844b-8769fd9570d7",
   "metadata": {},
   "source": [
    "1. How many artists have at least one song with a popularity score of 100?  Who are they?"
   ]
  },
  {
   "cell_type": "code",
   "execution_count": 81,
   "id": "2fbd8170-9397-4f2f-947a-8eea96639cf3",
   "metadata": {
    "tags": []
   },
   "outputs": [
    {
     "data": {
      "text/plain": [
       "1504    Tones and I\n",
       "Name: track_artist, dtype: object"
      ]
     },
     "execution_count": 81,
     "metadata": {},
     "output_type": "execute_result"
    }
   ],
   "source": [
    "spotify_data_clean[spotify_data_clean['track_popularity'] == 100]['track_artist']"
   ]
  },
  {
   "cell_type": "markdown",
   "id": "8da8b849-059b-4eb8-9197-73ea18c12b26",
   "metadata": {},
   "source": [
    "2. Which 10 artists have the highest average track popularity and what is their score?"
   ]
  },
  {
   "cell_type": "code",
   "execution_count": 83,
   "id": "5e4fc5ff-d77e-465d-9b6d-e6b2aadf7244",
   "metadata": {
    "tags": []
   },
   "outputs": [
    {
     "data": {
      "text/plain": [
       "track_artist\n",
       "Trevor Daniel     97.000000\n",
       "Y2K               91.000000\n",
       "Don Toliver       87.500000\n",
       "Kina              85.500000\n",
       "JACKBOYS          84.333333\n",
       "Dadá Boladão      84.000000\n",
       "DaBaby            83.666667\n",
       "Roddy Ricch       83.428571\n",
       "Olivia Rodrigo    83.000000\n",
       "Dayvi             83.000000\n",
       "Name: track_popularity, dtype: float64"
      ]
     },
     "execution_count": 83,
     "metadata": {},
     "output_type": "execute_result"
    }
   ],
   "source": [
    "spotify_data_clean.groupby('track_artist')['track_popularity'].mean().sort_values(ascending=False).head(10)"
   ]
  },
  {
   "cell_type": "markdown",
   "id": "782f8276-9edf-4ccb-9339-e7529e7a6e0f",
   "metadata": {},
   "source": [
    "3. What are the five most common musical keys for a minor song?"
   ]
  },
  {
   "cell_type": "code",
   "execution_count": 85,
   "id": "ce889c09-6995-4e98-b52f-b2bf1a91a2a4",
   "metadata": {
    "tags": []
   },
   "outputs": [
    {
     "data": {
      "text/plain": [
       "key_name\n",
       "B        1614\n",
       "F        1315\n",
       "A#/Bb    1269\n",
       "F#/Gb    1242\n",
       "A        1226\n",
       "Name: count, dtype: int64"
      ]
     },
     "execution_count": 85,
     "metadata": {},
     "output_type": "execute_result"
    }
   ],
   "source": [
    "spotify_data_clean[spotify_data_clean['mode_type'] == 'Minor']['key_name'].value_counts().head(5)"
   ]
  },
  {
   "cell_type": "markdown",
   "id": "dd0753fc-3b98-46b4-9f19-afb50c9c8393",
   "metadata": {},
   "source": [
    "4. Which 10 artists have the highest number of songs in the dataset and the highest average track popularity?"
   ]
  },
  {
   "cell_type": "code",
   "execution_count": 87,
   "id": "c5f69108-9a81-41a2-b457-22a6ce0b772a",
   "metadata": {
    "tags": []
   },
   "outputs": [
    {
     "data": {
      "text/html": [
       "<div>\n",
       "<style scoped>\n",
       "    .dataframe tbody tr th:only-of-type {\n",
       "        vertical-align: middle;\n",
       "    }\n",
       "\n",
       "    .dataframe tbody tr th {\n",
       "        vertical-align: top;\n",
       "    }\n",
       "\n",
       "    .dataframe thead th {\n",
       "        text-align: right;\n",
       "    }\n",
       "</style>\n",
       "<table border=\"1\" class=\"dataframe\">\n",
       "  <thead>\n",
       "    <tr style=\"text-align: right;\">\n",
       "      <th></th>\n",
       "      <th>track_id</th>\n",
       "      <th>track_popularity</th>\n",
       "    </tr>\n",
       "    <tr>\n",
       "      <th>track_artist</th>\n",
       "      <th></th>\n",
       "      <th></th>\n",
       "    </tr>\n",
       "  </thead>\n",
       "  <tbody>\n",
       "    <tr>\n",
       "      <th>Queen</th>\n",
       "      <td>130</td>\n",
       "      <td>42.400000</td>\n",
       "    </tr>\n",
       "    <tr>\n",
       "      <th>Martin Garrix</th>\n",
       "      <td>87</td>\n",
       "      <td>41.402299</td>\n",
       "    </tr>\n",
       "    <tr>\n",
       "      <th>Don Omar</th>\n",
       "      <td>84</td>\n",
       "      <td>39.059524</td>\n",
       "    </tr>\n",
       "    <tr>\n",
       "      <th>David Guetta</th>\n",
       "      <td>81</td>\n",
       "      <td>49.370370</td>\n",
       "    </tr>\n",
       "    <tr>\n",
       "      <th>Drake</th>\n",
       "      <td>68</td>\n",
       "      <td>41.808824</td>\n",
       "    </tr>\n",
       "    <tr>\n",
       "      <th>Hardwell</th>\n",
       "      <td>68</td>\n",
       "      <td>36.323529</td>\n",
       "    </tr>\n",
       "    <tr>\n",
       "      <th>Dimitri Vegas &amp; Like Mike</th>\n",
       "      <td>68</td>\n",
       "      <td>36.220588</td>\n",
       "    </tr>\n",
       "    <tr>\n",
       "      <th>The Chainsmokers</th>\n",
       "      <td>66</td>\n",
       "      <td>49.227273</td>\n",
       "    </tr>\n",
       "    <tr>\n",
       "      <th>Logic</th>\n",
       "      <td>65</td>\n",
       "      <td>41.907692</td>\n",
       "    </tr>\n",
       "    <tr>\n",
       "      <th>Guns N' Roses</th>\n",
       "      <td>63</td>\n",
       "      <td>27.206349</td>\n",
       "    </tr>\n",
       "  </tbody>\n",
       "</table>\n",
       "</div>"
      ],
      "text/plain": [
       "                           track_id  track_popularity\n",
       "track_artist                                         \n",
       "Queen                           130         42.400000\n",
       "Martin Garrix                    87         41.402299\n",
       "Don Omar                         84         39.059524\n",
       "David Guetta                     81         49.370370\n",
       "Drake                            68         41.808824\n",
       "Hardwell                         68         36.323529\n",
       "Dimitri Vegas & Like Mike        68         36.220588\n",
       "The Chainsmokers                 66         49.227273\n",
       "Logic                            65         41.907692\n",
       "Guns N' Roses                    63         27.206349"
      ]
     },
     "execution_count": 87,
     "metadata": {},
     "output_type": "execute_result"
    }
   ],
   "source": [
    "spotify_data_clean.groupby('track_artist').agg(\n",
    "    {'track_id':'count', 'track_popularity':'mean'}\n",
    ").sort_values(by=['track_id', 'track_popularity'], ascending=[False, False]).head(10)"
   ]
  },
  {
   "cell_type": "markdown",
   "id": "8da8771c-e0d1-4250-bde1-51860d99f925",
   "metadata": {},
   "source": [
    "5. How has the average track popularity changed with the release year of a song?"
   ]
  },
  {
   "cell_type": "code",
   "execution_count": 89,
   "id": "8f3f4056-1685-4cd8-b22a-e7902b899766",
   "metadata": {
    "tags": []
   },
   "outputs": [
    {
     "data": {
      "text/plain": [
       "track_album_release_year\n",
       "1957    30.000000\n",
       "1958    73.000000\n",
       "1960    16.000000\n",
       "1961    47.000000\n",
       "1962    64.000000\n",
       "          ...    \n",
       "2016    35.393856\n",
       "2017    39.013017\n",
       "2018    42.565992\n",
       "2019    47.412638\n",
       "2020    42.781150\n",
       "Name: track_popularity, Length: 63, dtype: float64"
      ]
     },
     "execution_count": 89,
     "metadata": {},
     "output_type": "execute_result"
    }
   ],
   "source": [
    "avg_track_popularity = spotify_data_clean.groupby('track_album_release_year')['track_popularity'].mean()\n",
    "avg_track_popularity"
   ]
  },
  {
   "cell_type": "code",
   "execution_count": 90,
   "id": "5f82daf8-ef24-4758-b5a4-54f94e6830f6",
   "metadata": {
    "tags": []
   },
   "outputs": [
    {
     "name": "stderr",
     "output_type": "stream",
     "text": [
      "C:\\Users\\ejb51\\anaconda3\\Lib\\site-packages\\seaborn\\_oldcore.py:1119: FutureWarning: use_inf_as_na option is deprecated and will be removed in a future version. Convert inf values to NaN before operating instead.\n",
      "  with pd.option_context('mode.use_inf_as_na', True):\n",
      "C:\\Users\\ejb51\\anaconda3\\Lib\\site-packages\\seaborn\\_oldcore.py:1119: FutureWarning: use_inf_as_na option is deprecated and will be removed in a future version. Convert inf values to NaN before operating instead.\n",
      "  with pd.option_context('mode.use_inf_as_na', True):\n"
     ]
    },
    {
     "data": {
      "image/png": "[encoded data removed]",
      "text/plain": [
       "<Figure size 640x480 with 1 Axes>"
      ]
     },
     "metadata": {},
     "output_type": "display_data"
    }
   ],
   "source": [
    "avg_track_popularity = spotify_data_clean.groupby('track_album_release_year')['track_popularity'].mean()\n",
    "\n",
    "fig = sns.lineplot(avg_track_popularity)\n",
    "plt.xlabel('Track Album Release Year')\n",
    "plt.ylabel('Avg. Track Popularity')\n",
    "plt.title('Avg. Track Popularity by Track Album Release Year')\n",
    "plt.show(fig)"
   ]
  },
  {
   "cell_type": "markdown",
   "id": "0926af58-a2c4-4764-b341-113f6b7e4ead",
   "metadata": {
    "tags": []
   },
   "source": [
    "The average track popularity has large variability below around 1965, but slowly becomes more consistent in the 1970's.  After that, the average slowly decreases until 2010 where it rises again."
   ]
  },
  {
   "cell_type": "markdown",
   "id": "fa72e735-0d71-4cee-aff2-0b2436935164",
   "metadata": {},
   "source": [
    "6. What is the distribution of the number of songs by decade through 2020?"
   ]
  },
  {
   "cell_type": "code",
   "execution_count": 93,
   "id": "edba3659-683f-42f9-91a9-49631569ecdd",
   "metadata": {
    "tags": []
   },
   "outputs": [
    {
     "name": "stderr",
     "output_type": "stream",
     "text": [
      "C:\\Users\\ejb51\\anaconda3\\Lib\\site-packages\\seaborn\\_oldcore.py:1119: FutureWarning: use_inf_as_na option is deprecated and will be removed in a future version. Convert inf values to NaN before operating instead.\n",
      "  with pd.option_context('mode.use_inf_as_na', True):\n"
     ]
    },
    {
     "data": {
      "image/png": "[encoded data removed]",
      "text/plain": [
       "<Figure size 640x480 with 1 Axes>"
      ]
     },
     "metadata": {},
     "output_type": "display_data"
    }
   ],
   "source": [
    "fig = sns.histplot(\n",
    "    spotify_data_clean['track_album_release_year'],\n",
    "    binwidth=10,\n",
    "    binrange= [1950, 2020],\n",
    "    )\n",
    "plt.title('Number of Songs Released by Decade through 2020')\n",
    "plt.xlabel('Track Album Release Year')\n",
    "plt.ylabel('Number of Songs')\n",
    "plt.show(fig)\n",
    "    "
   ]
  },
  {
   "cell_type": "markdown",
   "id": "7d5fc01c-55e7-4c47-aacd-50a6dbbc0de1",
   "metadata": {},
   "source": [
    "This dataset contains a lot more recent songs than older songs by a large majority."
   ]
  },
  {
   "cell_type": "markdown",
   "id": "f8c6b0a3-1e92-4a6e-98be-e13066ae1091",
   "metadata": {
    "tags": []
   },
   "source": [
    "\n",
    "\n",
    "### 5.2 Inferential Statistics <a class=\"anchor\" id=\"stats\"></a>"
   ]
  },
  {
   "cell_type": "markdown",
   "id": "2a0de209-5175-4d1a-8296-5b0fbe5e2ba0",
   "metadata": {},
   "source": [
    "The main goal of this analysis is to see if variables in the dataset that a music producer or song writer has control over have any effect on the popularity of the track.  Based on the columns in the dataset, the variables that meet this definition are modality (<code>mode_type</code>), song speed (<code>tempo_range_name</code>), and song length (<code>duration_min</code>).  While a songwriter could control some of the subjective variables like <code>energy</code> or <code>loudness</code>, that does not seem practical as those indicators are genre specific. </br></br>While musical key (<code>key_name</code>) could be an artist choice, certain instruments are easier to play in certain keys, as well as artists just like writing in certain keys for comfort or their singing range matches it.  That difference would be tough to get out of the dataset because the instruments used are unavailable.  Also, some tracks use virtual instruments which can be played in any key.  "
   ]
  },
  {
   "cell_type": "code",
   "execution_count": 98,
   "id": "b8c602ad-2b59-454b-9923-a9a6d08fc863",
   "metadata": {
    "tags": []
   },
   "outputs": [],
   "source": [
    "spotify_data_stats = spotify_data_clean[[\n",
    "    'track_id', 'track_artist', 'track_name', 'duration_min', 'mode_type', 'tempo_range_name', 'track_popularity']]"
   ]
  },
  {
   "cell_type": "markdown",
   "id": "0ccc359b-9c0b-4aff-858e-1f07baac3487",
   "metadata": {},
   "source": [
    "**Chi-Square Test for Mode Type**"
   ]
  },
  {
   "cell_type": "markdown",
   "id": "1f9836b2-1677-4e04-9d6c-f3492db33f45",
   "metadata": {},
   "source": [
    "The dataset contains 56% of songs in a major key and 46% of songs in a minor key.  In music, the major key is generally a happier and upbeat key while minor is sadder and darker sounding.  There are great songs written in both keys, which leads to an assumption that the distribution of songs in both should be equal.  That hypothesis will be tested below using a chi-square goodness of fit test.  "
   ]
  },
  {
   "cell_type": "code",
   "execution_count": 100,
   "id": "ce394f45-daec-4051-a96a-8046e87bac39",
   "metadata": {
    "tags": []
   },
   "outputs": [
    {
     "data": {
      "text/plain": [
       "mode_type\n",
       "Major    0.565518\n",
       "Minor    0.434482\n",
       "Name: proportion, dtype: float64"
      ]
     },
     "execution_count": 100,
     "metadata": {},
     "output_type": "execute_result"
    }
   ],
   "source": [
    "spotify_data_stats['mode_type'].value_counts(normalize=True)"
   ]
  },
  {
   "cell_type": "code",
   "execution_count": 101,
   "id": "f73d0750-7f6f-4299-8e8a-cc9a5d3384d8",
   "metadata": {
    "tags": []
   },
   "outputs": [
    {
     "data": {
      "text/plain": [
       "array([16033, 12318], dtype=int64)"
      ]
     },
     "execution_count": 101,
     "metadata": {},
     "output_type": "execute_result"
    }
   ],
   "source": [
    "actual_dist_mode_type = spotify_data_stats['mode_type'].value_counts().values\n",
    "actual_dist_mode_type"
   ]
  },
  {
   "cell_type": "code",
   "execution_count": 102,
   "id": "e268e63d-2453-4dbc-a930-8f11f0b90e93",
   "metadata": {
    "tags": []
   },
   "outputs": [
    {
     "data": {
      "text/plain": [
       "array([14175.5, 14175.5])"
      ]
     },
     "execution_count": 102,
     "metadata": {},
     "output_type": "execute_result"
    }
   ],
   "source": [
    "expected_dist_mode_type = spotify_data_stats['track_id'].count() * np.array([0.5, 0.5])\n",
    "expected_dist_mode_type"
   ]
  },
  {
   "cell_type": "markdown",
   "id": "b641762f-cbc9-4ed8-b4bc-be7f246d6e12",
   "metadata": {},
   "source": [
    "Here is the set up for the chi-square test with assumptions:\n",
    "\n",
    "Confidence level:  95% (p value = 0.05)\n",
    "\n",
    "- H<sub>0</sub> : The distribution of minor vs. major key songs in the population is 50/50 (P = [0.5, 0.5]).\n",
    "- H<sub>1</sub> : The distribution of minor vs. major key songs in the population is NOT 50/50 (P $\\neq$ [0.5, 0.5]).\n",
    "\n",
    "Assumptions:\n",
    "1. Is the data from a random sample or random assignment? <br/>\n",
    "Since the data comes from a random pull from the Spotify API, the data will be assumed to be random. \n",
    "<br/><br/>\n",
    "2. Are the expected counts greater than 5? <br/> \n",
    "Yes, they are around 14175. <br/><br/>\n",
    "3. Can the observations be independent? <br/>\n",
    "Because the sample of 30,000 songs is much less than the population of songs on Spotify, the observations can be assumed to be independent."
   ]
  },
  {
   "cell_type": "code",
   "execution_count": 104,
   "id": "3a182c70-59da-427d-9d81-9e383b48b66b",
   "metadata": {
    "tags": []
   },
   "outputs": [
    {
     "data": {
      "text/plain": [
       "Power_divergenceResult(statistic=486.7985256251984, pvalue=7.086325339139356e-108)"
      ]
     },
     "execution_count": 104,
     "metadata": {},
     "output_type": "execute_result"
    }
   ],
   "source": [
    "stats.chisquare(actual_dist_mode_type, f_exp=expected_dist_mode_type)"
   ]
  },
  {
   "cell_type": "markdown",
   "id": "2cf1062c-2c53-46c8-afa4-0b3149f988d4",
   "metadata": {},
   "source": [
    "Assuming that the distribution of musical keys within the population is split evenly, there is a 7.08e-108 probability that the data observed is due to sampling variably.  Since 7.08e-108 is less than the p value of 0.05 for a 95% confidence level, the null hypothesis is rejected and conclude that there is a difference in major vs. minor key distribution in the population.  "
   ]
  },
  {
   "cell_type": "markdown",
   "id": "b52d113f-4929-4802-a89a-672f92931be0",
   "metadata": {},
   "source": [
    "**Two-Sample T-Test of Mode Type vs. Track Popularity**"
   ]
  },
  {
   "cell_type": "markdown",
   "id": "a3160a35-4261-477b-bd8e-003ce3263c90",
   "metadata": {},
   "source": [
    "Knowing that there is a difference in minor vs. major key songs in the population, is there a difference in track popularity between the two types?"
   ]
  },
  {
   "cell_type": "code",
   "execution_count": 107,
   "id": "34053c1b-a849-4f62-998f-0647b4fca9f7",
   "metadata": {
    "tags": []
   },
   "outputs": [
    {
     "data": {
      "text/plain": [
       "39.336707699904764"
      ]
     },
     "execution_count": 107,
     "metadata": {},
     "output_type": "execute_result"
    }
   ],
   "source": [
    "spotify_data_stats['track_popularity'].mean()"
   ]
  },
  {
   "cell_type": "code",
   "execution_count": 108,
   "id": "904ea9b2-d582-471c-85a1-367031530fb4",
   "metadata": {
    "tags": []
   },
   "outputs": [
    {
     "data": {
      "text/plain": [
       "42.0"
      ]
     },
     "execution_count": 108,
     "metadata": {},
     "output_type": "execute_result"
    }
   ],
   "source": [
    "spotify_data_stats['track_popularity'].median()"
   ]
  },
  {
   "cell_type": "code",
   "execution_count": 109,
   "id": "9b94b813-114a-41df-8549-6ec6c3d1ef1f",
   "metadata": {
    "tags": []
   },
   "outputs": [
    {
     "data": {
      "text/plain": [
       "mode_type\n",
       "Major    39.672862\n",
       "Minor    38.899172\n",
       "Name: track_popularity, dtype: float64"
      ]
     },
     "execution_count": 109,
     "metadata": {},
     "output_type": "execute_result"
    }
   ],
   "source": [
    "spotify_data_stats.groupby('mode_type')['track_popularity'].mean()"
   ]
  },
  {
   "cell_type": "markdown",
   "id": "ce62cfec-8233-4c75-b0e8-6e148289a2e4",
   "metadata": {},
   "source": [
    "The means for track popularity of major is greater than the mean of the minor songs, but they are very close to each other.  A two-sample t-test will be performed to determine if there could be a difference."
   ]
  },
  {
   "cell_type": "markdown",
   "id": "4c289ec2-1efa-4c14-bef6-b835683e72af",
   "metadata": {},
   "source": [
    "Here is the set up for the two-sample t-test with assumptions:\n",
    "\n",
    "Confidence level:  95% (p value = 0.05)\n",
    "\n",
    "- H<sub>0</sub> : The mean track popularity for songs with a major key is less than or equal to the mean track popularity for songs with a minor key ($\\mu$<sub>major</sub> $\\leq$ $\\mu$<sub>minor</sub>)\n",
    "- H<sub>1</sub> : The mean track popularity for songs with a major key is greater than the mean track popularity for songs with a minor key ($\\mu$<sub>major</sub> > $\\mu$<sub>minor</sub>)\n",
    "\n",
    "\n",
    "\n",
    "Assumptions:\n",
    "1. Can the observations be independent? <br/>\n",
    "Because the sample of 30,000 songs is much less than the population of songs on Spotify, the observations can be assumed to be independent.  Also, no identical songs were included in the sample.\n",
    "<br/><br/>\n",
    "2. Is the data normally distributed?"
   ]
  },
  {
   "cell_type": "code",
   "execution_count": 175,
   "id": "d7f18149-d4fb-432d-8af5-3e21fe73d1c0",
   "metadata": {
    "tags": []
   },
   "outputs": [
    {
     "name": "stderr",
     "output_type": "stream",
     "text": [
      "C:\\Users\\ejb51\\anaconda3\\Lib\\site-packages\\seaborn\\_oldcore.py:1119: FutureWarning: use_inf_as_na option is deprecated and will be removed in a future version. Convert inf values to NaN before operating instead.\n",
      "  with pd.option_context('mode.use_inf_as_na', True):\n"
     ]
    },
    {
     "data": {
      "image/png": "[encoded data removed]",
      "text/plain": [
       "<Figure size 640x480 with 1 Axes>"
      ]
     },
     "metadata": {},
     "output_type": "display_data"
    }
   ],
   "source": [
    "fig = sns.histplot(spotify_data_stats['track_popularity'], binwidth=1)\n",
    "plt.xlabel('Track Popularity')\n",
    "plt.title('Histogram of Track Popularity (Bin Width = 1)')\n",
    "plt.show(fig)"
   ]
  },
  {
   "cell_type": "markdown",
   "id": "c12140bd-c9ca-401e-8c2b-d0b0e4dbf2bc",
   "metadata": {},
   "source": [
    "The histogram shows a large majority of 0's.  If those were removed, would that change the distribution?  "
   ]
  },
  {
   "cell_type": "code",
   "execution_count": 181,
   "id": "415db7a4-75d5-4486-8e3e-c638a164ce66",
   "metadata": {
    "tags": []
   },
   "outputs": [],
   "source": [
    "spotify_data_stats_no_zeroes = spotify_data_stats[spotify_data_stats['track_popularity'] != 0]"
   ]
  },
  {
   "cell_type": "code",
   "execution_count": 183,
   "id": "6a134ca1-d72b-4a14-beb4-2e5418234702",
   "metadata": {
    "tags": []
   },
   "outputs": [
    {
     "name": "stderr",
     "output_type": "stream",
     "text": [
      "C:\\Users\\ejb51\\anaconda3\\Lib\\site-packages\\seaborn\\_oldcore.py:1119: FutureWarning: use_inf_as_na option is deprecated and will be removed in a future version. Convert inf values to NaN before operating instead.\n",
      "  with pd.option_context('mode.use_inf_as_na', True):\n"
     ]
    },
    {
     "data": {
      "image/png": "[encoded data removed]",
      "text/plain": [
       "<Figure size 640x480 with 1 Axes>"
      ]
     },
     "metadata": {},
     "output_type": "display_data"
    }
   ],
   "source": [
    "fig = sns.histplot(spotify_data_stats_no_zeroes['track_popularity'], binwidth=2)\n",
    "plt.xlabel('Track Popularity')\n",
    "plt.title('Histogram of Track Popularity (Bin Width = 2)')\n",
    "plt.show(fig)"
   ]
  },
  {
   "cell_type": "markdown",
   "id": "349bfdc6-723d-4db0-b182-c31c87a89c52",
   "metadata": {},
   "source": [
    "The data does not appear to be normally distributed as there are two peaks, but for the purposes of this analysis, it will be assumed that the distribution will approach normal given a high enough sample size.  Spotify has over 100 million songs, so this sample makes up a very small amount of the total population."
   ]
  },
  {
   "cell_type": "code",
   "execution_count": 192,
   "id": "e93d18f6-9304-4001-9f6d-e86169b9c309",
   "metadata": {
    "tags": []
   },
   "outputs": [
    {
     "data": {
      "text/plain": [
       "mode_type\n",
       "Major    43.629536\n",
       "Minor    42.947029\n",
       "Name: track_popularity, dtype: float64"
      ]
     },
     "execution_count": 192,
     "metadata": {},
     "output_type": "execute_result"
    }
   ],
   "source": [
    "spotify_data_stats_no_zeroes.groupby('mode_type')['track_popularity'].mean()"
   ]
  },
  {
   "cell_type": "markdown",
   "id": "bc83a59f-10c0-4475-9e29-619b20643681",
   "metadata": {},
   "source": [
    "Even after the zeroes were removed from the dataset, the mean of major key songs is still higher than the mean of minor key songs."
   ]
  },
  {
   "cell_type": "code",
   "execution_count": 185,
   "id": "9eec2536-a0d2-427e-bc69-30267c773e2f",
   "metadata": {
    "tags": []
   },
   "outputs": [],
   "source": [
    "major_songs = spotify_data_stats_no_zeroes[spotify_data_stats_no_zeroes['mode_type'] == 'Major']['track_popularity'].values\n",
    "minor_songs = spotify_data_stats_no_zeroes[spotify_data_stats_no_zeroes['mode_type'] == 'Minor']['track_popularity'].values"
   ]
  },
  {
   "cell_type": "code",
   "execution_count": 205,
   "id": "e949d0f2-0d5b-4547-858f-40a065fc003d",
   "metadata": {
    "tags": []
   },
   "outputs": [
    {
     "data": {
      "text/plain": [
       "TtestResult(statistic=2.5738526397666894, pvalue=0.005031613521234892, df=24103.70746892788)"
      ]
     },
     "execution_count": 205,
     "metadata": {},
     "output_type": "execute_result"
    }
   ],
   "source": [
    "stats.ttest_ind(a=major_songs, b=minor_songs, equal_var=False, alternative='greater')"
   ]
  },
  {
   "cell_type": "markdown",
   "id": "5dba94f2-7679-47b2-ad41-b1ac2201257c",
   "metadata": {},
   "source": [
    "Assuming that the mean track popularity of major songs is less than or equal to the mean track popularity of minor songs, there is a 0.00503 probability that the data observed is due to sampling variably.  Since 0.00503 is less than the p value of 0.05 for a 95% confidence level, the null hypothesis is rejected and conclude that the mean track popularity of major key songs is greater than the mean track popularity of minor key songs."
   ]
  },
  {
   "cell_type": "markdown",
   "id": "f9919a86-772a-4aef-81e5-2b1d1b9107dc",
   "metadata": {},
   "source": [
    "**Linear Regression for Song Duration in Min vs. Track Popularity**"
   ]
  },
  {
   "cell_type": "code",
   "execution_count": 215,
   "id": "0bfa8183-f655-4870-8adc-143674a96555",
   "metadata": {
    "tags": []
   },
   "outputs": [
    {
     "data": {
      "image/png": "[encoded data removed]",
      "text/plain": [
       "<Figure size 640x480 with 1 Axes>"
      ]
     },
     "metadata": {},
     "output_type": "display_data"
    }
   ],
   "source": [
    "fig = sns.scatterplot(\n",
    "    x = spotify_data_stats_no_zeroes['duration_min'],\n",
    "    y = spotify_data_stats_no_zeroes['track_popularity']\n",
    ")\n",
    "\n",
    "plt.xlabel('Duration in Min.')\n",
    "plt.ylabel('Track Popularity')\n",
    "plt.title('Duration in Min. vs. Track Popularity')\n",
    "plt.show(fig)"
   ]
  },
  {
   "cell_type": "markdown",
   "id": "90c26120-a536-49cd-adc1-5cdfbff6181c",
   "metadata": {
    "tags": []
   },
   "source": [
    "According to the scatter plot, there does not appear to be any correlation between the duration of a song in minutes and its track popularity.  This result will be confirmed using linear regression.  "
   ]
  },
  {
   "cell_type": "code",
   "execution_count": 222,
   "id": "18822873-e973-41df-8925-5f4bafbb42e9",
   "metadata": {
    "tags": []
   },
   "outputs": [],
   "source": [
    "slope, intercept, r_value, p_value, std_err = stats.linregress(x = spotify_data_stats_no_zeroes['duration_min'],\n",
    "    y = spotify_data_stats_no_zeroes['track_popularity'])"
   ]
  },
  {
   "cell_type": "code",
   "execution_count": 226,
   "id": "80c56fca-fd01-4215-a8c3-ffa8dbe08c52",
   "metadata": {
    "tags": []
   },
   "outputs": [
    {
     "data": {
      "text/plain": [
       "0.011553614631587274"
      ]
     },
     "execution_count": 226,
     "metadata": {},
     "output_type": "execute_result"
    }
   ],
   "source": [
    "r_value ** 2"
   ]
  },
  {
   "cell_type": "markdown",
   "id": "3817a052-7f3d-431f-ab7e-aa06797388c6",
   "metadata": {},
   "source": [
    "The R<sup>2</sup> value of this pair is 0.011, which means the linear regression is a poor choice to describe this relationship. "
   ]
  },
  {
   "cell_type": "markdown",
   "id": "2012f478-3917-4172-af20-a4df24214212",
   "metadata": {},
   "source": [
    "**Anova for Tempo Range vs. Track Popularity**"
   ]
  },
  {
   "cell_type": "code",
   "execution_count": 237,
   "id": "873ff1e2-a38b-4f25-ace8-07a56542c243",
   "metadata": {
    "tags": []
   },
   "outputs": [
    {
     "name": "stderr",
     "output_type": "stream",
     "text": [
      "C:\\Users\\ejb51\\AppData\\Local\\Temp\\ipykernel_15964\\824230557.py:1: FutureWarning: The default of observed=False is deprecated and will be changed to True in a future version of pandas. Pass observed=False to retain current behavior or observed=True to adopt the future default and silence this warning.\n",
      "  spotify_data_stats_no_zeroes.groupby('tempo_range_name')['track_popularity'].mean()\n"
     ]
    },
    {
     "data": {
      "text/plain": [
       "tempo_range_name\n",
       "Slow           44.771429\n",
       "Medium-Slow    42.744825\n",
       "Medium         44.870324\n",
       "Medium-Fast    40.978788\n",
       "Fast           44.830286\n",
       "Name: track_popularity, dtype: float64"
      ]
     },
     "execution_count": 237,
     "metadata": {},
     "output_type": "execute_result"
    }
   ],
   "source": [
    "spotify_data_stats_no_zeroes.groupby('tempo_range_name')['track_popularity'].mean()"
   ]
  },
  {
   "cell_type": "markdown",
   "id": "fb474e7b-1512-443d-bbf5-d32ba3af621f",
   "metadata": {},
   "source": [
    "The means of track popularity at each tempo range are fairly close to each other, but there could still be a statistical difference.  This hypothesis will be tested using Anova."
   ]
  },
  {
   "cell_type": "markdown",
   "id": "2e3bdb8c-e885-4bac-8756-6b49fb10d672",
   "metadata": {},
   "source": [
    "Here is the set up for the Anova test:\n",
    "\n",
    "Confidence level:  95% (p value = 0.05)\n",
    "\n",
    "- H<sub>0</sub> : The mean track popularity is the same for all tempo range names\n",
    "- H<sub>1</sub> : At least one mean track popularity is different for one of the tempo range names \n"
   ]
  },
  {
   "cell_type": "code",
   "execution_count": 249,
   "id": "6351f141-3667-4685-bfd0-0cf1da67be86",
   "metadata": {
    "tags": []
   },
   "outputs": [],
   "source": [
    "slow_songs = spotify_data_stats_no_zeroes[spotify_data_stats_no_zeroes['tempo_range_name'] == 'Slow']['track_popularity']\n",
    "med_slow_songs = spotify_data_stats_no_zeroes[spotify_data_stats_no_zeroes['tempo_range_name'] == 'Medium-Slow']['track_popularity']\n",
    "med_songs = spotify_data_stats_no_zeroes[spotify_data_stats_no_zeroes['tempo_range_name'] == 'Medium']['track_popularity']\n",
    "med_fast_songs = spotify_data_stats_no_zeroes[spotify_data_stats_no_zeroes['tempo_range_name'] == 'Medium-Fast']['track_popularity']\n",
    "fast_songs = spotify_data_stats_no_zeroes[spotify_data_stats_no_zeroes['tempo_range_name'] == 'Fast']['track_popularity']"
   ]
  },
  {
   "cell_type": "code",
   "execution_count": 251,
   "id": "cd6a23d1-6039-45c5-86e3-d4af526aae2f",
   "metadata": {
    "tags": []
   },
   "outputs": [
    {
     "data": {
      "text/plain": [
       "F_onewayResult(statistic=46.28065679035692, pvalue=8.185870565901775e-39)"
      ]
     },
     "execution_count": 251,
     "metadata": {},
     "output_type": "execute_result"
    }
   ],
   "source": [
    "stats.f_oneway(slow_songs, med_slow_songs, med_songs, med_fast_songs, fast_songs)"
   ]
  },
  {
   "cell_type": "markdown",
   "id": "b2d011d1-5a60-4750-ba9d-49a4509867dc",
   "metadata": {},
   "source": [
    "Assuming that the mean track popularity of songs is same for all tempo range names, there is a 8.18e-39 probability that the data observed is due to sampling variably. Since 8.18e-39 is less than the p value of 0.05 for a 95% confidence level, the null hypothesis is rejected and conclude that the mean track popularity of songs is NOT the same for all tempo range names.  "
   ]
  },
  {
   "cell_type": "markdown",
   "id": "02d222db-87a3-4595-b5e7-76330a6057f3",
   "metadata": {
    "tags": []
   },
   "source": [
    "---\n",
    "## **6. Conclusion** <a class=\"anchor\" id=\"conclude\"></a>"
   ]
  },
  {
   "cell_type": "markdown",
   "id": "44707b2b-f868-4d13-9646-798ebd718e82",
   "metadata": {},
   "source": [
    "The goal of this analysis was to see if there were any factors that are within a music writer or producer’s control that could increase a new track’s popularity.  Here are the results of the factors that were tested at a 95% confidence level:\n",
    "- The dataset did not contain an equal percentage of major vs. minor songs.\n",
    "- The mean track popularity of songs with a major key is greater than that of minor key songs.\n",
    "- There was no correlation between the duration of a song and its track popularity.\n",
    "- There is a difference in means of songs at different tempo range names.\n",
    "\n",
    "Writing music is an art and there are a lot more factors that make a song popular that were outside of the scope of this analysis.  However, major key songs, which are generally interpreted as upbeat and happy, are more popular than minor key songs with the genres in the dataset.  That seems to make sense because people usually want to listen to music to feel better and have fun.  So, if a person would want to have a higher chance to have a popular track, the best advice given this analysis is to write in a major key.  \n"
   ]
  },
  {
   "cell_type": "markdown",
   "id": "857dc1d0-45b9-475e-ac8a-4d97c80890bc",
   "metadata": {},
   "source": [
    "---\n",
    "## **7. Appendix** <a class=\"anchor\" id=\"append\"></a>"
   ]
  },
  {
   "cell_type": "markdown",
   "id": "6171a289-8338-41fc-9ff2-79a84f81dbb4",
   "metadata": {},
   "source": [
    "The description of the columns from the dataset author's readme are listed below:\n",
    "\n",
    "|variable                 |class     |description |\n",
    "|:---|:---|:-------|\n",
    "|track_id                 |character | Song unique ID|\n",
    "|track_name               |character | Song Name|\n",
    "|track_artist             |character | Song Artist|\n",
    "|track_popularity         |double    | Song Popularity (0-100) where higher is better |\n",
    "|track_album_id           |character | Album unique ID|\n",
    "|track_album_name         |character | Song album name |\n",
    "|track_album_release_date |character | Date when album released |\n",
    "|playlist_name            |character | Name of playlist |\n",
    "|playlist_id              |character | Playlist ID|\n",
    "|playlist_genre           |character | Playlist genre |\n",
    "|playlist_subgenre        |character | Playlist subgenre|\n",
    "|danceability             |double    | Danceability describes how suitable a track is for dancing based on a combination of musical elements including tempo, rhythm stability, beat strength, and overall regularity. A value of 0.0 is least danceable and 1.0 is most danceable. |\n",
    "|energy                   |double    | Energy is a measure from 0.0 to 1.0 and represents a perceptual measure of intensity and activity. Typically, energetic tracks feel fast, loud, and noisy. For example, death metal has high energy, while a Bach prelude scores low on the scale. Perceptual features contributing to this attribute include dynamic range, perceived loudness, timbre, onset rate, and general entropy. |\n",
    "|key                      |double    | The estimated overall key of the track. Integers map to pitches using standard Pitch Class notation . E.g. 0 = C, 1 = C♯/D♭, 2 = D, and so on. If no key was detected, the value is -1. |\n",
    "|loudness                 |double    | The overall loudness of a track in decibels (dB). Loudness values are averaged across the entire track and are useful for comparing relative loudness of tracks. Loudness is the quality of a sound that is the primary psychological correlate of physical strength (amplitude). Values typical range between -60 and 0 db.|\n",
    "|mode                     |double    | Mode indicates the modality (major or minor) of a track, the type of scale from which its melodic content is derived. Major is represented by 1 and minor is 0.|\n",
    "|speechiness              |double    | Speechiness detects the presence of spoken words in a track. The more exclusively speech-like the recording (e.g. talk show, audio book, poetry), the closer to 1.0 the attribute value. Values above 0.66 describe tracks that are probably made entirely of spoken words. Values between 0.33 and 0.66 describe tracks that may contain both music and speech, either in sections or layered, including such cases as rap music. Values below 0.33 most likely represent music and other non-speech-like tracks. |\n",
    "|acousticness             |double    | A confidence measure from 0.0 to 1.0 of whether the track is acoustic. 1.0 represents high confidence the track is acoustic.|\n",
    "|instrumentalness         |double    | Predicts whether a track contains no vocals. \"Ooh\" and \"aah\" sounds are treated as instrumental in this context. Rap or spoken word tracks are clearly \"vocal\". The closer the instrumentalness value is to 1.0, the greater likelihood the track contains no vocal content. Values above 0.5 are intended to represent instrumental tracks, but confidence is higher as the value approaches 1.0. |\n",
    "|liveness                 |double    | Detects the presence of an audience in the recording. Higher liveness values represent an increased probability that the track was performed live. A value above 0.8 provides strong likelihood that the track is live. |\n",
    "|valence                  |double    | A measure from 0.0 to 1.0 describing the musical positiveness conveyed by a track. Tracks with high valence sound more positive (e.g. happy, cheerful, euphoric), while tracks with low valence sound more negative (e.g. sad, depressed, angry). |\n",
    "|tempo                    |double    | The overall estimated tempo of a track in beats per minute (BPM). In musical terminology, tempo is the speed or pace of a given piece and derives directly from the average beat duration. |\n",
    "|duration_ms              |double    | Duration of song in milliseconds |"
   ]
  }
 ],
 "metadata": {
  "kernelspec": {
   "display_name": "Python 3 (ipykernel)",
   "language": "python",
   "name": "python3"
  },
  "language_info": {
   "codemirror_mode": {
    "name": "ipython",
    "version": 3
   },
   "file_extension": ".py",
   "mimetype": "text/x-python",
   "name": "python",
   "nbconvert_exporter": "python",
   "pygments_lexer": "ipython3",
   "version": "3.11.7"
  }
 },
 "nbformat": 4,
 "nbformat_minor": 5
}
