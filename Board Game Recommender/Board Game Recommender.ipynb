{
 "cells": [
  {
   "cell_type": "markdown",
   "id": "0eacd103-b8bc-41a6-b074-c5c9cf43c530",
   "metadata": {},
   "source": [
    "# <center>**Board Game Recommender**</center>\n",
    "\n",
    "<img src='Board_Game.png'>\n",
    "\n",
    "## **Table of Contents (Work in progress)**\n",
    "\n",
    "1. [Problem Statement](#problem)\n",
    "2. [Data Loading and Exploration](#data-loading)\n",
    "3. [Data Preprocessing](#data-preprocess)\n",
    "[<ul>4.1 Custom Transformer</ul>](#custom)\n",
    "[<ul>4.2 Numerical Pipelines</ul>](#numeric)\n",
    "[<ul>4.3 Ordinal Pipeline</ul>](#ordinal)\n",
    "[<ul>4.4 Column Transformers</ul>](#column)\n",
    "4. [Model Selection and Training](#selection)\n",
    "[<ul>5.1 Shortlist Promising Models</ul>](#initial)\n",
    "[<ul>5.2 Fine Tuning</ul>](#fine)\n",
    "5. [Model Evaluation](#evaluation)\n",
    "6. [Conclusion](#conclude)\n",
    "7. [Appendix](#append)\n",
    "\n",
    "---\n",
    "\n"
   ]
  },
  {
   "cell_type": "markdown",
   "id": "59812b81-3e6d-4918-b2da-4070c98a6d26",
   "metadata": {},
   "source": [
    "## **1. Problem Statement** <a class=\"anchor\" id=\"problem\"></a>"
   ]
  },
  {
   "cell_type": "markdown",
   "id": "e5ad7b4b-4a14-4db0-8873-8802dfb5ede3",
   "metadata": {},
   "source": [
    "The goal of this project is to create a model to recommend board games using the [Board Games Dataset](https://www.kaggle.com/datasets/andrewmvd/board-games) from Kaggle.  This project was created as the capstone project in my Master of Data Science program at Eastern University.  \n",
    "\n",
    "The dataset author's description of the columns is in the Appendix section.  "
   ]
  },
  {
   "cell_type": "markdown",
   "id": "654c30c0-3c6d-489f-968d-a5c555bc2e90",
   "metadata": {},
   "source": [
    "## **2. Data Loading and Exploration** <a class=\"anchor\" id=\"data-loading\"></a>"
   ]
  },
  {
   "cell_type": "code",
   "execution_count": 21,
   "id": "12e0d259-ee9c-4286-a53a-76ae45786a21",
   "metadata": {
    "tags": []
   },
   "outputs": [],
   "source": [
    "import numpy as np\n",
    "import pandas as pd\n",
    "import matplotlib.pyplot as plt\n",
    "import seaborn as sns"
   ]
  },
  {
   "cell_type": "code",
   "execution_count": 22,
   "id": "3c8c4b60",
   "metadata": {},
   "outputs": [
    {
     "data": {
      "text/html": [
       "<style>\n",
       "table {\n",
       "  float: left;\n",
       "}\n",
       "</style>\n"
      ],
      "text/plain": [
       "<IPython.core.display.HTML object>"
      ]
     },
     "metadata": {},
     "output_type": "display_data"
    }
   ],
   "source": [
    "%%html\n",
    "<style>\n",
    "table {\n",
    "  float: left;\n",
    "}\n",
    "</style>"
   ]
  },
  {
   "cell_type": "code",
   "execution_count": 42,
   "id": "96613904-45dd-4f1c-be7e-26e635f24b19",
   "metadata": {
    "tags": []
   },
   "outputs": [],
   "source": [
    "board_game_data = pd.read_csv(\"..//Board Game Recommender//bgg_dataset.csv\")"
   ]
  },
  {
   "cell_type": "code",
   "execution_count": 43,
   "id": "1220e7e2-0c86-4b66-b85e-4bdfb1875d50",
   "metadata": {
    "tags": []
   },
   "outputs": [
    {
     "data": {
      "text/html": [
       "<div>\n",
       "<style scoped>\n",
       "    .dataframe tbody tr th:only-of-type {\n",
       "        vertical-align: middle;\n",
       "    }\n",
       "\n",
       "    .dataframe tbody tr th {\n",
       "        vertical-align: top;\n",
       "    }\n",
       "\n",
       "    .dataframe thead th {\n",
       "        text-align: right;\n",
       "    }\n",
       "</style>\n",
       "<table border=\"1\" class=\"dataframe\">\n",
       "  <thead>\n",
       "    <tr style=\"text-align: right;\">\n",
       "      <th></th>\n",
       "      <th>ID</th>\n",
       "      <th>Name</th>\n",
       "      <th>Year Published</th>\n",
       "      <th>Min Players</th>\n",
       "      <th>Max Players</th>\n",
       "      <th>Play Time</th>\n",
       "      <th>Min Age</th>\n",
       "      <th>Users Rated</th>\n",
       "      <th>Rating Average</th>\n",
       "      <th>BGG Rank</th>\n",
       "      <th>Complexity Average</th>\n",
       "      <th>Owned Users</th>\n",
       "      <th>Mechanics</th>\n",
       "      <th>Domains</th>\n",
       "    </tr>\n",
       "  </thead>\n",
       "  <tbody>\n",
       "    <tr>\n",
       "      <th>0</th>\n",
       "      <td>174430.0</td>\n",
       "      <td>Gloomhaven</td>\n",
       "      <td>2017.0</td>\n",
       "      <td>1</td>\n",
       "      <td>4</td>\n",
       "      <td>120</td>\n",
       "      <td>14</td>\n",
       "      <td>42055</td>\n",
       "      <td>8.79</td>\n",
       "      <td>1</td>\n",
       "      <td>3.86</td>\n",
       "      <td>68323.0</td>\n",
       "      <td>Action Queue, Action Retrieval, Campaign / Bat...</td>\n",
       "      <td>Strategy Games, Thematic Games</td>\n",
       "    </tr>\n",
       "    <tr>\n",
       "      <th>1</th>\n",
       "      <td>161936.0</td>\n",
       "      <td>Pandemic Legacy: Season 1</td>\n",
       "      <td>2015.0</td>\n",
       "      <td>2</td>\n",
       "      <td>4</td>\n",
       "      <td>60</td>\n",
       "      <td>13</td>\n",
       "      <td>41643</td>\n",
       "      <td>8.61</td>\n",
       "      <td>2</td>\n",
       "      <td>2.84</td>\n",
       "      <td>65294.0</td>\n",
       "      <td>Action Points, Cooperative Game, Hand Manageme...</td>\n",
       "      <td>Strategy Games, Thematic Games</td>\n",
       "    </tr>\n",
       "    <tr>\n",
       "      <th>2</th>\n",
       "      <td>224517.0</td>\n",
       "      <td>Brass: Birmingham</td>\n",
       "      <td>2018.0</td>\n",
       "      <td>2</td>\n",
       "      <td>4</td>\n",
       "      <td>120</td>\n",
       "      <td>14</td>\n",
       "      <td>19217</td>\n",
       "      <td>8.66</td>\n",
       "      <td>3</td>\n",
       "      <td>3.91</td>\n",
       "      <td>28785.0</td>\n",
       "      <td>Hand Management, Income, Loans, Market, Networ...</td>\n",
       "      <td>Strategy Games</td>\n",
       "    </tr>\n",
       "    <tr>\n",
       "      <th>3</th>\n",
       "      <td>167791.0</td>\n",
       "      <td>Terraforming Mars</td>\n",
       "      <td>2016.0</td>\n",
       "      <td>1</td>\n",
       "      <td>5</td>\n",
       "      <td>120</td>\n",
       "      <td>12</td>\n",
       "      <td>64864</td>\n",
       "      <td>8.43</td>\n",
       "      <td>4</td>\n",
       "      <td>3.24</td>\n",
       "      <td>87099.0</td>\n",
       "      <td>Card Drafting, Drafting, End Game Bonuses, Han...</td>\n",
       "      <td>Strategy Games</td>\n",
       "    </tr>\n",
       "    <tr>\n",
       "      <th>4</th>\n",
       "      <td>233078.0</td>\n",
       "      <td>Twilight Imperium: Fourth Edition</td>\n",
       "      <td>2017.0</td>\n",
       "      <td>3</td>\n",
       "      <td>6</td>\n",
       "      <td>480</td>\n",
       "      <td>14</td>\n",
       "      <td>13468</td>\n",
       "      <td>8.70</td>\n",
       "      <td>5</td>\n",
       "      <td>4.22</td>\n",
       "      <td>16831.0</td>\n",
       "      <td>Action Drafting, Area Majority / Influence, Ar...</td>\n",
       "      <td>Strategy Games, Thematic Games</td>\n",
       "    </tr>\n",
       "  </tbody>\n",
       "</table>\n",
       "</div>"
      ],
      "text/plain": [
       "         ID                               Name  Year Published  Min Players  \\\n",
       "0  174430.0                         Gloomhaven          2017.0            1   \n",
       "1  161936.0          Pandemic Legacy: Season 1          2015.0            2   \n",
       "2  224517.0                  Brass: Birmingham          2018.0            2   \n",
       "3  167791.0                  Terraforming Mars          2016.0            1   \n",
       "4  233078.0  Twilight Imperium: Fourth Edition          2017.0            3   \n",
       "\n",
       "   Max Players  Play Time  Min Age  Users Rated  Rating Average  BGG Rank  \\\n",
       "0            4        120       14        42055            8.79         1   \n",
       "1            4         60       13        41643            8.61         2   \n",
       "2            4        120       14        19217            8.66         3   \n",
       "3            5        120       12        64864            8.43         4   \n",
       "4            6        480       14        13468            8.70         5   \n",
       "\n",
       "   Complexity Average  Owned Users  \\\n",
       "0                3.86      68323.0   \n",
       "1                2.84      65294.0   \n",
       "2                3.91      28785.0   \n",
       "3                3.24      87099.0   \n",
       "4                4.22      16831.0   \n",
       "\n",
       "                                           Mechanics  \\\n",
       "0  Action Queue, Action Retrieval, Campaign / Bat...   \n",
       "1  Action Points, Cooperative Game, Hand Manageme...   \n",
       "2  Hand Management, Income, Loans, Market, Networ...   \n",
       "3  Card Drafting, Drafting, End Game Bonuses, Han...   \n",
       "4  Action Drafting, Area Majority / Influence, Ar...   \n",
       "\n",
       "                          Domains  \n",
       "0  Strategy Games, Thematic Games  \n",
       "1  Strategy Games, Thematic Games  \n",
       "2                  Strategy Games  \n",
       "3                  Strategy Games  \n",
       "4  Strategy Games, Thematic Games  "
      ]
     },
     "execution_count": 43,
     "metadata": {},
     "output_type": "execute_result"
    }
   ],
   "source": [
    "board_game_data.head()"
   ]
  },
  {
   "cell_type": "code",
   "execution_count": 44,
   "id": "bb4af241",
   "metadata": {},
   "outputs": [
    {
     "data": {
      "text/plain": [
       "0"
      ]
     },
     "execution_count": 44,
     "metadata": {},
     "output_type": "execute_result"
    }
   ],
   "source": [
    "board_game_data.duplicated().sum()"
   ]
  },
  {
   "cell_type": "code",
   "execution_count": 45,
   "id": "25e64c78-0a02-46c2-a59e-54236d2b8b93",
   "metadata": {
    "tags": []
   },
   "outputs": [
    {
     "data": {
      "text/plain": [
       "(20343, 14)"
      ]
     },
     "execution_count": 45,
     "metadata": {},
     "output_type": "execute_result"
    }
   ],
   "source": [
    "board_game_data.shape"
   ]
  },
  {
   "cell_type": "markdown",
   "id": "aa5c8f69",
   "metadata": {},
   "source": [
    "### Splitting Data into Training and Testing Sets"
   ]
  },
  {
   "cell_type": "code",
   "execution_count": 15,
   "id": "aee41c02",
   "metadata": {},
   "outputs": [],
   "source": [
    "from sklearn.model_selection import train_test_split\n",
    "\n",
    "features = diamond_data.drop('price', axis=1)\n",
    "target = diamond_data['price']\n",
    "\n",
    "X_train, X_test, y_train, y_test = train_test_split(features, target, test_size=0.20, random_state=10)"
   ]
  },
  {
   "cell_type": "code",
   "execution_count": 16,
   "id": "20c6f5c9",
   "metadata": {},
   "outputs": [],
   "source": [
    "# # Exporting training data to CSV to use in Tableau\n",
    "\n",
    "# pd.concat([X_train_copy, y_train_copy], axis=1).to_csv('diamond_data_train.csv')"
   ]
  },
  {
   "cell_type": "markdown",
   "id": "b4972237",
   "metadata": {},
   "source": [
    "### EDA on Training Set"
   ]
  },
  {
   "cell_type": "markdown",
   "id": "4ffa4671-ea17-414e-8b9d-90c771ea9159",
   "metadata": {},
   "source": [
    "## **4. Data Preprocessing** <a class=\"anchor\" id=\"data-preprocess\"></a>"
   ]
  },
  {
   "cell_type": "markdown",
   "id": "868bf651-bd87-4e51-8a93-81a7a0c30c11",
   "metadata": {},
   "source": [
    "## **5. Model Selection and Training** <a class=\"anchor\" id=\"selection\"></a>"
   ]
  },
  {
   "cell_type": "markdown",
   "id": "37201a22-10da-410a-9e0a-33ebd0fe65a2",
   "metadata": {},
   "source": [
    "### 5.1 Shortlist Promising Models <a class=\"anchor\" id=\"initial\"></a>"
   ]
  },
  {
   "cell_type": "markdown",
   "id": "f8c6b0a3-1e92-4a6e-98be-e13066ae1091",
   "metadata": {
    "tags": []
   },
   "source": [
    "\n",
    "\n",
    "### 5.2 Fine Tuning<a class=\"anchor\" id=\"fine\"></a>"
   ]
  },
  {
   "cell_type": "markdown",
   "id": "f297d4ac",
   "metadata": {},
   "source": [
    "\n",
    "## **6. Model Evaluation** <a class=\"anchor\" id=\"evaluation\"></a>"
   ]
  },
  {
   "cell_type": "markdown",
   "id": "02d222db-87a3-4595-b5e7-76330a6057f3",
   "metadata": {
    "tags": []
   },
   "source": [
    "## **7. Conclusion** <a class=\"anchor\" id=\"conclude\"></a>"
   ]
  },
  {
   "cell_type": "markdown",
   "id": "44707b2b-f868-4d13-9646-798ebd718e82",
   "metadata": {},
   "source": [
    "A successful model to predict the price of a diamond was created based on carat, color, clarity, and cut features.  Here are the final performance metrics of the SVM model:\n",
    "* RMSE:  733\n",
    "* R2:  0.96\n",
    "\n",
    "The high R2 score suggests the model does a good job at matching the shape of the data, and the RMSE score being similar to the training RMSE suggested that the model does not contain a lot of under of overfitting of the data.  \n",
    "\n",
    "This model can be used to predict the price of diamonds between \\\\$300 and \\\\$18,000 that are between 0.2 and 5 carats.  Because the model was trained on data from 2022, adding data from a more recent data set or adjusting the prices for inflation could improve the accuracy."
   ]
  },
  {
   "cell_type": "markdown",
   "id": "857dc1d0-45b9-475e-ac8a-4d97c80890bc",
   "metadata": {},
   "source": [
    "## **8. Appendix** <a class=\"anchor\" id=\"append\"></a>"
   ]
  },
  {
   "cell_type": "markdown",
   "id": "6171a289-8338-41fc-9ff2-79a84f81dbb4",
   "metadata": {},
   "source": [
    "The description of the columns from the dataset author's Kaggle post are listed below:\n",
    "\n",
    "|variable                 |class     |description |\n",
    "|:---|:---|:-------|\n",
    "|ID                    |float64   | weight of the diamond |\n",
    "|cut                      |character | quality of the cut (Fair, Good, Very Good, Premium, Ideal)  |\n",
    "|color                    |character | diamond color, from J (worst) to D (best)  |\n",
    "|clarity                  |character | clarity a measurement of how clear the diamond is (I1 (worst), SI2, SI1, VS2, VS1, VVS2, VVS1, IF (best)) |\n",
    "|x                        |float64 | length in mm (0--10.74) |\n",
    "|y                        |float64 | width in mm (0--58.9) |\n",
    "|z                        |float64 | depth in mm (0--31.8) |\n",
    "|depth                    |float64 | depth total depth percentage = z / mean(x, y) = 2 * z / (x + y) (43--79) |\n",
    "|table                    |float64 | table width of top of diamond relative to widest point (43--95) |\n",
    "|price                    |int64     | price in US dollars |"
   ]
  }
 ],
 "metadata": {
  "kernelspec": {
   "display_name": "Python 3 (ipykernel)",
   "language": "python",
   "name": "python3"
  },
  "language_info": {
   "codemirror_mode": {
    "name": "ipython",
    "version": 3
   },
   "file_extension": ".py",
   "mimetype": "text/x-python",
   "name": "python",
   "nbconvert_exporter": "python",
   "pygments_lexer": "ipython3",
   "version": "3.11.7"
  }
 },
 "nbformat": 4,
 "nbformat_minor": 5
}
