{
 "cells": [
  {
   "cell_type": "markdown",
   "id": "0eacd103-b8bc-41a6-b074-c5c9cf43c530",
   "metadata": {},
   "source": [
    "# <center>**Chess Move Prediction Model**</center>\n",
    "\n",
    "<img src='chess_board_pic.png'>\n",
    "\n",
    "## **Table of Contents**\n",
    "\n",
    "1. [Problem Statement](#problem)\n",
    "2. [Data Loading and Exploration](#data-loading)\n",
    "3. [Creating Sentence Structure](#sentence)\n",
    "4. [Model Selection and Training](#selection)\n",
    "[<ul>4.1 Bigram Model (Proof of Concept)</ul>](#initial)\n",
    "[<ul>4.2 N-gram Model</ul>](#fine)\n",
    "5. [Model Evaluation](#evaluation)\n",
    "6. [Conclusion](#conclude)"
   ]
  },
  {
   "cell_type": "markdown",
   "id": "59812b81-3e6d-4918-b2da-4070c98a6d26",
   "metadata": {},
   "source": [
    "## **1. Problem Statement** <a class=\"anchor\" id=\"problem\"></a>"
   ]
  },
  {
   "cell_type": "markdown",
   "id": "e5ad7b4b-4a14-4db0-8873-8802dfb5ede3",
   "metadata": {},
   "source": [
    "The goal of this analysis is to create a model to predict the next move of a Chess game given the previous moves in the game using the [Chess Games Data](https://www.kaggle.com/datasets/rishidamarla/chess-games) from Kaggle.  \n",
    "\n",
    "The model could be used by someone to explore the types of moves strong players play in a given board position to improve their own skill.  Because the number of possible chess games rises exponentially with every move, this model will be limited to the first five moves per player."
   ]
  },
  {
   "cell_type": "markdown",
   "id": "654c30c0-3c6d-489f-968d-a5c555bc2e90",
   "metadata": {},
   "source": [
    "## **2. Data Loading and Exploration** <a class=\"anchor\" id=\"data-loading\"></a>"
   ]
  },
  {
   "cell_type": "code",
   "execution_count": 1,
   "id": "12e0d259-ee9c-4286-a53a-76ae45786a21",
   "metadata": {
    "tags": []
   },
   "outputs": [],
   "source": [
    "import numpy as np\n",
    "import pandas as pd\n",
    "import matplotlib.pyplot as plt\n",
    "import seaborn as sns"
   ]
  },
  {
   "cell_type": "code",
   "execution_count": 2,
   "id": "3c8c4b60",
   "metadata": {},
   "outputs": [
    {
     "data": {
      "text/html": [
       "<style>\n",
       "table {\n",
       "  float: left;\n",
       "}\n",
       "</style>\n"
      ],
      "text/plain": [
       "<IPython.core.display.HTML object>"
      ]
     },
     "metadata": {},
     "output_type": "display_data"
    }
   ],
   "source": [
    "%%html\n",
    "<style>\n",
    "table {\n",
    "  float: left;\n",
    "}\n",
    "</style>"
   ]
  },
  {
   "cell_type": "code",
   "execution_count": 3,
   "id": "96613904-45dd-4f1c-be7e-26e635f24b19",
   "metadata": {
    "tags": []
   },
   "outputs": [],
   "source": [
    "chess_data = pd.read_csv('chess_games.csv')"
   ]
  },
  {
   "cell_type": "code",
   "execution_count": 4,
   "id": "1220e7e2-0c86-4b66-b85e-4bdfb1875d50",
   "metadata": {
    "tags": []
   },
   "outputs": [
    {
     "data": {
      "text/html": [
       "<div>\n",
       "<style scoped>\n",
       "    .dataframe tbody tr th:only-of-type {\n",
       "        vertical-align: middle;\n",
       "    }\n",
       "\n",
       "    .dataframe tbody tr th {\n",
       "        vertical-align: top;\n",
       "    }\n",
       "\n",
       "    .dataframe thead th {\n",
       "        text-align: right;\n",
       "    }\n",
       "</style>\n",
       "<table border=\"1\" class=\"dataframe\">\n",
       "  <thead>\n",
       "    <tr style=\"text-align: right;\">\n",
       "      <th></th>\n",
       "      <th>Game</th>\n",
       "      <th>White</th>\n",
       "      <th>Black</th>\n",
       "      <th>White Elo</th>\n",
       "      <th>Black Elo</th>\n",
       "      <th>White RD</th>\n",
       "      <th>Black RD</th>\n",
       "      <th>WhiteIsComp</th>\n",
       "      <th>BlackIsComp</th>\n",
       "      <th>TimeControl</th>\n",
       "      <th>Date</th>\n",
       "      <th>Time</th>\n",
       "      <th>White Clock</th>\n",
       "      <th>Black Clock</th>\n",
       "      <th>ECO</th>\n",
       "      <th>PlyCount</th>\n",
       "      <th>Result</th>\n",
       "      <th>Result-Winner</th>\n",
       "      <th>Commentaries</th>\n",
       "      <th>Moves</th>\n",
       "    </tr>\n",
       "  </thead>\n",
       "  <tbody>\n",
       "    <tr>\n",
       "      <th>0</th>\n",
       "      <td>\"fjjvh\" vs \"FishTest\"</td>\n",
       "      <td>fjjvh</td>\n",
       "      <td>FishTest</td>\n",
       "      <td>818</td>\n",
       "      <td>3204</td>\n",
       "      <td>70.3</td>\n",
       "      <td>51.6</td>\n",
       "      <td>Yes</td>\n",
       "      <td>Yes</td>\n",
       "      <td>60+0</td>\n",
       "      <td>2016.08.28</td>\n",
       "      <td>11:13:00</td>\n",
       "      <td>01:00.0</td>\n",
       "      <td>01:00.0</td>\n",
       "      <td>A13</td>\n",
       "      <td>64</td>\n",
       "      <td>0-1</td>\n",
       "      <td>Black</td>\n",
       "      <td>White checkmated</td>\n",
       "      <td>1. e4 e6 2. d4 d5 3. Nd2 c5 4. exd5 exd5 5. Bb...</td>\n",
       "    </tr>\n",
       "    <tr>\n",
       "      <th>1</th>\n",
       "      <td>\"fjjvh\" vs \"birdcostello\"</td>\n",
       "      <td>fjjvh</td>\n",
       "      <td>birdcostello</td>\n",
       "      <td>831</td>\n",
       "      <td>3213</td>\n",
       "      <td>69.8</td>\n",
       "      <td>45.9</td>\n",
       "      <td>Yes</td>\n",
       "      <td>Yes</td>\n",
       "      <td>120+0</td>\n",
       "      <td>2016.08.11</td>\n",
       "      <td>15:16:00</td>\n",
       "      <td>02:00.0</td>\n",
       "      <td>02:00.0</td>\n",
       "      <td>C20</td>\n",
       "      <td>24</td>\n",
       "      <td>0-1</td>\n",
       "      <td>Black</td>\n",
       "      <td>White checkmated</td>\n",
       "      <td>1. d4 d5 2. c4 e6 3. Nf3 Nf6 4. g3 c5 5. Bg2 c...</td>\n",
       "    </tr>\n",
       "  </tbody>\n",
       "</table>\n",
       "</div>"
      ],
      "text/plain": [
       "                         Game  White         Black  White Elo  Black Elo  \\\n",
       "0       \"fjjvh\" vs \"FishTest\"  fjjvh      FishTest        818       3204   \n",
       "1   \"fjjvh\" vs \"birdcostello\"  fjjvh  birdcostello        831       3213   \n",
       "\n",
       "   White RD  Black RD WhiteIsComp BlackIsComp TimeControl        Date  \\\n",
       "0      70.3      51.6         Yes         Yes        60+0  2016.08.28   \n",
       "1      69.8      45.9         Yes         Yes       120+0  2016.08.11   \n",
       "\n",
       "       Time White Clock Black Clock  ECO  PlyCount Result Result-Winner  \\\n",
       "0  11:13:00     01:00.0     01:00.0  A13        64    0-1         Black   \n",
       "1  15:16:00     02:00.0     02:00.0  C20        24    0-1         Black   \n",
       "\n",
       "       Commentaries                                              Moves  \n",
       "0  White checkmated  1. e4 e6 2. d4 d5 3. Nd2 c5 4. exd5 exd5 5. Bb...  \n",
       "1  White checkmated  1. d4 d5 2. c4 e6 3. Nf3 Nf6 4. g3 c5 5. Bg2 c...  "
      ]
     },
     "execution_count": 4,
     "metadata": {},
     "output_type": "execute_result"
    }
   ],
   "source": [
    "chess_data.head(2)"
   ]
  },
  {
   "cell_type": "code",
   "execution_count": 5,
   "id": "bb4af241",
   "metadata": {},
   "outputs": [
    {
     "data": {
      "text/plain": [
       "0"
      ]
     },
     "execution_count": 5,
     "metadata": {},
     "output_type": "execute_result"
    }
   ],
   "source": [
    "chess_data.duplicated().sum()"
   ]
  },
  {
   "cell_type": "markdown",
   "id": "46f1c971",
   "metadata": {},
   "source": [
    "There are no duplicated rows in the dataset."
   ]
  },
  {
   "cell_type": "code",
   "execution_count": 6,
   "id": "25e64c78-0a02-46c2-a59e-54236d2b8b93",
   "metadata": {
    "tags": []
   },
   "outputs": [
    {
     "data": {
      "text/plain": [
       "(48871, 20)"
      ]
     },
     "execution_count": 6,
     "metadata": {},
     "output_type": "execute_result"
    }
   ],
   "source": [
    "chess_data.shape"
   ]
  },
  {
   "cell_type": "markdown",
   "id": "6959cec4-b498-4644-9af0-4e233e28ae2b",
   "metadata": {},
   "source": [
    "The dataset contains around 49,000 rows with 20 columns.  However, the model will only use the <code>Moves</code> column, which contains the algebraic chess move notation for the games.  For more on chess notation, please see this [link](https://www.chess.com/terms/chess-notation).  "
   ]
  },
  {
   "cell_type": "code",
   "execution_count": 7,
   "id": "e0996900-d11f-4a19-ab8f-529d6ba7b557",
   "metadata": {
    "tags": []
   },
   "outputs": [
    {
     "name": "stdout",
     "output_type": "stream",
     "text": [
      "<class 'pandas.core.frame.DataFrame'>\n",
      "RangeIndex: 48871 entries, 0 to 48870\n",
      "Data columns (total 20 columns):\n",
      " #   Column         Non-Null Count  Dtype  \n",
      "---  ------         --------------  -----  \n",
      " 0   Game           48871 non-null  object \n",
      " 1   White          48871 non-null  object \n",
      " 2   Black          48871 non-null  object \n",
      " 3   White Elo      48871 non-null  int64  \n",
      " 4   Black Elo      48871 non-null  int64  \n",
      " 5   White RD       48871 non-null  float64\n",
      " 6   Black RD       48871 non-null  float64\n",
      " 7   WhiteIsComp    48871 non-null  object \n",
      " 8   BlackIsComp    48871 non-null  object \n",
      " 9   TimeControl    48871 non-null  object \n",
      " 10  Date           48871 non-null  object \n",
      " 11  Time           48871 non-null  object \n",
      " 12  White Clock    48871 non-null  object \n",
      " 13  Black Clock    48871 non-null  object \n",
      " 14  ECO            48871 non-null  object \n",
      " 15  PlyCount       48871 non-null  int64  \n",
      " 16  Result         48871 non-null  object \n",
      " 17  Result-Winner  48871 non-null  object \n",
      " 18  Commentaries   48871 non-null  object \n",
      " 19  Moves          48871 non-null  object \n",
      "dtypes: float64(2), int64(3), object(15)\n",
      "memory usage: 7.5+ MB\n"
     ]
    }
   ],
   "source": [
    "chess_data.info()"
   ]
  },
  {
   "cell_type": "code",
   "execution_count": 8,
   "id": "d6f22f18",
   "metadata": {},
   "outputs": [
    {
     "data": {
      "text/plain": [
       "0"
      ]
     },
     "execution_count": 8,
     "metadata": {},
     "output_type": "execute_result"
    }
   ],
   "source": [
    "chess_data.isna().sum().sum()"
   ]
  },
  {
   "cell_type": "markdown",
   "id": "1d9eb0fc",
   "metadata": {},
   "source": [
    "The dataset contains no missing values."
   ]
  },
  {
   "cell_type": "code",
   "execution_count": 9,
   "id": "1735340e",
   "metadata": {
    "scrolled": true
   },
   "outputs": [
    {
     "data": {
      "text/html": [
       "<div>\n",
       "<style scoped>\n",
       "    .dataframe tbody tr th:only-of-type {\n",
       "        vertical-align: middle;\n",
       "    }\n",
       "\n",
       "    .dataframe tbody tr th {\n",
       "        vertical-align: top;\n",
       "    }\n",
       "\n",
       "    .dataframe thead th {\n",
       "        text-align: right;\n",
       "    }\n",
       "</style>\n",
       "<table border=\"1\" class=\"dataframe\">\n",
       "  <thead>\n",
       "    <tr style=\"text-align: right;\">\n",
       "      <th></th>\n",
       "      <th>White Elo</th>\n",
       "      <th>Black Elo</th>\n",
       "      <th>White RD</th>\n",
       "      <th>Black RD</th>\n",
       "      <th>PlyCount</th>\n",
       "    </tr>\n",
       "  </thead>\n",
       "  <tbody>\n",
       "    <tr>\n",
       "      <th>count</th>\n",
       "      <td>48871.000000</td>\n",
       "      <td>48871.000000</td>\n",
       "      <td>48871.000000</td>\n",
       "      <td>48871.000000</td>\n",
       "      <td>48871.000000</td>\n",
       "    </tr>\n",
       "    <tr>\n",
       "      <th>mean</th>\n",
       "      <td>2533.101471</td>\n",
       "      <td>2534.359579</td>\n",
       "      <td>37.259143</td>\n",
       "      <td>37.184960</td>\n",
       "      <td>123.753535</td>\n",
       "    </tr>\n",
       "    <tr>\n",
       "      <th>std</th>\n",
       "      <td>295.777722</td>\n",
       "      <td>293.918720</td>\n",
       "      <td>21.276387</td>\n",
       "      <td>20.934625</td>\n",
       "      <td>59.452701</td>\n",
       "    </tr>\n",
       "    <tr>\n",
       "      <th>min</th>\n",
       "      <td>818.000000</td>\n",
       "      <td>831.000000</td>\n",
       "      <td>0.000000</td>\n",
       "      <td>0.000000</td>\n",
       "      <td>0.000000</td>\n",
       "    </tr>\n",
       "    <tr>\n",
       "      <th>25%</th>\n",
       "      <td>2334.000000</td>\n",
       "      <td>2338.000000</td>\n",
       "      <td>25.700000</td>\n",
       "      <td>25.700000</td>\n",
       "      <td>82.000000</td>\n",
       "    </tr>\n",
       "    <tr>\n",
       "      <th>50%</th>\n",
       "      <td>2492.000000</td>\n",
       "      <td>2496.000000</td>\n",
       "      <td>32.900000</td>\n",
       "      <td>33.000000</td>\n",
       "      <td>117.000000</td>\n",
       "    </tr>\n",
       "    <tr>\n",
       "      <th>75%</th>\n",
       "      <td>2759.000000</td>\n",
       "      <td>2759.000000</td>\n",
       "      <td>43.000000</td>\n",
       "      <td>43.000000</td>\n",
       "      <td>152.000000</td>\n",
       "    </tr>\n",
       "    <tr>\n",
       "      <th>max</th>\n",
       "      <td>3308.000000</td>\n",
       "      <td>3315.000000</td>\n",
       "      <td>350.000000</td>\n",
       "      <td>350.000000</td>\n",
       "      <td>575.000000</td>\n",
       "    </tr>\n",
       "  </tbody>\n",
       "</table>\n",
       "</div>"
      ],
      "text/plain": [
       "          White Elo     Black Elo      White RD      Black RD      PlyCount\n",
       "count  48871.000000  48871.000000  48871.000000  48871.000000  48871.000000\n",
       "mean    2533.101471   2534.359579     37.259143     37.184960    123.753535\n",
       "std      295.777722    293.918720     21.276387     20.934625     59.452701\n",
       "min      818.000000    831.000000      0.000000      0.000000      0.000000\n",
       "25%     2334.000000   2338.000000     25.700000     25.700000     82.000000\n",
       "50%     2492.000000   2496.000000     32.900000     33.000000    117.000000\n",
       "75%     2759.000000   2759.000000     43.000000     43.000000    152.000000\n",
       "max     3308.000000   3315.000000    350.000000    350.000000    575.000000"
      ]
     },
     "execution_count": 9,
     "metadata": {},
     "output_type": "execute_result"
    }
   ],
   "source": [
    "chess_data.describe()"
   ]
  },
  {
   "cell_type": "markdown",
   "id": "5653d128",
   "metadata": {},
   "source": [
    "<code>White Elo</code> and <code>Black Elo</code> represent the strength of the players.  The lowest rating for a chess master is 2200 (National Master rating).  Since we want this model to predict the moves of the strong players, the data will be filtered to only include games where both players have an Elo above 2200.  "
   ]
  },
  {
   "cell_type": "code",
   "execution_count": 10,
   "id": "29af83be",
   "metadata": {},
   "outputs": [],
   "source": [
    "chess_data_above_2200 = chess_data[(chess_data['White Elo'] >= 2200) & (chess_data['Black Elo'] >= 2200)]"
   ]
  },
  {
   "cell_type": "code",
   "execution_count": 11,
   "id": "d5dd1793",
   "metadata": {},
   "outputs": [
    {
     "data": {
      "text/html": [
       "<div>\n",
       "<style scoped>\n",
       "    .dataframe tbody tr th:only-of-type {\n",
       "        vertical-align: middle;\n",
       "    }\n",
       "\n",
       "    .dataframe tbody tr th {\n",
       "        vertical-align: top;\n",
       "    }\n",
       "\n",
       "    .dataframe thead th {\n",
       "        text-align: right;\n",
       "    }\n",
       "</style>\n",
       "<table border=\"1\" class=\"dataframe\">\n",
       "  <thead>\n",
       "    <tr style=\"text-align: right;\">\n",
       "      <th></th>\n",
       "      <th>White Elo</th>\n",
       "      <th>Black Elo</th>\n",
       "      <th>White RD</th>\n",
       "      <th>Black RD</th>\n",
       "      <th>PlyCount</th>\n",
       "    </tr>\n",
       "  </thead>\n",
       "  <tbody>\n",
       "    <tr>\n",
       "      <th>count</th>\n",
       "      <td>40652.000000</td>\n",
       "      <td>40652.000000</td>\n",
       "      <td>40652.000000</td>\n",
       "      <td>40652.000000</td>\n",
       "      <td>40652.000000</td>\n",
       "    </tr>\n",
       "    <tr>\n",
       "      <th>mean</th>\n",
       "      <td>2594.645208</td>\n",
       "      <td>2595.367879</td>\n",
       "      <td>36.826658</td>\n",
       "      <td>36.754056</td>\n",
       "      <td>131.905515</td>\n",
       "    </tr>\n",
       "    <tr>\n",
       "      <th>std</th>\n",
       "      <td>250.885942</td>\n",
       "      <td>249.066088</td>\n",
       "      <td>19.222952</td>\n",
       "      <td>19.032530</td>\n",
       "      <td>58.865347</td>\n",
       "    </tr>\n",
       "    <tr>\n",
       "      <th>min</th>\n",
       "      <td>2200.000000</td>\n",
       "      <td>2200.000000</td>\n",
       "      <td>0.000000</td>\n",
       "      <td>0.000000</td>\n",
       "      <td>0.000000</td>\n",
       "    </tr>\n",
       "    <tr>\n",
       "      <th>25%</th>\n",
       "      <td>2389.000000</td>\n",
       "      <td>2390.000000</td>\n",
       "      <td>25.500000</td>\n",
       "      <td>25.500000</td>\n",
       "      <td>93.000000</td>\n",
       "    </tr>\n",
       "    <tr>\n",
       "      <th>50%</th>\n",
       "      <td>2542.000000</td>\n",
       "      <td>2544.000000</td>\n",
       "      <td>32.500000</td>\n",
       "      <td>32.500000</td>\n",
       "      <td>124.000000</td>\n",
       "    </tr>\n",
       "    <tr>\n",
       "      <th>75%</th>\n",
       "      <td>2789.000000</td>\n",
       "      <td>2789.000000</td>\n",
       "      <td>43.000000</td>\n",
       "      <td>43.000000</td>\n",
       "      <td>159.000000</td>\n",
       "    </tr>\n",
       "    <tr>\n",
       "      <th>max</th>\n",
       "      <td>3308.000000</td>\n",
       "      <td>3315.000000</td>\n",
       "      <td>310.100000</td>\n",
       "      <td>312.400000</td>\n",
       "      <td>575.000000</td>\n",
       "    </tr>\n",
       "  </tbody>\n",
       "</table>\n",
       "</div>"
      ],
      "text/plain": [
       "          White Elo     Black Elo      White RD      Black RD      PlyCount\n",
       "count  40652.000000  40652.000000  40652.000000  40652.000000  40652.000000\n",
       "mean    2594.645208   2595.367879     36.826658     36.754056    131.905515\n",
       "std      250.885942    249.066088     19.222952     19.032530     58.865347\n",
       "min     2200.000000   2200.000000      0.000000      0.000000      0.000000\n",
       "25%     2389.000000   2390.000000     25.500000     25.500000     93.000000\n",
       "50%     2542.000000   2544.000000     32.500000     32.500000    124.000000\n",
       "75%     2789.000000   2789.000000     43.000000     43.000000    159.000000\n",
       "max     3308.000000   3315.000000    310.100000    312.400000    575.000000"
      ]
     },
     "execution_count": 11,
     "metadata": {},
     "output_type": "execute_result"
    }
   ],
   "source": [
    "chess_data_above_2200.describe()"
   ]
  },
  {
   "cell_type": "code",
   "execution_count": 12,
   "id": "b5c295bb",
   "metadata": {},
   "outputs": [
    {
     "data": {
      "text/plain": [
       "(40652, 20)"
      ]
     },
     "execution_count": 12,
     "metadata": {},
     "output_type": "execute_result"
    }
   ],
   "source": [
    "chess_data_above_2200.shape"
   ]
  },
  {
   "cell_type": "markdown",
   "id": "75ea6f72",
   "metadata": {},
   "source": [
    "There are still 40,000 games within the dataset where both players are above 2200 Elo, which is more than enough to build the model."
   ]
  },
  {
   "cell_type": "markdown",
   "id": "4ffa4671-ea17-414e-8b9d-90c771ea9159",
   "metadata": {},
   "source": [
    "## **3. Creating Sentence Structure** <a class=\"anchor\" id=\"sentence\"></a>"
   ]
  },
  {
   "cell_type": "markdown",
   "id": "695959aa",
   "metadata": {},
   "source": [
    "The N-gram model will require the data as a list of sentences where the sentences should be a list of each word in the sentence.  Since we are analyzing chess games, each word will be a full chess move (ex. Nf5, O-O, dxe5, etc.).  Also, because chess moves have special characters, the data will not be tokenized like it would be for a typical NLP model.  They will simply be split by characters within the data to accomplish the goal of having each list item being a specific move.  "
   ]
  },
  {
   "cell_type": "code",
   "execution_count": 13,
   "id": "1a1b46f6",
   "metadata": {},
   "outputs": [],
   "source": [
    "chess_games = chess_data_above_2200['Moves']"
   ]
  },
  {
   "cell_type": "code",
   "execution_count": 14,
   "id": "14f5f5db",
   "metadata": {},
   "outputs": [
    {
     "data": {
      "text/plain": [
       "4673    1. d4 Nf6 2. Nf3 e6 3. a3 d5 4. e3 Be7 5. Bd3 ...\n",
       "4681    1. e4 e5 2. Nf3 Nc6 3. Bc4 Nf6 4. Ng5 d5 5. ex...\n",
       "4682    1. e4 e6 2. d4 d5 3. Nd2 c5 4. exd5 Qxd5 5. Ng...\n",
       "4686    1. e4 e6 2. d4 d5 3. Nd2 c5 4. exd5 exd5 5. Ng...\n",
       "4687    1. e4 c6 2. d4 d5 3. e5 Bf5 4. Nf3 e6 5. Be2 c...\n",
       "Name: Moves, dtype: object"
      ]
     },
     "execution_count": 14,
     "metadata": {},
     "output_type": "execute_result"
    }
   ],
   "source": [
    "chess_games.head()"
   ]
  },
  {
   "cell_type": "code",
   "execution_count": 15,
   "id": "02107641",
   "metadata": {},
   "outputs": [],
   "source": [
    "# Loop through the series with the chess games ('Moves') column and \n",
    "# create a list of each of those games as a list split by spaces\n",
    "chess_games_list = []\n",
    "\n",
    "for index, value in chess_games.items():\n",
    "    chess_games_list.append(value.split(' '))"
   ]
  },
  {
   "cell_type": "code",
   "execution_count": 16,
   "id": "69b19ed9",
   "metadata": {},
   "outputs": [
    {
     "data": {
      "text/plain": [
       "[['1.',\n",
       "  'd4',\n",
       "  'Nf6',\n",
       "  '2.',\n",
       "  'Nf3',\n",
       "  'e6',\n",
       "  '3.',\n",
       "  'a3',\n",
       "  'd5',\n",
       "  '4.',\n",
       "  'e3',\n",
       "  'Be7',\n",
       "  '5.',\n",
       "  'Bd3',\n",
       "  'b6',\n",
       "  '6.',\n",
       "  'O-O',\n",
       "  'Bb7',\n",
       "  '7.',\n",
       "  'c4',\n",
       "  'O-O',\n",
       "  '8.',\n",
       "  'cxd5',\n",
       "  'exd5',\n",
       "  '9.',\n",
       "  'h3',\n",
       "  'Ne4',\n",
       "  '10.',\n",
       "  'Qc2',\n",
       "  'c5',\n",
       "  '11.',\n",
       "  'dxc5',\n",
       "  'bxc5',\n",
       "  '12.',\n",
       "  'Rd1',\n",
       "  'Qc7',\n",
       "  '13.',\n",
       "  'Nc3',\n",
       "  'f5',\n",
       "  '14.',\n",
       "  'Ne2',\n",
       "  'Bd6',\n",
       "  '15.',\n",
       "  'Nf4',\n",
       "  'Qf7',\n",
       "  '16.',\n",
       "  'b3',\n",
       "  'Nd7',\n",
       "  '17.',\n",
       "  'Bb2',\n",
       "  'Ndf6',\n",
       "  '18.',\n",
       "  'Be5',\n",
       "  'Bxe5',\n",
       "  '19.',\n",
       "  'Nxe5',\n",
       "  'Qe7',\n",
       "  '20.',\n",
       "  'Bxe4',\n",
       "  'fxe4',\n",
       "  '21.',\n",
       "  'Ng4',\n",
       "  'Rac8',\n",
       "  '22.',\n",
       "  'Nxf6+',\n",
       "  'Qxf6',\n",
       "  '23.',\n",
       "  'Rac1',\n",
       "  'd4',\n",
       "  '24.',\n",
       "  'Qc4+',\n",
       "  'Rf7',\n",
       "  '25.',\n",
       "  'Rd2',\n",
       "  'Qc6',\n",
       "  '26.',\n",
       "  'h4',\n",
       "  'd3',\n",
       "  '27.',\n",
       "  'Qc3',\n",
       "  'Qa6',\n",
       "  '28.',\n",
       "  'Qb2',\n",
       "  'Qh6',\n",
       "  '29.',\n",
       "  'h5',\n",
       "  'Re7',\n",
       "  '30.',\n",
       "  'Qc3',\n",
       "  'Ba6',\n",
       "  '31.',\n",
       "  'b4',\n",
       "  'c4',\n",
       "  '32.',\n",
       "  'a4',\n",
       "  'Qd6',\n",
       "  '33.',\n",
       "  'Rb2',\n",
       "  'Bb7',\n",
       "  '34.',\n",
       "  'b5',\n",
       "  'Rd7',\n",
       "  '35.',\n",
       "  'Rd2',\n",
       "  'Bd5',\n",
       "  '36.',\n",
       "  'Rdd1',\n",
       "  'Bf7',\n",
       "  '37.',\n",
       "  'Rd2',\n",
       "  'Rc5',\n",
       "  '38.',\n",
       "  'Rb2',\n",
       "  'h6',\n",
       "  '39.',\n",
       "  'Rd2',\n",
       "  'Rdc7',\n",
       "  '40.',\n",
       "  'Rb2',\n",
       "  'Bxh5',\n",
       "  '41.',\n",
       "  'a5',\n",
       "  'Bf7',\n",
       "  '42.',\n",
       "  'b6',\n",
       "  'axb6',\n",
       "  '43.',\n",
       "  'axb6',\n",
       "  'Rb7',\n",
       "  '44.',\n",
       "  'Ra1',\n",
       "  'Qe5',\n",
       "  '45.',\n",
       "  'Ra8+',\n",
       "  'Kh7',\n",
       "  '46.',\n",
       "  'Qxe5',\n",
       "  'Rxe5',\n",
       "  '47.',\n",
       "  'Rc8',\n",
       "  'g5',\n",
       "  '48.',\n",
       "  'Nh3',\n",
       "  'Rd5',\n",
       "  '49.',\n",
       "  'f3',\n",
       "  'Be6',\n",
       "  '50.',\n",
       "  'Rc6',\n",
       "  'Bxh3',\n",
       "  '51.',\n",
       "  'Rd2',\n",
       "  'Bd7',\n",
       "  '52.',\n",
       "  'Rxc4',\n",
       "  'exf3',\n",
       "  '53.',\n",
       "  'gxf3',\n",
       "  'Bb5',\n",
       "  '54.',\n",
       "  'Rb4',\n",
       "  'Rxb6',\n",
       "  '55.',\n",
       "  'e4',\n",
       "  'Rdd6',\n",
       "  '56.',\n",
       "  'Kf2',\n",
       "  'Rdc6',\n",
       "  '57.',\n",
       "  'Kg3',\n",
       "  'h5',\n",
       "  '58.',\n",
       "  'f4',\n",
       "  'Kh6',\n",
       "  '59.',\n",
       "  'fxg5+',\n",
       "  'Kxg5',\n",
       "  '60.',\n",
       "  'Kf3',\n",
       "  'Rc2',\n",
       "  '61.',\n",
       "  'Ke3',\n",
       "  'Rxd2',\n",
       "  '62.',\n",
       "  'Kxd2',\n",
       "  'h4',\n",
       "  '63.',\n",
       "  'Rb1',\n",
       "  'h3',\n",
       "  ''],\n",
       " ['1.',\n",
       "  'e4',\n",
       "  'e5',\n",
       "  '2.',\n",
       "  'Nf3',\n",
       "  'Nc6',\n",
       "  '3.',\n",
       "  'Bc4',\n",
       "  'Nf6',\n",
       "  '4.',\n",
       "  'Ng5',\n",
       "  'd5',\n",
       "  '5.',\n",
       "  'exd5',\n",
       "  'Na5',\n",
       "  '6.',\n",
       "  'Bb5+',\n",
       "  'c6',\n",
       "  '7.',\n",
       "  'dxc6',\n",
       "  'bxc6',\n",
       "  '8.',\n",
       "  'Be2',\n",
       "  'h6',\n",
       "  '9.',\n",
       "  'Nf3',\n",
       "  'e4',\n",
       "  '10.',\n",
       "  'Ne5',\n",
       "  'Qd4',\n",
       "  '11.',\n",
       "  'f4',\n",
       "  'Bc5',\n",
       "  '12.',\n",
       "  'Rf1',\n",
       "  'Qd8',\n",
       "  '13.',\n",
       "  'c3',\n",
       "  'Bb6',\n",
       "  '14.',\n",
       "  'b4',\n",
       "  'Nb7',\n",
       "  '15.',\n",
       "  'c4',\n",
       "  'O-O',\n",
       "  '16.',\n",
       "  'c5',\n",
       "  'Bc7',\n",
       "  '17.',\n",
       "  'Nxc6',\n",
       "  'Qe8',\n",
       "  '18.',\n",
       "  'Nd4',\n",
       "  'Nd5',\n",
       "  '19.',\n",
       "  'Nc3',\n",
       "  'Nxf4',\n",
       "  '20.',\n",
       "  'Qc2',\n",
       "  'f5',\n",
       "  '21.',\n",
       "  'g3',\n",
       "  'Nxe2',\n",
       "  '22.',\n",
       "  'Ncxe2',\n",
       "  'Nd8',\n",
       "  '23.',\n",
       "  'Qc4+',\n",
       "  'Kh8',\n",
       "  '24.',\n",
       "  'Nf4',\n",
       "  'Bxf4',\n",
       "  '25.',\n",
       "  'Rxf4',\n",
       "  'Be6',\n",
       "  '26.',\n",
       "  'Qc3',\n",
       "  'Nc6',\n",
       "  '27.',\n",
       "  'Nxe6',\n",
       "  'Qxe6',\n",
       "  '28.',\n",
       "  'Bb2',\n",
       "  'Qg8',\n",
       "  '29.',\n",
       "  'b5',\n",
       "  'Ne7',\n",
       "  '30.',\n",
       "  'Rh4',\n",
       "  'Kh7',\n",
       "  '31.',\n",
       "  'c6',\n",
       "  'Nd5',\n",
       "  '32.',\n",
       "  'Qc4',\n",
       "  'Qe6',\n",
       "  '33.',\n",
       "  'Rc1',\n",
       "  'g5',\n",
       "  '34.',\n",
       "  'Rh5',\n",
       "  'Rac8',\n",
       "  '35.',\n",
       "  'Qb3',\n",
       "  'Qf7',\n",
       "  '36.',\n",
       "  'Rh3',\n",
       "  'f4',\n",
       "  '37.',\n",
       "  'Ba3',\n",
       "  'fxg3',\n",
       "  '38.',\n",
       "  'Bxf8',\n",
       "  'g2',\n",
       "  '39.',\n",
       "  'Rxh6+',\n",
       "  'Kg8',\n",
       "  '40.',\n",
       "  'Rh8+',\n",
       "  'Kxh8',\n",
       "  '41.',\n",
       "  'Qh3+',\n",
       "  'Kg8',\n",
       "  '42.',\n",
       "  'Qxg2',\n",
       "  'Kxf8',\n",
       "  '43.',\n",
       "  'Qxg5',\n",
       "  'Nf4',\n",
       "  '44.',\n",
       "  'Kd1',\n",
       "  'Ne6',\n",
       "  '45.',\n",
       "  'Qh6+',\n",
       "  'Ke7',\n",
       "  '46.',\n",
       "  'Qh4+',\n",
       "  'Kd6',\n",
       "  '47.',\n",
       "  'Qg3+',\n",
       "  'Ke7',\n",
       "  '48.',\n",
       "  'Qa3+',\n",
       "  'Ke8',\n",
       "  '49.',\n",
       "  'Qh3',\n",
       "  'Qf6',\n",
       "  '50.',\n",
       "  'Rc4',\n",
       "  'Qa1+',\n",
       "  '51.',\n",
       "  'Rc1',\n",
       "  'Qe5',\n",
       "  '52.',\n",
       "  'Qg3',\n",
       "  'Qf5',\n",
       "  '53.',\n",
       "  'Rc3',\n",
       "  'e3',\n",
       "  '54.',\n",
       "  'Qg8+',\n",
       "  'Ke7',\n",
       "  '55.',\n",
       "  'Qxc8',\n",
       "  'e2+',\n",
       "  '56.',\n",
       "  'Kxe2',\n",
       "  'Nd4+',\n",
       "  '57.',\n",
       "  'Ke3',\n",
       "  'Qxc8',\n",
       "  '58.',\n",
       "  'Kxd4',\n",
       "  'Qg4+',\n",
       "  '59.',\n",
       "  'Kd3',\n",
       "  'Qf5+',\n",
       "  '60.',\n",
       "  'Kc4',\n",
       "  'Qe6+',\n",
       "  '61.',\n",
       "  'Kd3',\n",
       "  'Qd5+',\n",
       "  '62.',\n",
       "  'Ke3',\n",
       "  'Qg5+',\n",
       "  '63.',\n",
       "  'Kd3',\n",
       "  'Qxb5+',\n",
       "  '64.',\n",
       "  'Kc2',\n",
       "  'Qa4+',\n",
       "  '65.',\n",
       "  'Kc1',\n",
       "  'Kd8',\n",
       "  '66.',\n",
       "  'c7+',\n",
       "  'Kc8',\n",
       "  '67.',\n",
       "  'a3',\n",
       "  'Qf4',\n",
       "  '68.',\n",
       "  'h3',\n",
       "  'Qa4',\n",
       "  '69.',\n",
       "  'd3',\n",
       "  'Qf4+',\n",
       "  '70.',\n",
       "  'Kc2',\n",
       "  'Qh2+',\n",
       "  '71.',\n",
       "  'Kc1',\n",
       "  'Qxh3',\n",
       "  '72.',\n",
       "  'Kc2',\n",
       "  'Qg2+',\n",
       "  '73.',\n",
       "  'Kb3',\n",
       "  'Qd5+',\n",
       "  '74.',\n",
       "  'Kb2',\n",
       "  'a5',\n",
       "  '75.',\n",
       "  'Kb1',\n",
       "  'Qg2',\n",
       "  '76.',\n",
       "  'Kc1',\n",
       "  'Qa2',\n",
       "  '77.',\n",
       "  'd4',\n",
       "  'Qd5',\n",
       "  '78.',\n",
       "  'Rd3',\n",
       "  'Kxc7',\n",
       "  '79.',\n",
       "  'Kd2',\n",
       "  'Kb6',\n",
       "  '80.',\n",
       "  'Ke3',\n",
       "  'Qg5+',\n",
       "  '81.',\n",
       "  'Ke4',\n",
       "  'Qg4+',\n",
       "  '82.',\n",
       "  'Ke3',\n",
       "  'Qh3+',\n",
       "  '83.',\n",
       "  'Kd2',\n",
       "  'Qg2+',\n",
       "  '84.',\n",
       "  'Ke3',\n",
       "  'Qg1+',\n",
       "  '85.',\n",
       "  'Ke2',\n",
       "  'Kb5',\n",
       "  '86.',\n",
       "  'Kd2',\n",
       "  'Kc4',\n",
       "  '87.',\n",
       "  'Rc3+',\n",
       "  'Kxd4',\n",
       "  '88.',\n",
       "  'Rd3+',\n",
       "  'Ke4',\n",
       "  '89.',\n",
       "  'Rb3',\n",
       "  'Qf2+',\n",
       "  '90.',\n",
       "  'Kc3',\n",
       "  'Qa2',\n",
       "  '91.',\n",
       "  'a4',\n",
       "  'Qxa4',\n",
       "  '92.',\n",
       "  'Kb2',\n",
       "  'Qd4+',\n",
       "  '']]"
      ]
     },
     "execution_count": 16,
     "metadata": {},
     "output_type": "execute_result"
    }
   ],
   "source": [
    "chess_games_list[0:2]"
   ]
  },
  {
   "cell_type": "markdown",
   "id": "6347e5d3",
   "metadata": {},
   "source": [
    "The next step will be to clean the chess games string so they can be used in the model.  Since the \".\" character is only used in chess notation to keep track of the moves, those strings (1., 2., 3., etc.) will be removed.  Next, a start of game placeholder will be added because the smallest n-gram model will be a bigram model.  Also, if the game has more than 5 moves per side (10 total), only the first 10 moves will be added to the model for training.  "
   ]
  },
  {
   "cell_type": "code",
   "execution_count": 17,
   "id": "a8fdae52",
   "metadata": {},
   "outputs": [],
   "source": [
    "def clean_games(games_list):\n",
    "        \n",
    "    clean_games_list = []\n",
    "    \n",
    "    for game in games_list:\n",
    "        clean_moves = []\n",
    "        \n",
    "        # Add placeholder character for the start of the game\n",
    "        clean_moves.append('<s>')\n",
    "\n",
    "        # Remove the 1., 2., etc. from the moves list\n",
    "        for move in game:\n",
    "            if '.' not in move:\n",
    "                clean_moves.append(move)\n",
    "                \n",
    "        # Keep only the first ten moves\n",
    "        if len(clean_moves) > 11:\n",
    "            clean_moves = clean_moves[0:11]\n",
    "    \n",
    "        clean_games_list.append(clean_moves)\n",
    "        \n",
    "    return clean_games_list"
   ]
  },
  {
   "cell_type": "code",
   "execution_count": 18,
   "id": "acf49ff6",
   "metadata": {},
   "outputs": [],
   "source": [
    "clean_chess_games_list = clean_games(chess_games_list)"
   ]
  },
  {
   "cell_type": "code",
   "execution_count": 19,
   "id": "e38cc900",
   "metadata": {},
   "outputs": [
    {
     "data": {
      "text/plain": [
       "[['<s>', 'd4', 'Nf6', 'Nf3', 'e6', 'a3', 'd5', 'e3', 'Be7', 'Bd3', 'b6'],\n",
       " ['<s>', 'e4', 'e5', 'Nf3', 'Nc6', 'Bc4', 'Nf6', 'Ng5', 'd5', 'exd5', 'Na5'],\n",
       " ['<s>', 'e4', 'e6', 'd4', 'd5', 'Nd2', 'c5', 'exd5', 'Qxd5', 'Ngf3', 'cxd4'],\n",
       " ['<s>', 'e4', 'e6', 'd4', 'd5', 'Nd2', 'c5', 'exd5', 'exd5', 'Ngf3', 'Nf6'],\n",
       " ['<s>', 'e4', 'c6', 'd4', 'd5', 'e5', 'Bf5', 'Nf3', 'e6', 'Be2', 'c5'],\n",
       " ['<s>', 'd4', 'Nf6', 'c4', 'e6', 'Nf3', 'Be7', 'Nc3', 'd5', 'Bg5', 'h6'],\n",
       " ['<s>', 'e4', 'c6', 'Nc3', 'd5', 'd4', 'dxe4', 'Nxe4', 'Bf5', 'Ng3', 'Bg6'],\n",
       " ['<s>', 'Nc3', 'c5', 'e4', 'Nc6', 'g3', 'g6', 'Bg2', 'Bg7', 'd3', 'd6'],\n",
       " ['<s>', 'e4', 'Nc6', 'Nf3', 'f6', 'd4', 'g5', 'Nxg5', 'fxg5', 'Qh5#', ''],\n",
       " ['<s>', 'e4', 'c5', 'Nf3', 'd6', 'Nc3', 'a6', 'g3', 'e5', 'd3', 'Nf6']]"
      ]
     },
     "execution_count": 19,
     "metadata": {},
     "output_type": "execute_result"
    }
   ],
   "source": [
    "clean_chess_games_list[0:10]"
   ]
  },
  {
   "cell_type": "markdown",
   "id": "f9022679",
   "metadata": {},
   "source": [
    "The sample of games above appears to be correctly cleaned and formatted for the model.  Note that in the 9th game, there is no move after Qh5# because the '#' character represents a checkmate (end of the game).   "
   ]
  },
  {
   "cell_type": "markdown",
   "id": "868bf651-bd87-4e51-8a93-81a7a0c30c11",
   "metadata": {},
   "source": [
    "## **4. Model Selection and Training** <a class=\"anchor\" id=\"selection\"></a>"
   ]
  },
  {
   "cell_type": "markdown",
   "id": "37201a22-10da-410a-9e0a-33ebd0fe65a2",
   "metadata": {},
   "source": [
    "### 4.1 Bigram Model (Proof of Concept) <a class=\"anchor\" id=\"initial\"></a>"
   ]
  },
  {
   "cell_type": "markdown",
   "id": "bb2f04ac",
   "metadata": {},
   "source": [
    "To test out the model building process, the bigram model will be created first before moving on to the N-gram model.  Both models will be created using the nltk library.  "
   ]
  },
  {
   "cell_type": "code",
   "execution_count": 20,
   "id": "0b406a42",
   "metadata": {},
   "outputs": [],
   "source": [
    "from nltk import FreqDist, ConditionalFreqDist, ConditionalProbDist, MLEProbDist\n",
    "from nltk.util import ngrams"
   ]
  },
  {
   "cell_type": "code",
   "execution_count": 21,
   "id": "9122a7dc",
   "metadata": {},
   "outputs": [],
   "source": [
    "# Create a list of chess games with only the first two moves listed.\n",
    "# It converts the clean chess games list to a pandas Series, uses a lambda function to remove all entries but the first two,\n",
    "# and converts the result back to a list\n",
    "chess_games_list_first_two_moves = list(pd.Series(clean_chess_games_list).apply(lambda x: x[0:2] if len(x) >= 2 else x))"
   ]
  },
  {
   "cell_type": "code",
   "execution_count": 22,
   "id": "290b19ed",
   "metadata": {},
   "outputs": [
    {
     "data": {
      "text/plain": [
       "[['<s>', 'd4'], ['<s>', 'e4'], ['<s>', 'e4']]"
      ]
     },
     "execution_count": 22,
     "metadata": {},
     "output_type": "execute_result"
    }
   ],
   "source": [
    "chess_games_list_first_two_moves[0:3]"
   ]
  },
  {
   "cell_type": "code",
   "execution_count": 72,
   "id": "e911a03c",
   "metadata": {},
   "outputs": [],
   "source": [
    "# The N-gram function requires a tuple format, so this code converts the list to tuples.\n",
    "bigrams_chess_games = [((w1), w2) for w1, w2, in chess_games_list_first_two_moves]"
   ]
  },
  {
   "cell_type": "code",
   "execution_count": 73,
   "id": "a60e3790",
   "metadata": {},
   "outputs": [
    {
     "data": {
      "text/plain": [
       "[('<s>', 'd4'), ('<s>', 'e4')]"
      ]
     },
     "execution_count": 73,
     "metadata": {},
     "output_type": "execute_result"
    }
   ],
   "source": [
    "bigrams_chess_games[0:2]"
   ]
  },
  {
   "cell_type": "code",
   "execution_count": 25,
   "id": "7c16fbe6",
   "metadata": {},
   "outputs": [
    {
     "data": {
      "text/plain": [
       "FreqDist({('<s>', 'e4'): 17936, ('<s>', 'd4'): 12384, ('<s>', 'c4'): 5024, ('<s>', 'Nf3'): 2779, ('<s>', 'e3'): 1765, ('<s>', 'Nc3'): 253, ('<s>', 'g3'): 98, ('<s>', 'c3'): 95, ('<s>', 'h3'): 76, ('<s>', 'f4'): 48, ...})"
      ]
     },
     "execution_count": 25,
     "metadata": {},
     "output_type": "execute_result"
    }
   ],
   "source": [
    "FreqDist(bigrams_chess_games)"
   ]
  },
  {
   "cell_type": "markdown",
   "id": "f85ed4f9",
   "metadata": {},
   "source": [
    "A frequency distribution of the moves after the start of the game (the white player's first move) is listed above.  The data suggests that the most popular moves are e4 (King pawn opening), d4 (Queen pawn opening), and c4 (English opening).  Based on experience with chess, that is a reasonable result for the data.  "
   ]
  },
  {
   "cell_type": "code",
   "execution_count": 26,
   "id": "cf4a9ea0",
   "metadata": {},
   "outputs": [],
   "source": [
    "bigram_prob_dist = ConditionalProbDist(ConditionalFreqDist(bigrams_chess_games), MLEProbDist)"
   ]
  },
  {
   "cell_type": "code",
   "execution_count": 27,
   "id": "8597553e",
   "metadata": {},
   "outputs": [],
   "source": [
    "# Method to predict the top 3 moves and display them in order of probability\n",
    "def predict_top_moves(cpd, context):\n",
    "    \n",
    "    # Check if the context exists within the conditional probability distribution\n",
    "    if len(cpd[context].samples()) > 0:             \n",
    "        result_dict = {}\n",
    "\n",
    "        for move in cpd[context].samples():\n",
    "            result_dict[move] = cpd[context].prob(move)\n",
    "\n",
    "        values_sorted = dict(sorted(result_dict.items(), key=lambda item: item[1], reverse=True))\n",
    "        \n",
    "        # Print results\n",
    "         \n",
    "        counter = 0   \n",
    "        \n",
    "        if context == '<s>':\n",
    "            print('The most popular opening moves for white are:')\n",
    "        else:        \n",
    "            print(f'After {context}, the top most popular moves are:')\n",
    "            \n",
    "        for key, value in values_sorted.items():\n",
    "    \n",
    "            if counter < 3:\n",
    "                print(f'{key} : {round((value * 100), 2)}' + '%')\n",
    "                counter += 1\n",
    "    \n",
    "    else:\n",
    "        return f'No moves found after {context}'"
   ]
  },
  {
   "cell_type": "code",
   "execution_count": 28,
   "id": "116dc7f7",
   "metadata": {},
   "outputs": [
    {
     "name": "stdout",
     "output_type": "stream",
     "text": [
      "The most popular opening moves for white are:\n",
      "e4 : 44.12%\n",
      "d4 : 30.46%\n",
      "c4 : 12.36%\n"
     ]
    }
   ],
   "source": [
    "predict_top_moves(bigram_prob_dist, '<s>')"
   ]
  },
  {
   "cell_type": "markdown",
   "id": "f8c6b0a3-1e92-4a6e-98be-e13066ae1091",
   "metadata": {
    "tags": []
   },
   "source": [
    "\n",
    "\n",
    "### 4.2 N-gram Model<a class=\"anchor\" id=\"fine\"></a>"
   ]
  },
  {
   "cell_type": "markdown",
   "id": "32122241",
   "metadata": {},
   "source": [
    "The same steps that were taken to create the bigram model will be used to create the n-gram model.  However, the chess games lists will be created with a method, and the models will be created within a loop and stored in a dictionary for the predictions to call the correct model.  The goal is to create a method to accept a game and output the top moves directly without having to provide the method the correct model.  "
   ]
  },
  {
   "cell_type": "code",
   "execution_count": 29,
   "id": "82b21ffc",
   "metadata": {},
   "outputs": [],
   "source": [
    "# Create method to accept a chess game as a string of moves and output the game as a list with '.' removed \n",
    "# and '<s>' in first position\n",
    "\n",
    "def prepare_chess_game(chess_game):\n",
    "    \n",
    "    chess_game_as_list = chess_game.split(' ')\n",
    "    \n",
    "    # Add placeholder character for the start of the game\n",
    "    clean_moves = ['<s>']\n",
    "        \n",
    "    for move in chess_game_as_list:\n",
    "\n",
    "        # Remove the 1., 2., etc. from the moves list\n",
    "        if '.' not in move:\n",
    "            clean_moves.append(move)\n",
    "                \n",
    "        # Keep only the first nine moves (since the model will predict the tenth move maximum)\n",
    "        if len(clean_moves) > 10:\n",
    "            clean_moves = clean_moves[0:10]\n",
    "    \n",
    "    return clean_moves"
   ]
  },
  {
   "cell_type": "code",
   "execution_count": 30,
   "id": "3cd7eff7",
   "metadata": {},
   "outputs": [
    {
     "data": {
      "text/plain": [
       "['<s>', 'd4', 'Nf6', 'Nf3', 'e6', 'a3', 'd5', 'e3', 'Be7', 'Bd3']"
      ]
     },
     "execution_count": 30,
     "metadata": {},
     "output_type": "execute_result"
    }
   ],
   "source": [
    "prepare_chess_game(chess_games.iloc[0])"
   ]
  },
  {
   "cell_type": "code",
   "execution_count": 147,
   "id": "22ab207f",
   "metadata": {},
   "outputs": [],
   "source": [
    "def format_ngrams(training_games, n):\n",
    "    \n",
    "    # Create the games with the correct amount of moves from 0 to n else replace the game with None\n",
    "    training_games_list = list(pd.Series(training_games).apply(lambda x: x[0:n] if len(x) >= n else None))\n",
    "    \n",
    "    # Filter out games that are equal to None (not enough moves to format)\n",
    "    clean_training_games = [] \n",
    "    \n",
    "    for game in training_games_list:\n",
    "        if game != None:\n",
    "            clean_training_games.append(game)\n",
    "    \n",
    "    # Return the tuple format needed for the model based on the size of the ngram\n",
    "    if n == 3:\n",
    "        return [((w1, w2), w3) for w1, w2, w3 in clean_training_games]\n",
    "    elif n == 4:\n",
    "        return [((w1, w2, w3), w4) for w1, w2, w3, w4 in clean_training_games]\n",
    "    elif n == 5:\n",
    "        return [((w1, w2, w3, w4), w5) for w1, w2, w3, w4, w5 in clean_training_games]\n",
    "    elif n == 6:\n",
    "        return [((w1, w2, w3, w4, w5), w6) for w1, w2, w3, w4, w5, w6 in clean_training_games]\n",
    "    elif n == 7:\n",
    "        return [((w1, w2, w3, w4, w5, w6), w7) for w1, w2, w3, w4, w5, w6, w7 in clean_training_games]\n",
    "    elif n == 8:\n",
    "        return [((w1, w2, w3, w4, w5, w6, w7), w8) for w1, w2, w3, w4, w5, w6, w7, w8 in clean_training_games]\n",
    "    elif n == 9:\n",
    "        return [((w1, w2, w3, w4, w5, w6, w7, w8), w9) for w1, w2, w3, w4, w5, w6, w7, w8, w9 in clean_training_games]\n",
    "    elif n == 10:\n",
    "        return [((w1, w2, w3, w4, w5, w6, w7, w8, w9), w10) for w1, w2, w3, w4, w5, w6, w7, w8, w9, w10 in clean_training_games]\n",
    "    elif n == 11:\n",
    "        return [((w1, w2, w3, w4, w5, w6, w7, w8, w9, w10), w11) for w1, w2, w3, w4, w5, w6, w7, w8, w9, w10, w11 in clean_training_games]\n"
   ]
  },
  {
   "cell_type": "code",
   "execution_count": 155,
   "id": "a4514a87",
   "metadata": {},
   "outputs": [],
   "source": [
    "# Create a dictionary of probability distribution objects starting with the one already created for bigrams\n",
    "dist_prob_dict = {2: bigram_prob_dist}\n",
    "   \n",
    "# Create all of the other ngram models and add them to the dictionary using a loop\n",
    "for n in range(3,12):   \n",
    "    ngrams_chess_games = format_ngrams(clean_chess_games_list, n)\n",
    "    \n",
    "    current_model = ConditionalProbDist(ConditionalFreqDist(ngrams_chess_games), MLEProbDist)\n",
    "    \n",
    "    dist_prob_dict[n] = current_model"
   ]
  },
  {
   "cell_type": "code",
   "execution_count": 158,
   "id": "4a89f815",
   "metadata": {},
   "outputs": [
    {
     "data": {
      "text/plain": [
       "'e4'"
      ]
     },
     "execution_count": 158,
     "metadata": {},
     "output_type": "execute_result"
    }
   ],
   "source": [
    "dist_prob_dict[2]['<s>'].max()"
   ]
  },
  {
   "cell_type": "code",
   "execution_count": 185,
   "id": "c0d3a615",
   "metadata": {},
   "outputs": [],
   "source": [
    "# Method to predict the top 3 moves and display them in order of probability \n",
    "# This method only accepts the game and uses the correct model based on the length of the context\n",
    "def predict_top_moves_from_game(game):\n",
    "    \n",
    "    context = game\n",
    "    n = 2\n",
    "    \n",
    "    # Correct the context to a tuple for larger context sizes\n",
    "    if context != '<s>':\n",
    "        context = tuple(prepare_chess_game(game))\n",
    "        n = len(context) + 1\n",
    "        \n",
    "    model = dist_prob_dict[n]\n",
    "    \n",
    "    # Check if the context exists within the conditional probability distribution\n",
    "    if len(model[context].samples()) > 0:             \n",
    "        result_dict = {}\n",
    "\n",
    "        for move in model[context].samples():\n",
    "            result_dict[move] = model[context].prob(move)\n",
    "\n",
    "        values_sorted = dict(sorted(result_dict.items(), key=lambda item: item[1], reverse=True))\n",
    "        \n",
    "        # Print results\n",
    "         \n",
    "        counter = 0   \n",
    "        \n",
    "        if context == '<s>':\n",
    "            print('The most popular opening moves for white are:')\n",
    "        else:        \n",
    "            print(f'After {context[1:n]}, the top most popular moves are:')\n",
    "            \n",
    "        for key, value in values_sorted.items():\n",
    "    \n",
    "            if counter < 3:\n",
    "                print(f'{key} : {round((value * 100), 2)}' + '%')\n",
    "                counter += 1\n",
    "    \n",
    "    else:\n",
    "        return f'No moves found after {context}'"
   ]
  },
  {
   "cell_type": "code",
   "execution_count": 186,
   "id": "e37869ce",
   "metadata": {
    "scrolled": true
   },
   "outputs": [
    {
     "name": "stdout",
     "output_type": "stream",
     "text": [
      "The most popular opening moves for white are:\n",
      "e4 : 44.12%\n",
      "d4 : 30.46%\n",
      "c4 : 12.36%\n"
     ]
    }
   ],
   "source": [
    "predict_top_moves_from_game('<s>')"
   ]
  },
  {
   "cell_type": "code",
   "execution_count": 190,
   "id": "030935f4",
   "metadata": {},
   "outputs": [
    {
     "name": "stdout",
     "output_type": "stream",
     "text": [
      "After ('e4', 'd5'), the top most popular moves are:\n",
      "exd5 : 97.45%\n",
      "Nc3 : 1.27%\n",
      "d4 : 0.64%\n"
     ]
    }
   ],
   "source": [
    "predict_top_moves_from_game('1. e4 d5')"
   ]
  },
  {
   "cell_type": "markdown",
   "id": "f297d4ac",
   "metadata": {},
   "source": [
    "\n",
    "## **5. Model Evaluation** <a class=\"anchor\" id=\"evaluation\"></a>"
   ]
  },
  {
   "cell_type": "markdown",
   "id": "02d222db-87a3-4595-b5e7-76330a6057f3",
   "metadata": {
    "tags": []
   },
   "source": [
    "## **6. Conclusion** <a class=\"anchor\" id=\"conclude\"></a>"
   ]
  }
 ],
 "metadata": {
  "kernelspec": {
   "display_name": "Python 3 (ipykernel)",
   "language": "python",
   "name": "python3"
  },
  "language_info": {
   "codemirror_mode": {
    "name": "ipython",
    "version": 3
   },
   "file_extension": ".py",
   "mimetype": "text/x-python",
   "name": "python",
   "nbconvert_exporter": "python",
   "pygments_lexer": "ipython3",
   "version": "3.11.7"
  }
 },
 "nbformat": 4,
 "nbformat_minor": 5
}
