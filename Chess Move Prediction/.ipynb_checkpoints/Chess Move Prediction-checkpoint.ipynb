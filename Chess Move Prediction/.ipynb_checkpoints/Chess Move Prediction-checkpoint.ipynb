{
 "cells": [
  {
   "cell_type": "markdown",
   "id": "0eacd103-b8bc-41a6-b074-c5c9cf43c530",
   "metadata": {},
   "source": [
    "# <center>**Chess Move Prediction Model**</center>\n",
    "\n",
    "<img src='chess_board_pic.png'>\n",
    "\n",
    "## **Table of Contents**\n",
    "\n",
    "1. [Problem Statement](#problem)\n",
    "2. [Data Loading and Exploration](#data-loading)\n",
    "3. [Creating Sentence Structure](#sentence)\n",
    "4. [Model Selection and Training](#selection)\n",
    "[<ul>4.1 Bigram Model (Proof of Concept)</ul>](#initial)\n",
    "[<ul>4.2 N-Gram Model</ul>](#fine)\n",
    "5. [Model Evaluation](#evaluation)\n",
    "6. [Conclusion](#conclude)"
   ]
  },
  {
   "cell_type": "markdown",
   "id": "59812b81-3e6d-4918-b2da-4070c98a6d26",
   "metadata": {},
   "source": [
    "## **1. Problem Statement** <a class=\"anchor\" id=\"problem\"></a>"
   ]
  },
  {
   "cell_type": "markdown",
   "id": "e5ad7b4b-4a14-4db0-8873-8802dfb5ede3",
   "metadata": {},
   "source": [
    "The goal of this analysis is to create a model to predict the next move of a Chess game given the previous moves in the game using the [Chess Games Data](https://www.kaggle.com/datasets/rishidamarla/chess-games) from Kaggle.  \n",
    "\n",
    "The model could be used by someone to explore the types of moves strong players play in a given board position to improve their own skill.  Because the number of possible chess games rises exponentially with every move, this model will be limited to the first few moves."
   ]
  },
  {
   "cell_type": "markdown",
   "id": "654c30c0-3c6d-489f-968d-a5c555bc2e90",
   "metadata": {},
   "source": [
    "## **2. Data Loading and Exploration** <a class=\"anchor\" id=\"data-loading\"></a>"
   ]
  },
  {
   "cell_type": "code",
   "execution_count": 1,
   "id": "12e0d259-ee9c-4286-a53a-76ae45786a21",
   "metadata": {
    "tags": []
   },
   "outputs": [],
   "source": [
    "import numpy as np\n",
    "import pandas as pd\n",
    "import matplotlib.pyplot as plt\n",
    "import seaborn as sns"
   ]
  },
  {
   "cell_type": "code",
   "execution_count": 2,
   "id": "3c8c4b60",
   "metadata": {},
   "outputs": [
    {
     "data": {
      "text/html": [
       "<style>\n",
       "table {\n",
       "  float: left;\n",
       "}\n",
       "</style>\n"
      ],
      "text/plain": [
       "<IPython.core.display.HTML object>"
      ]
     },
     "metadata": {},
     "output_type": "display_data"
    }
   ],
   "source": [
    "%%html\n",
    "<style>\n",
    "table {\n",
    "  float: left;\n",
    "}\n",
    "</style>"
   ]
  },
  {
   "cell_type": "code",
   "execution_count": 3,
   "id": "96613904-45dd-4f1c-be7e-26e635f24b19",
   "metadata": {
    "tags": []
   },
   "outputs": [],
   "source": [
    "chess_data = pd.read_csv('chess_games.csv')"
   ]
  },
  {
   "cell_type": "code",
   "execution_count": 4,
   "id": "1220e7e2-0c86-4b66-b85e-4bdfb1875d50",
   "metadata": {
    "tags": []
   },
   "outputs": [
    {
     "data": {
      "text/html": [
       "<div>\n",
       "<style scoped>\n",
       "    .dataframe tbody tr th:only-of-type {\n",
       "        vertical-align: middle;\n",
       "    }\n",
       "\n",
       "    .dataframe tbody tr th {\n",
       "        vertical-align: top;\n",
       "    }\n",
       "\n",
       "    .dataframe thead th {\n",
       "        text-align: right;\n",
       "    }\n",
       "</style>\n",
       "<table border=\"1\" class=\"dataframe\">\n",
       "  <thead>\n",
       "    <tr style=\"text-align: right;\">\n",
       "      <th></th>\n",
       "      <th>Game</th>\n",
       "      <th>White</th>\n",
       "      <th>Black</th>\n",
       "      <th>White Elo</th>\n",
       "      <th>Black Elo</th>\n",
       "      <th>White RD</th>\n",
       "      <th>Black RD</th>\n",
       "      <th>WhiteIsComp</th>\n",
       "      <th>BlackIsComp</th>\n",
       "      <th>TimeControl</th>\n",
       "      <th>Date</th>\n",
       "      <th>Time</th>\n",
       "      <th>White Clock</th>\n",
       "      <th>Black Clock</th>\n",
       "      <th>ECO</th>\n",
       "      <th>PlyCount</th>\n",
       "      <th>Result</th>\n",
       "      <th>Result-Winner</th>\n",
       "      <th>Commentaries</th>\n",
       "      <th>Moves</th>\n",
       "    </tr>\n",
       "  </thead>\n",
       "  <tbody>\n",
       "    <tr>\n",
       "      <th>0</th>\n",
       "      <td>\"fjjvh\" vs \"FishTest\"</td>\n",
       "      <td>fjjvh</td>\n",
       "      <td>FishTest</td>\n",
       "      <td>818</td>\n",
       "      <td>3204</td>\n",
       "      <td>70.3</td>\n",
       "      <td>51.6</td>\n",
       "      <td>Yes</td>\n",
       "      <td>Yes</td>\n",
       "      <td>60+0</td>\n",
       "      <td>2016.08.28</td>\n",
       "      <td>11:13:00</td>\n",
       "      <td>01:00.0</td>\n",
       "      <td>01:00.0</td>\n",
       "      <td>A13</td>\n",
       "      <td>64</td>\n",
       "      <td>0-1</td>\n",
       "      <td>Black</td>\n",
       "      <td>White checkmated</td>\n",
       "      <td>1. e4 e6 2. d4 d5 3. Nd2 c5 4. exd5 exd5 5. Bb...</td>\n",
       "    </tr>\n",
       "    <tr>\n",
       "      <th>1</th>\n",
       "      <td>\"fjjvh\" vs \"birdcostello\"</td>\n",
       "      <td>fjjvh</td>\n",
       "      <td>birdcostello</td>\n",
       "      <td>831</td>\n",
       "      <td>3213</td>\n",
       "      <td>69.8</td>\n",
       "      <td>45.9</td>\n",
       "      <td>Yes</td>\n",
       "      <td>Yes</td>\n",
       "      <td>120+0</td>\n",
       "      <td>2016.08.11</td>\n",
       "      <td>15:16:00</td>\n",
       "      <td>02:00.0</td>\n",
       "      <td>02:00.0</td>\n",
       "      <td>C20</td>\n",
       "      <td>24</td>\n",
       "      <td>0-1</td>\n",
       "      <td>Black</td>\n",
       "      <td>White checkmated</td>\n",
       "      <td>1. d4 d5 2. c4 e6 3. Nf3 Nf6 4. g3 c5 5. Bg2 c...</td>\n",
       "    </tr>\n",
       "  </tbody>\n",
       "</table>\n",
       "</div>"
      ],
      "text/plain": [
       "                         Game  White         Black  White Elo  Black Elo  \\\n",
       "0       \"fjjvh\" vs \"FishTest\"  fjjvh      FishTest        818       3204   \n",
       "1   \"fjjvh\" vs \"birdcostello\"  fjjvh  birdcostello        831       3213   \n",
       "\n",
       "   White RD  Black RD WhiteIsComp BlackIsComp TimeControl        Date  \\\n",
       "0      70.3      51.6         Yes         Yes        60+0  2016.08.28   \n",
       "1      69.8      45.9         Yes         Yes       120+0  2016.08.11   \n",
       "\n",
       "       Time White Clock Black Clock  ECO  PlyCount Result Result-Winner  \\\n",
       "0  11:13:00     01:00.0     01:00.0  A13        64    0-1         Black   \n",
       "1  15:16:00     02:00.0     02:00.0  C20        24    0-1         Black   \n",
       "\n",
       "       Commentaries                                              Moves  \n",
       "0  White checkmated  1. e4 e6 2. d4 d5 3. Nd2 c5 4. exd5 exd5 5. Bb...  \n",
       "1  White checkmated  1. d4 d5 2. c4 e6 3. Nf3 Nf6 4. g3 c5 5. Bg2 c...  "
      ]
     },
     "execution_count": 4,
     "metadata": {},
     "output_type": "execute_result"
    }
   ],
   "source": [
    "chess_data.head(2)"
   ]
  },
  {
   "cell_type": "code",
   "execution_count": 5,
   "id": "bb4af241",
   "metadata": {},
   "outputs": [
    {
     "data": {
      "text/plain": [
       "0"
      ]
     },
     "execution_count": 5,
     "metadata": {},
     "output_type": "execute_result"
    }
   ],
   "source": [
    "chess_data.duplicated().sum()"
   ]
  },
  {
   "cell_type": "markdown",
   "id": "46f1c971",
   "metadata": {},
   "source": [
    "There are no duplicated rows in the dataset."
   ]
  },
  {
   "cell_type": "code",
   "execution_count": 6,
   "id": "25e64c78-0a02-46c2-a59e-54236d2b8b93",
   "metadata": {
    "tags": []
   },
   "outputs": [
    {
     "data": {
      "text/plain": [
       "(48871, 20)"
      ]
     },
     "execution_count": 6,
     "metadata": {},
     "output_type": "execute_result"
    }
   ],
   "source": [
    "chess_data.shape"
   ]
  },
  {
   "cell_type": "markdown",
   "id": "6959cec4-b498-4644-9af0-4e233e28ae2b",
   "metadata": {},
   "source": [
    "The dataset contains around 49,000 rows with 20 columns.  However, the model will only use the <code>Moves</code> column, which contains the algebraic chess move notation for the games.  For more on chess notation, please see this [link](https://www.chess.com/terms/chess-notation).  "
   ]
  },
  {
   "cell_type": "code",
   "execution_count": 7,
   "id": "e0996900-d11f-4a19-ab8f-529d6ba7b557",
   "metadata": {
    "tags": []
   },
   "outputs": [
    {
     "name": "stdout",
     "output_type": "stream",
     "text": [
      "<class 'pandas.core.frame.DataFrame'>\n",
      "RangeIndex: 48871 entries, 0 to 48870\n",
      "Data columns (total 20 columns):\n",
      " #   Column         Non-Null Count  Dtype  \n",
      "---  ------         --------------  -----  \n",
      " 0   Game           48871 non-null  object \n",
      " 1   White          48871 non-null  object \n",
      " 2   Black          48871 non-null  object \n",
      " 3   White Elo      48871 non-null  int64  \n",
      " 4   Black Elo      48871 non-null  int64  \n",
      " 5   White RD       48871 non-null  float64\n",
      " 6   Black RD       48871 non-null  float64\n",
      " 7   WhiteIsComp    48871 non-null  object \n",
      " 8   BlackIsComp    48871 non-null  object \n",
      " 9   TimeControl    48871 non-null  object \n",
      " 10  Date           48871 non-null  object \n",
      " 11  Time           48871 non-null  object \n",
      " 12  White Clock    48871 non-null  object \n",
      " 13  Black Clock    48871 non-null  object \n",
      " 14  ECO            48871 non-null  object \n",
      " 15  PlyCount       48871 non-null  int64  \n",
      " 16  Result         48871 non-null  object \n",
      " 17  Result-Winner  48871 non-null  object \n",
      " 18  Commentaries   48871 non-null  object \n",
      " 19  Moves          48871 non-null  object \n",
      "dtypes: float64(2), int64(3), object(15)\n",
      "memory usage: 7.5+ MB\n"
     ]
    }
   ],
   "source": [
    "chess_data.info()"
   ]
  },
  {
   "cell_type": "code",
   "execution_count": 8,
   "id": "335115bc",
   "metadata": {},
   "outputs": [
    {
     "data": {
      "text/plain": [
       "0"
      ]
     },
     "execution_count": 8,
     "metadata": {},
     "output_type": "execute_result"
    }
   ],
   "source": [
    "chess_data.isna().sum().sum()"
   ]
  },
  {
   "cell_type": "markdown",
   "id": "1d9eb0fc",
   "metadata": {},
   "source": [
    "The dataset contains no missing values."
   ]
  },
  {
   "cell_type": "code",
   "execution_count": 9,
   "id": "1735340e",
   "metadata": {
    "scrolled": true
   },
   "outputs": [
    {
     "data": {
      "text/html": [
       "<div>\n",
       "<style scoped>\n",
       "    .dataframe tbody tr th:only-of-type {\n",
       "        vertical-align: middle;\n",
       "    }\n",
       "\n",
       "    .dataframe tbody tr th {\n",
       "        vertical-align: top;\n",
       "    }\n",
       "\n",
       "    .dataframe thead th {\n",
       "        text-align: right;\n",
       "    }\n",
       "</style>\n",
       "<table border=\"1\" class=\"dataframe\">\n",
       "  <thead>\n",
       "    <tr style=\"text-align: right;\">\n",
       "      <th></th>\n",
       "      <th>White Elo</th>\n",
       "      <th>Black Elo</th>\n",
       "      <th>White RD</th>\n",
       "      <th>Black RD</th>\n",
       "      <th>PlyCount</th>\n",
       "    </tr>\n",
       "  </thead>\n",
       "  <tbody>\n",
       "    <tr>\n",
       "      <th>count</th>\n",
       "      <td>48871.000000</td>\n",
       "      <td>48871.000000</td>\n",
       "      <td>48871.000000</td>\n",
       "      <td>48871.000000</td>\n",
       "      <td>48871.000000</td>\n",
       "    </tr>\n",
       "    <tr>\n",
       "      <th>mean</th>\n",
       "      <td>2533.101471</td>\n",
       "      <td>2534.359579</td>\n",
       "      <td>37.259143</td>\n",
       "      <td>37.184960</td>\n",
       "      <td>123.753535</td>\n",
       "    </tr>\n",
       "    <tr>\n",
       "      <th>std</th>\n",
       "      <td>295.777722</td>\n",
       "      <td>293.918720</td>\n",
       "      <td>21.276387</td>\n",
       "      <td>20.934625</td>\n",
       "      <td>59.452701</td>\n",
       "    </tr>\n",
       "    <tr>\n",
       "      <th>min</th>\n",
       "      <td>818.000000</td>\n",
       "      <td>831.000000</td>\n",
       "      <td>0.000000</td>\n",
       "      <td>0.000000</td>\n",
       "      <td>0.000000</td>\n",
       "    </tr>\n",
       "    <tr>\n",
       "      <th>25%</th>\n",
       "      <td>2334.000000</td>\n",
       "      <td>2338.000000</td>\n",
       "      <td>25.700000</td>\n",
       "      <td>25.700000</td>\n",
       "      <td>82.000000</td>\n",
       "    </tr>\n",
       "    <tr>\n",
       "      <th>50%</th>\n",
       "      <td>2492.000000</td>\n",
       "      <td>2496.000000</td>\n",
       "      <td>32.900000</td>\n",
       "      <td>33.000000</td>\n",
       "      <td>117.000000</td>\n",
       "    </tr>\n",
       "    <tr>\n",
       "      <th>75%</th>\n",
       "      <td>2759.000000</td>\n",
       "      <td>2759.000000</td>\n",
       "      <td>43.000000</td>\n",
       "      <td>43.000000</td>\n",
       "      <td>152.000000</td>\n",
       "    </tr>\n",
       "    <tr>\n",
       "      <th>max</th>\n",
       "      <td>3308.000000</td>\n",
       "      <td>3315.000000</td>\n",
       "      <td>350.000000</td>\n",
       "      <td>350.000000</td>\n",
       "      <td>575.000000</td>\n",
       "    </tr>\n",
       "  </tbody>\n",
       "</table>\n",
       "</div>"
      ],
      "text/plain": [
       "          White Elo     Black Elo      White RD      Black RD      PlyCount\n",
       "count  48871.000000  48871.000000  48871.000000  48871.000000  48871.000000\n",
       "mean    2533.101471   2534.359579     37.259143     37.184960    123.753535\n",
       "std      295.777722    293.918720     21.276387     20.934625     59.452701\n",
       "min      818.000000    831.000000      0.000000      0.000000      0.000000\n",
       "25%     2334.000000   2338.000000     25.700000     25.700000     82.000000\n",
       "50%     2492.000000   2496.000000     32.900000     33.000000    117.000000\n",
       "75%     2759.000000   2759.000000     43.000000     43.000000    152.000000\n",
       "max     3308.000000   3315.000000    350.000000    350.000000    575.000000"
      ]
     },
     "execution_count": 9,
     "metadata": {},
     "output_type": "execute_result"
    }
   ],
   "source": [
    "chess_data.describe()"
   ]
  },
  {
   "cell_type": "markdown",
   "id": "8343f16f",
   "metadata": {},
   "source": [
    "<code>White Elo</code> and <code>Black Elo</code> represent the strength of the players.  The lowest rating for a chess master is 2200 (National Master rating).  Since we want this model to predict the moves of the strong players, the data will be filtered to only include games where both players have an Elo above 2200.  "
   ]
  },
  {
   "cell_type": "code",
   "execution_count": 14,
   "id": "61ae8ce4",
   "metadata": {},
   "outputs": [],
   "source": [
    "chess_data_above_2200 = chess_data[(chess_data['White Elo'] >= 2200) & (chess_data['Black Elo'] >= 2200)]"
   ]
  },
  {
   "cell_type": "code",
   "execution_count": 15,
   "id": "0999cb57",
   "metadata": {},
   "outputs": [
    {
     "data": {
      "text/html": [
       "<div>\n",
       "<style scoped>\n",
       "    .dataframe tbody tr th:only-of-type {\n",
       "        vertical-align: middle;\n",
       "    }\n",
       "\n",
       "    .dataframe tbody tr th {\n",
       "        vertical-align: top;\n",
       "    }\n",
       "\n",
       "    .dataframe thead th {\n",
       "        text-align: right;\n",
       "    }\n",
       "</style>\n",
       "<table border=\"1\" class=\"dataframe\">\n",
       "  <thead>\n",
       "    <tr style=\"text-align: right;\">\n",
       "      <th></th>\n",
       "      <th>White Elo</th>\n",
       "      <th>Black Elo</th>\n",
       "      <th>White RD</th>\n",
       "      <th>Black RD</th>\n",
       "      <th>PlyCount</th>\n",
       "    </tr>\n",
       "  </thead>\n",
       "  <tbody>\n",
       "    <tr>\n",
       "      <th>count</th>\n",
       "      <td>40652.000000</td>\n",
       "      <td>40652.000000</td>\n",
       "      <td>40652.000000</td>\n",
       "      <td>40652.000000</td>\n",
       "      <td>40652.000000</td>\n",
       "    </tr>\n",
       "    <tr>\n",
       "      <th>mean</th>\n",
       "      <td>2594.645208</td>\n",
       "      <td>2595.367879</td>\n",
       "      <td>36.826658</td>\n",
       "      <td>36.754056</td>\n",
       "      <td>131.905515</td>\n",
       "    </tr>\n",
       "    <tr>\n",
       "      <th>std</th>\n",
       "      <td>250.885942</td>\n",
       "      <td>249.066088</td>\n",
       "      <td>19.222952</td>\n",
       "      <td>19.032530</td>\n",
       "      <td>58.865347</td>\n",
       "    </tr>\n",
       "    <tr>\n",
       "      <th>min</th>\n",
       "      <td>2200.000000</td>\n",
       "      <td>2200.000000</td>\n",
       "      <td>0.000000</td>\n",
       "      <td>0.000000</td>\n",
       "      <td>0.000000</td>\n",
       "    </tr>\n",
       "    <tr>\n",
       "      <th>25%</th>\n",
       "      <td>2389.000000</td>\n",
       "      <td>2390.000000</td>\n",
       "      <td>25.500000</td>\n",
       "      <td>25.500000</td>\n",
       "      <td>93.000000</td>\n",
       "    </tr>\n",
       "    <tr>\n",
       "      <th>50%</th>\n",
       "      <td>2542.000000</td>\n",
       "      <td>2544.000000</td>\n",
       "      <td>32.500000</td>\n",
       "      <td>32.500000</td>\n",
       "      <td>124.000000</td>\n",
       "    </tr>\n",
       "    <tr>\n",
       "      <th>75%</th>\n",
       "      <td>2789.000000</td>\n",
       "      <td>2789.000000</td>\n",
       "      <td>43.000000</td>\n",
       "      <td>43.000000</td>\n",
       "      <td>159.000000</td>\n",
       "    </tr>\n",
       "    <tr>\n",
       "      <th>max</th>\n",
       "      <td>3308.000000</td>\n",
       "      <td>3315.000000</td>\n",
       "      <td>310.100000</td>\n",
       "      <td>312.400000</td>\n",
       "      <td>575.000000</td>\n",
       "    </tr>\n",
       "  </tbody>\n",
       "</table>\n",
       "</div>"
      ],
      "text/plain": [
       "          White Elo     Black Elo      White RD      Black RD      PlyCount\n",
       "count  40652.000000  40652.000000  40652.000000  40652.000000  40652.000000\n",
       "mean    2594.645208   2595.367879     36.826658     36.754056    131.905515\n",
       "std      250.885942    249.066088     19.222952     19.032530     58.865347\n",
       "min     2200.000000   2200.000000      0.000000      0.000000      0.000000\n",
       "25%     2389.000000   2390.000000     25.500000     25.500000     93.000000\n",
       "50%     2542.000000   2544.000000     32.500000     32.500000    124.000000\n",
       "75%     2789.000000   2789.000000     43.000000     43.000000    159.000000\n",
       "max     3308.000000   3315.000000    310.100000    312.400000    575.000000"
      ]
     },
     "execution_count": 15,
     "metadata": {},
     "output_type": "execute_result"
    }
   ],
   "source": [
    "chess_data_above_2200.describe()"
   ]
  },
  {
   "cell_type": "code",
   "execution_count": 16,
   "id": "4b9113e7",
   "metadata": {},
   "outputs": [
    {
     "data": {
      "text/plain": [
       "(40652, 20)"
      ]
     },
     "execution_count": 16,
     "metadata": {},
     "output_type": "execute_result"
    }
   ],
   "source": [
    "chess_data_above_2200.shape"
   ]
  },
  {
   "cell_type": "markdown",
   "id": "3ff75830",
   "metadata": {},
   "source": [
    "There are still 40,000 games within the dataset where both players are above 2200 Elo, which is more than enough to build the model."
   ]
  },
  {
   "cell_type": "markdown",
   "id": "4ffa4671-ea17-414e-8b9d-90c771ea9159",
   "metadata": {},
   "source": [
    "## **3. Creating Sentence Structure** <a class=\"anchor\" id=\"sentence\"></a>"
   ]
  },
  {
   "cell_type": "markdown",
   "id": "3722730a",
   "metadata": {},
   "source": [
    "The N-gram model will require the data as a list of sentences where the sentences should be a list of each word in the sentence.  Since we are analyzing chess games, each word will be a full chess move (ex. Nf5, O-O, dxe5, etc.).  Also, because chess moves have special characters, the data will not be tokenized like it would be for a typical NLP model.  They will simply be split by characters within the data to accomplish the goal of having each list item being a specific move.  "
   ]
  },
  {
   "cell_type": "code",
   "execution_count": 19,
   "id": "1a1b46f6",
   "metadata": {},
   "outputs": [],
   "source": [
    "chess_games = chess_data_above_2200['Moves']"
   ]
  },
  {
   "cell_type": "code",
   "execution_count": 20,
   "id": "8df2b82c",
   "metadata": {},
   "outputs": [
    {
     "data": {
      "text/plain": [
       "4673    1. d4 Nf6 2. Nf3 e6 3. a3 d5 4. e3 Be7 5. Bd3 ...\n",
       "4681    1. e4 e5 2. Nf3 Nc6 3. Bc4 Nf6 4. Ng5 d5 5. ex...\n",
       "4682    1. e4 e6 2. d4 d5 3. Nd2 c5 4. exd5 Qxd5 5. Ng...\n",
       "4686    1. e4 e6 2. d4 d5 3. Nd2 c5 4. exd5 exd5 5. Ng...\n",
       "4687    1. e4 c6 2. d4 d5 3. e5 Bf5 4. Nf3 e6 5. Be2 c...\n",
       "Name: Moves, dtype: object"
      ]
     },
     "execution_count": 20,
     "metadata": {},
     "output_type": "execute_result"
    }
   ],
   "source": [
    "chess_games.head()"
   ]
  },
  {
   "cell_type": "markdown",
   "id": "ba2798ed",
   "metadata": {},
   "source": []
  },
  {
   "cell_type": "markdown",
   "id": "868bf651-bd87-4e51-8a93-81a7a0c30c11",
   "metadata": {},
   "source": [
    "## **4. Model Selection and Training** <a class=\"anchor\" id=\"selection\"></a>"
   ]
  },
  {
   "cell_type": "markdown",
   "id": "37201a22-10da-410a-9e0a-33ebd0fe65a2",
   "metadata": {},
   "source": [
    "### 4.1 Bigram Model (Proof of Concept) <a class=\"anchor\" id=\"initial\"></a>"
   ]
  },
  {
   "cell_type": "markdown",
   "id": "f8c6b0a3-1e92-4a6e-98be-e13066ae1091",
   "metadata": {
    "tags": []
   },
   "source": [
    "\n",
    "\n",
    "### 4.2 N-Gram Model<a class=\"anchor\" id=\"fine\"></a>"
   ]
  },
  {
   "cell_type": "markdown",
   "id": "f297d4ac",
   "metadata": {},
   "source": [
    "\n",
    "## **5. Model Evaluation** <a class=\"anchor\" id=\"evaluation\"></a>"
   ]
  },
  {
   "cell_type": "markdown",
   "id": "02d222db-87a3-4595-b5e7-76330a6057f3",
   "metadata": {
    "tags": []
   },
   "source": [
    "## **6. Conclusion** <a class=\"anchor\" id=\"conclude\"></a>"
   ]
  }
 ],
 "metadata": {
  "kernelspec": {
   "display_name": "Python 3 (ipykernel)",
   "language": "python",
   "name": "python3"
  },
  "language_info": {
   "codemirror_mode": {
    "name": "ipython",
    "version": 3
   },
   "file_extension": ".py",
   "mimetype": "text/x-python",
   "name": "python",
   "nbconvert_exporter": "python",
   "pygments_lexer": "ipython3",
   "version": "3.11.7"
  }
 },
 "nbformat": 4,
 "nbformat_minor": 5
}
